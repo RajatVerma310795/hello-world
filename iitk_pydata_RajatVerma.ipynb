{
  "nbformat": 4,
  "nbformat_minor": 0,
  "metadata": {
    "colab": {
      "name": "iitk_pydata_RajatVerma.ipynb",
      "version": "0.3.2",
      "provenance": [],
      "collapsed_sections": [],
      "include_colab_link": true
    },
    "kernelspec": {
      "name": "python3",
      "display_name": "Python 3"
    }
  },
  "cells": [
    {
      "cell_type": "markdown",
      "metadata": {
        "id": "view-in-github",
        "colab_type": "text"
      },
      "source": [
        "<a href=\"https://colab.research.google.com/github/RajatVerma310795/hello-world/blob/master/iitk_pydata_RajatVerma.ipynb\" target=\"_parent\"><img src=\"https://colab.research.google.com/assets/colab-badge.svg\" alt=\"Open In Colab\"/></a>"
      ]
    },
    {
      "cell_type": "code",
      "metadata": {
        "id": "3LQd-5SRLSKj",
        "colab_type": "code",
        "outputId": "0a4fb623-0899-4d1f-887f-5b3910b48b21",
        "colab": {
          "base_uri": "https://localhost:8080/",
          "height": 34
        }
      },
      "source": [
        "a=10\n",
        "b=20\n",
        "a+b\n",
        "a-b"
      ],
      "execution_count": 0,
      "outputs": [
        {
          "output_type": "execute_result",
          "data": {
            "text/plain": [
              "-10"
            ]
          },
          "metadata": {
            "tags": []
          },
          "execution_count": 2
        }
      ]
    },
    {
      "cell_type": "code",
      "metadata": {
        "id": "fwwjFlEkaG6U",
        "colab_type": "code",
        "outputId": "7add0190-1d91-4e09-cfba-21215900ea13",
        "colab": {
          "base_uri": "https://localhost:8080/",
          "height": 34
        }
      },
      "source": [
        "x=4\n",
        "if x>0:\n",
        "  print(\"no is positive\")"
      ],
      "execution_count": 0,
      "outputs": [
        {
          "output_type": "stream",
          "text": [
            "no is positive\n"
          ],
          "name": "stdout"
        }
      ]
    },
    {
      "cell_type": "code",
      "metadata": {
        "id": "upLMFi5IbHH-",
        "colab_type": "code",
        "colab": {}
      },
      "source": [
        "y=7\n",
        "if y%5==0:\n",
        "  print(\"no is divisible by 5\")\n",
        "  "
      ],
      "execution_count": 0,
      "outputs": []
    },
    {
      "cell_type": "code",
      "metadata": {
        "id": "Zm6iUKf0bm8_",
        "colab_type": "code",
        "outputId": "019b258c-c840-4cdc-e622-c49f5794af85",
        "colab": {
          "base_uri": "https://localhost:8080/",
          "height": 51
        }
      },
      "source": [
        "u= input (\"enter a number\")\n",
        "if x>0:\n",
        "  print(\"no is positive\")\n",
        "  "
      ],
      "execution_count": 0,
      "outputs": [
        {
          "output_type": "stream",
          "text": [
            "enter a number31\n",
            "no is positive\n"
          ],
          "name": "stdout"
        }
      ]
    },
    {
      "cell_type": "code",
      "metadata": {
        "id": "QMJ4Glwrcbd-",
        "colab_type": "code",
        "outputId": "0b00bbab-2259-4b8d-a11f-b81218190a2f",
        "colab": {
          "base_uri": "https://localhost:8080/",
          "height": 52
        }
      },
      "source": [
        "u= input (\"enter a number\")\n",
        "if x>=0:\n",
        "  print(\"no is positive\")\n",
        "  "
      ],
      "execution_count": 0,
      "outputs": [
        {
          "output_type": "stream",
          "text": [
            "enter a number31\n",
            "no is positive\n"
          ],
          "name": "stdout"
        }
      ]
    },
    {
      "cell_type": "code",
      "metadata": {
        "id": "4smIXwpscKAm",
        "colab_type": "code",
        "outputId": "92fad57e-c62c-40e2-811f-ad95b594f928",
        "colab": {
          "base_uri": "https://localhost:8080/",
          "height": 132
        }
      },
      "source": [
        "name=Rajat\n",
        "if name=Rajat:\n",
        "  print ('HeyBuddy')\n",
        "  else:\n",
        "  print('hello stranger')"
      ],
      "execution_count": 0,
      "outputs": [
        {
          "output_type": "error",
          "ename": "SyntaxError",
          "evalue": "ignored",
          "traceback": [
            "\u001b[0;36m  File \u001b[0;32m\"<ipython-input-16-ee39d5fa685c>\"\u001b[0;36m, line \u001b[0;32m2\u001b[0m\n\u001b[0;31m    if name=Rajat:\u001b[0m\n\u001b[0m           ^\u001b[0m\n\u001b[0;31mSyntaxError\u001b[0m\u001b[0;31m:\u001b[0m invalid syntax\n"
          ]
        }
      ]
    },
    {
      "cell_type": "code",
      "metadata": {
        "id": "UdRw9HqAd-JK",
        "colab_type": "code",
        "outputId": "d586144d-96f6-42cc-a31f-6a251723f65c",
        "colab": {
          "base_uri": "https://localhost:8080/",
          "height": 132
        }
      },
      "source": [
        "c=input('Enter the number for creating its table')\n",
        "\n",
        "for i in range(1, 11):\n",
        "   print(num,'x',i,'=',num*i)"
      ],
      "execution_count": 0,
      "outputs": [
        {
          "output_type": "error",
          "ename": "SyntaxError",
          "evalue": "ignored",
          "traceback": [
            "\u001b[0;36m  File \u001b[0;32m\"<ipython-input-18-5a7b1b618225>\"\u001b[0;36m, line \u001b[0;32m2\u001b[0m\n\u001b[0;31m    int num\u001b[0m\n\u001b[0m          ^\u001b[0m\n\u001b[0;31mSyntaxError\u001b[0m\u001b[0;31m:\u001b[0m invalid syntax\n"
          ]
        }
      ]
    },
    {
      "cell_type": "code",
      "metadata": {
        "id": "d-dbydyOe3gp",
        "colab_type": "code",
        "outputId": "a3be1e7c-12aa-4c62-c5b5-901dab5aabfd",
        "colab": {
          "base_uri": "https://localhost:8080/",
          "height": 547
        }
      },
      "source": [
        "x=input(\"enter a number\")\n",
        "while i<=10:\n",
        "\tprint(i*14)\n",
        "\ti=i+1"
      ],
      "execution_count": 0,
      "outputs": [
        {
          "output_type": "error",
          "ename": "KeyboardInterrupt",
          "evalue": "ignored",
          "traceback": [
            "\u001b[0;31m---------------------------------------------------------------------------\u001b[0m",
            "\u001b[0;31mKeyboardInterrupt\u001b[0m                         Traceback (most recent call last)",
            "\u001b[0;32m/usr/local/lib/python3.6/dist-packages/ipykernel/kernelbase.py\u001b[0m in \u001b[0;36m_input_request\u001b[0;34m(self, prompt, ident, parent, password)\u001b[0m\n\u001b[1;32m    729\u001b[0m             \u001b[0;32mtry\u001b[0m\u001b[0;34m:\u001b[0m\u001b[0;34m\u001b[0m\u001b[0;34m\u001b[0m\u001b[0m\n\u001b[0;32m--> 730\u001b[0;31m                 \u001b[0mident\u001b[0m\u001b[0;34m,\u001b[0m \u001b[0mreply\u001b[0m \u001b[0;34m=\u001b[0m \u001b[0mself\u001b[0m\u001b[0;34m.\u001b[0m\u001b[0msession\u001b[0m\u001b[0;34m.\u001b[0m\u001b[0mrecv\u001b[0m\u001b[0;34m(\u001b[0m\u001b[0mself\u001b[0m\u001b[0;34m.\u001b[0m\u001b[0mstdin_socket\u001b[0m\u001b[0;34m,\u001b[0m \u001b[0;36m0\u001b[0m\u001b[0;34m)\u001b[0m\u001b[0;34m\u001b[0m\u001b[0;34m\u001b[0m\u001b[0m\n\u001b[0m\u001b[1;32m    731\u001b[0m             \u001b[0;32mexcept\u001b[0m \u001b[0mException\u001b[0m\u001b[0;34m:\u001b[0m\u001b[0;34m\u001b[0m\u001b[0;34m\u001b[0m\u001b[0m\n",
            "\u001b[0;32m/usr/local/lib/python3.6/dist-packages/jupyter_client/session.py\u001b[0m in \u001b[0;36mrecv\u001b[0;34m(self, socket, mode, content, copy)\u001b[0m\n\u001b[1;32m    802\u001b[0m         \u001b[0;32mtry\u001b[0m\u001b[0;34m:\u001b[0m\u001b[0;34m\u001b[0m\u001b[0;34m\u001b[0m\u001b[0m\n\u001b[0;32m--> 803\u001b[0;31m             \u001b[0mmsg_list\u001b[0m \u001b[0;34m=\u001b[0m \u001b[0msocket\u001b[0m\u001b[0;34m.\u001b[0m\u001b[0mrecv_multipart\u001b[0m\u001b[0;34m(\u001b[0m\u001b[0mmode\u001b[0m\u001b[0;34m,\u001b[0m \u001b[0mcopy\u001b[0m\u001b[0;34m=\u001b[0m\u001b[0mcopy\u001b[0m\u001b[0;34m)\u001b[0m\u001b[0;34m\u001b[0m\u001b[0;34m\u001b[0m\u001b[0m\n\u001b[0m\u001b[1;32m    804\u001b[0m         \u001b[0;32mexcept\u001b[0m \u001b[0mzmq\u001b[0m\u001b[0;34m.\u001b[0m\u001b[0mZMQError\u001b[0m \u001b[0;32mas\u001b[0m \u001b[0me\u001b[0m\u001b[0;34m:\u001b[0m\u001b[0;34m\u001b[0m\u001b[0;34m\u001b[0m\u001b[0m\n",
            "\u001b[0;32m/usr/local/lib/python3.6/dist-packages/zmq/sugar/socket.py\u001b[0m in \u001b[0;36mrecv_multipart\u001b[0;34m(self, flags, copy, track)\u001b[0m\n\u001b[1;32m    465\u001b[0m         \"\"\"\n\u001b[0;32m--> 466\u001b[0;31m         \u001b[0mparts\u001b[0m \u001b[0;34m=\u001b[0m \u001b[0;34m[\u001b[0m\u001b[0mself\u001b[0m\u001b[0;34m.\u001b[0m\u001b[0mrecv\u001b[0m\u001b[0;34m(\u001b[0m\u001b[0mflags\u001b[0m\u001b[0;34m,\u001b[0m \u001b[0mcopy\u001b[0m\u001b[0;34m=\u001b[0m\u001b[0mcopy\u001b[0m\u001b[0;34m,\u001b[0m \u001b[0mtrack\u001b[0m\u001b[0;34m=\u001b[0m\u001b[0mtrack\u001b[0m\u001b[0;34m)\u001b[0m\u001b[0;34m]\u001b[0m\u001b[0;34m\u001b[0m\u001b[0;34m\u001b[0m\u001b[0m\n\u001b[0m\u001b[1;32m    467\u001b[0m         \u001b[0;31m# have first part already, only loop while more to receive\u001b[0m\u001b[0;34m\u001b[0m\u001b[0;34m\u001b[0m\u001b[0;34m\u001b[0m\u001b[0m\n",
            "\u001b[0;32mzmq/backend/cython/socket.pyx\u001b[0m in \u001b[0;36mzmq.backend.cython.socket.Socket.recv\u001b[0;34m()\u001b[0m\n",
            "\u001b[0;32mzmq/backend/cython/socket.pyx\u001b[0m in \u001b[0;36mzmq.backend.cython.socket.Socket.recv\u001b[0;34m()\u001b[0m\n",
            "\u001b[0;32mzmq/backend/cython/socket.pyx\u001b[0m in \u001b[0;36mzmq.backend.cython.socket._recv_copy\u001b[0;34m()\u001b[0m\n",
            "\u001b[0;32m/usr/local/lib/python3.6/dist-packages/zmq/backend/cython/checkrc.pxd\u001b[0m in \u001b[0;36mzmq.backend.cython.checkrc._check_rc\u001b[0;34m()\u001b[0m\n",
            "\u001b[0;31mKeyboardInterrupt\u001b[0m: ",
            "\nDuring handling of the above exception, another exception occurred:\n",
            "\u001b[0;31mKeyboardInterrupt\u001b[0m                         Traceback (most recent call last)",
            "\u001b[0;32m<ipython-input-19-abdfccfefdac>\u001b[0m in \u001b[0;36m<module>\u001b[0;34m()\u001b[0m\n\u001b[0;32m----> 1\u001b[0;31m \u001b[0mx\u001b[0m\u001b[0;34m=\u001b[0m\u001b[0minput\u001b[0m\u001b[0;34m(\u001b[0m\u001b[0;34m\"enter a number\"\u001b[0m\u001b[0;34m)\u001b[0m\u001b[0;34m\u001b[0m\u001b[0;34m\u001b[0m\u001b[0m\n\u001b[0m\u001b[1;32m      2\u001b[0m \u001b[0;32mwhile\u001b[0m \u001b[0mi\u001b[0m\u001b[0;34m<=\u001b[0m\u001b[0;36m10\u001b[0m\u001b[0;34m:\u001b[0m\u001b[0;34m\u001b[0m\u001b[0;34m\u001b[0m\u001b[0m\n\u001b[1;32m      3\u001b[0m         \u001b[0mprint\u001b[0m\u001b[0;34m(\u001b[0m\u001b[0mi\u001b[0m\u001b[0;34m*\u001b[0m\u001b[0;36m14\u001b[0m\u001b[0;34m)\u001b[0m\u001b[0;34m\u001b[0m\u001b[0;34m\u001b[0m\u001b[0m\n\u001b[1;32m      4\u001b[0m         \u001b[0mi\u001b[0m\u001b[0;34m=\u001b[0m\u001b[0mi\u001b[0m\u001b[0;34m+\u001b[0m\u001b[0;36m1\u001b[0m\u001b[0;34m\u001b[0m\u001b[0;34m\u001b[0m\u001b[0m\n",
            "\u001b[0;32m/usr/local/lib/python3.6/dist-packages/ipykernel/kernelbase.py\u001b[0m in \u001b[0;36mraw_input\u001b[0;34m(self, prompt)\u001b[0m\n\u001b[1;32m    703\u001b[0m             \u001b[0mself\u001b[0m\u001b[0;34m.\u001b[0m\u001b[0m_parent_ident\u001b[0m\u001b[0;34m,\u001b[0m\u001b[0;34m\u001b[0m\u001b[0;34m\u001b[0m\u001b[0m\n\u001b[1;32m    704\u001b[0m             \u001b[0mself\u001b[0m\u001b[0;34m.\u001b[0m\u001b[0m_parent_header\u001b[0m\u001b[0;34m,\u001b[0m\u001b[0;34m\u001b[0m\u001b[0;34m\u001b[0m\u001b[0m\n\u001b[0;32m--> 705\u001b[0;31m             \u001b[0mpassword\u001b[0m\u001b[0;34m=\u001b[0m\u001b[0;32mFalse\u001b[0m\u001b[0;34m,\u001b[0m\u001b[0;34m\u001b[0m\u001b[0;34m\u001b[0m\u001b[0m\n\u001b[0m\u001b[1;32m    706\u001b[0m         )\n\u001b[1;32m    707\u001b[0m \u001b[0;34m\u001b[0m\u001b[0m\n",
            "\u001b[0;32m/usr/local/lib/python3.6/dist-packages/ipykernel/kernelbase.py\u001b[0m in \u001b[0;36m_input_request\u001b[0;34m(self, prompt, ident, parent, password)\u001b[0m\n\u001b[1;32m    733\u001b[0m             \u001b[0;32mexcept\u001b[0m \u001b[0mKeyboardInterrupt\u001b[0m\u001b[0;34m:\u001b[0m\u001b[0;34m\u001b[0m\u001b[0;34m\u001b[0m\u001b[0m\n\u001b[1;32m    734\u001b[0m                 \u001b[0;31m# re-raise KeyboardInterrupt, to truncate traceback\u001b[0m\u001b[0;34m\u001b[0m\u001b[0;34m\u001b[0m\u001b[0;34m\u001b[0m\u001b[0m\n\u001b[0;32m--> 735\u001b[0;31m                 \u001b[0;32mraise\u001b[0m \u001b[0mKeyboardInterrupt\u001b[0m\u001b[0;34m\u001b[0m\u001b[0;34m\u001b[0m\u001b[0m\n\u001b[0m\u001b[1;32m    736\u001b[0m             \u001b[0;32melse\u001b[0m\u001b[0;34m:\u001b[0m\u001b[0;34m\u001b[0m\u001b[0;34m\u001b[0m\u001b[0m\n\u001b[1;32m    737\u001b[0m                 \u001b[0;32mbreak\u001b[0m\u001b[0;34m\u001b[0m\u001b[0;34m\u001b[0m\u001b[0m\n",
            "\u001b[0;31mKeyboardInterrupt\u001b[0m: "
          ]
        }
      ]
    },
    {
      "cell_type": "code",
      "metadata": {
        "id": "BDdTAo-mfPZJ",
        "colab_type": "code",
        "colab": {}
      },
      "source": [
        "hile num <= 10:\n",
        "    i = 1\n",
        "    while i <= 10:\n",
        "        product = num*i\n",
        "        print(num, \" * \", i, \" = \", product, \"\\n\")\n",
        "        i = i + 1\n",
        "    num = num + 1\n",
        "    print(\"\\n\")"
      ],
      "execution_count": 0,
      "outputs": []
    },
    {
      "cell_type": "code",
      "metadata": {
        "id": "1oPo_q1qfij-",
        "colab_type": "code",
        "outputId": "6fd8000b-be67-43d5-f4fa-83368ec2fa3f",
        "colab": {
          "base_uri": "https://localhost:8080/",
          "height": 212
        }
      },
      "source": [
        "num = int(input('Enter the number you want the multiplication table for:'))\n",
        "i=1\n",
        "while i<=10:\n",
        "  product = num*i\n",
        "  print(product)\n",
        "  i=i+1 \n"
      ],
      "execution_count": 0,
      "outputs": [
        {
          "output_type": "stream",
          "text": [
            "Enter the number you want the multiplication table for:5\n",
            "5\n",
            "10\n",
            "15\n",
            "20\n",
            "25\n",
            "30\n",
            "35\n",
            "40\n",
            "45\n",
            "50\n"
          ],
          "name": "stdout"
        }
      ]
    },
    {
      "cell_type": "code",
      "metadata": {
        "id": "SAcZUbLtfj1S",
        "colab_type": "code",
        "outputId": "8676dbf3-acb1-4808-dadf-d1d588970359",
        "colab": {
          "base_uri": "https://localhost:8080/",
          "height": 123
        }
      },
      "source": [
        "num = int(input('Enter the number you want the multiplication table for:'))\n",
        "i=1\n",
        "while i<=10:\n",
        "  product = num*i\n",
        "  print(product)\n",
        "  i=i+2 \n"
      ],
      "execution_count": 0,
      "outputs": [
        {
          "output_type": "stream",
          "text": [
            "Enter the number you want the multiplication table for:7\n",
            "7\n",
            "21\n",
            "35\n",
            "49\n",
            "63\n"
          ],
          "name": "stdout"
        }
      ]
    },
    {
      "cell_type": "code",
      "metadata": {
        "id": "Dl3gCt7Sh3Ih",
        "colab_type": "code",
        "outputId": "fcccab91-86bb-4878-845a-258a35e72e1b",
        "colab": {
          "base_uri": "https://localhost:8080/",
          "height": 34
        }
      },
      "source": [
        "z=[\"apple\",\"banana\",\"kiwi\"]\n",
        "print (z[0:1])"
      ],
      "execution_count": 0,
      "outputs": [
        {
          "output_type": "stream",
          "text": [
            "['apple']\n"
          ],
          "name": "stdout"
        }
      ]
    },
    {
      "cell_type": "code",
      "metadata": {
        "id": "vYHHC5Odoxc-",
        "colab_type": "code",
        "outputId": "d075774d-1ec8-40b5-af7d-618fef21b472",
        "colab": {
          "base_uri": "https://localhost:8080/",
          "height": 34
        }
      },
      "source": [
        "z=[\"apple\",\"banana\",\"kiwi\"]\n",
        "z.sort()\n",
        "z"
      ],
      "execution_count": 0,
      "outputs": [
        {
          "output_type": "execute_result",
          "data": {
            "text/plain": [
              "['apple', 'banana', 'kiwi']"
            ]
          },
          "metadata": {
            "tags": []
          },
          "execution_count": 30
        }
      ]
    },
    {
      "cell_type": "code",
      "metadata": {
        "id": "FQM7_9BvpIpT",
        "colab_type": "code",
        "outputId": "bc47e6b3-16f3-4099-b755-2f672b66be2c",
        "colab": {
          "base_uri": "https://localhost:8080/",
          "height": 185
        }
      },
      "source": [
        "z=[\"apple\",\"banana\",\"kiwi\"]\n",
        "sort(z)\n"
      ],
      "execution_count": 0,
      "outputs": [
        {
          "output_type": "error",
          "ename": "NameError",
          "evalue": "ignored",
          "traceback": [
            "\u001b[0;31m---------------------------------------------------------------------------\u001b[0m",
            "\u001b[0;31mNameError\u001b[0m                                 Traceback (most recent call last)",
            "\u001b[0;32m<ipython-input-31-784bd6980831>\u001b[0m in \u001b[0;36m<module>\u001b[0;34m()\u001b[0m\n\u001b[1;32m      1\u001b[0m \u001b[0mz\u001b[0m\u001b[0;34m=\u001b[0m\u001b[0;34m[\u001b[0m\u001b[0;34m\"apple\"\u001b[0m\u001b[0;34m,\u001b[0m\u001b[0;34m\"banana\"\u001b[0m\u001b[0;34m,\u001b[0m\u001b[0;34m\"kiwi\"\u001b[0m\u001b[0;34m]\u001b[0m\u001b[0;34m\u001b[0m\u001b[0;34m\u001b[0m\u001b[0m\n\u001b[0;32m----> 2\u001b[0;31m \u001b[0msort\u001b[0m\u001b[0;34m(\u001b[0m\u001b[0mz\u001b[0m\u001b[0;34m)\u001b[0m\u001b[0;34m\u001b[0m\u001b[0;34m\u001b[0m\u001b[0m\n\u001b[0m",
            "\u001b[0;31mNameError\u001b[0m: name 'sort' is not defined"
          ]
        }
      ]
    },
    {
      "cell_type": "code",
      "metadata": {
        "id": "5rWRqxExpC8n",
        "colab_type": "code",
        "colab": {}
      },
      "source": [
        "range?\n"
      ],
      "execution_count": 0,
      "outputs": []
    },
    {
      "cell_type": "code",
      "metadata": {
        "id": "db8f29pKpe1U",
        "colab_type": "code",
        "outputId": "444b8539-a468-4926-c6cf-f25314d76d1e",
        "colab": {
          "base_uri": "https://localhost:8080/",
          "height": 132
        }
      },
      "source": [
        "z=[\"apple\",\"banana\",\"axe\"]\n",
        "z.sort\n",
        "print z\n"
      ],
      "execution_count": 0,
      "outputs": [
        {
          "output_type": "error",
          "ename": "SyntaxError",
          "evalue": "ignored",
          "traceback": [
            "\u001b[0;36m  File \u001b[0;32m\"<ipython-input-33-2fc01db3e7e6>\"\u001b[0;36m, line \u001b[0;32m3\u001b[0m\n\u001b[0;31m    print z\u001b[0m\n\u001b[0m          ^\u001b[0m\n\u001b[0;31mSyntaxError\u001b[0m\u001b[0;31m:\u001b[0m Missing parentheses in call to 'print'. Did you mean print(z)?\n"
          ]
        }
      ]
    },
    {
      "cell_type": "code",
      "metadata": {
        "id": "kI4A0QPMp0yx",
        "colab_type": "code",
        "outputId": "754f874c-9176-42e2-8ba5-db7539952e59",
        "colab": {
          "base_uri": "https://localhost:8080/",
          "height": 34
        }
      },
      "source": [
        "z=[\"apple\",\"banana\",\"axe\"]\n",
        "z.sort()\n",
        "print(z)"
      ],
      "execution_count": 0,
      "outputs": [
        {
          "output_type": "stream",
          "text": [
            "['apple', 'axe', 'banana']\n"
          ],
          "name": "stdout"
        }
      ]
    },
    {
      "cell_type": "code",
      "metadata": {
        "id": "QDTDlhUnqP9f",
        "colab_type": "code",
        "outputId": "2bcd3852-ec0a-442f-98cc-8257265d9f50",
        "colab": {
          "base_uri": "https://localhost:8080/",
          "height": 34
        }
      },
      "source": [
        "z=[\"apple\",\"banana\",\"axe\"]\n",
        "z.append(\"Dragonfruit\")\n",
        "print(z)"
      ],
      "execution_count": 0,
      "outputs": [
        {
          "output_type": "stream",
          "text": [
            "['apple', 'banana', 'axe', 'Dragonfruit']\n"
          ],
          "name": "stdout"
        }
      ]
    },
    {
      "cell_type": "code",
      "metadata": {
        "id": "JR7zCS_AqbyJ",
        "colab_type": "code",
        "colab": {}
      },
      "source": [
        "z=[\"apple\",\"banana\",\"axe\"]\n",
        "z.append(\"Dragonfruit\")\n",
        "print(z)"
      ],
      "execution_count": 0,
      "outputs": []
    },
    {
      "cell_type": "code",
      "metadata": {
        "id": "q1Vy0MVCqBij",
        "colab_type": "code",
        "outputId": "2104504a-ba08-42da-dc50-4ca7474dae3f",
        "colab": {
          "base_uri": "https://localhost:8080/",
          "height": 132
        }
      },
      "source": [
        "L = [1, \"a\" , \"string\" , 1+2] \n",
        "print L "
      ],
      "execution_count": 0,
      "outputs": [
        {
          "output_type": "error",
          "ename": "SyntaxError",
          "evalue": "ignored",
          "traceback": [
            "\u001b[0;36m  File \u001b[0;32m\"<ipython-input-38-f6b4ff0d2212>\"\u001b[0;36m, line \u001b[0;32m2\u001b[0m\n\u001b[0;31m    print L\u001b[0m\n\u001b[0m          ^\u001b[0m\n\u001b[0;31mSyntaxError\u001b[0m\u001b[0;31m:\u001b[0m Missing parentheses in call to 'print'. Did you mean print(L)?\n"
          ]
        }
      ]
    },
    {
      "cell_type": "code",
      "metadata": {
        "id": "DSSt84Zw45z7",
        "colab_type": "code",
        "outputId": "d8dc6259-fdc8-4d75-de61-c4348ba4a978",
        "colab": {
          "base_uri": "https://localhost:8080/",
          "height": 34
        }
      },
      "source": [
        "L = [1, \"a\" , \"string\" , 1+2] \n",
        "print (\"L\")"
      ],
      "execution_count": 0,
      "outputs": [
        {
          "output_type": "stream",
          "text": [
            "L\n"
          ],
          "name": "stdout"
        }
      ]
    },
    {
      "cell_type": "code",
      "metadata": {
        "id": "edxuACdmo_k6",
        "colab_type": "code",
        "outputId": "9327294e-9d74-413e-99b1-30f4502998ad",
        "colab": {
          "base_uri": "https://localhost:8080/",
          "height": 34
        }
      },
      "source": [
        "L = [1, \"a\" , \"string\" , 1+2] \n",
        "print (L)"
      ],
      "execution_count": 0,
      "outputs": [
        {
          "output_type": "stream",
          "text": [
            "[1, 'a', 'string', 3]\n"
          ],
          "name": "stdout"
        }
      ]
    },
    {
      "cell_type": "code",
      "metadata": {
        "id": "ANIMnm96fnie",
        "colab_type": "code",
        "outputId": "daa2e8d0-1717-442b-fe59-a8d2a86a65ed",
        "colab": {
          "base_uri": "https://localhost:8080/",
          "height": 70
        }
      },
      "source": [
        "tup = (1, \"a\", \"string\", 1+2) \n",
        "print (tup) \n",
        "print (tup[1])\n",
        "print (tup[2]) "
      ],
      "execution_count": 0,
      "outputs": [
        {
          "output_type": "stream",
          "text": [
            "(1, 'a', 'string', 3)\n",
            "a\n",
            "string\n"
          ],
          "name": "stdout"
        }
      ]
    },
    {
      "cell_type": "code",
      "metadata": {
        "id": "W0jrwqk65Z7J",
        "colab_type": "code",
        "outputId": "54782938-cef1-4725-e0fc-5f62d5586a62",
        "colab": {
          "base_uri": "https://localhost:8080/",
          "height": 34
        }
      },
      "source": [
        "a = \"This is a string\"\n",
        "print (a) "
      ],
      "execution_count": 0,
      "outputs": [
        {
          "output_type": "stream",
          "text": [
            "This is a string\n"
          ],
          "name": "stdout"
        }
      ]
    },
    {
      "cell_type": "code",
      "metadata": {
        "id": "UVYTSwwC5hzv",
        "colab_type": "code",
        "outputId": "ea4c81fd-2afd-4a56-f38a-b776360ff0f4",
        "colab": {
          "base_uri": "https://localhost:8080/",
          "height": 87
        }
      },
      "source": [
        "k=[\"a\",\"b\",\"c\",'d']\n",
        "for q in k:\n",
        "  print(q)"
      ],
      "execution_count": 0,
      "outputs": [
        {
          "output_type": "stream",
          "text": [
            "a\n",
            "b\n",
            "c\n",
            "d\n"
          ],
          "name": "stdout"
        }
      ]
    },
    {
      "cell_type": "code",
      "metadata": {
        "id": "Zx_svHnW7sKh",
        "colab_type": "code",
        "colab": {}
      },
      "source": [
        ""
      ],
      "execution_count": 0,
      "outputs": []
    },
    {
      "cell_type": "markdown",
      "metadata": {
        "id": "QIs2SuQR74XH",
        "colab_type": "text"
      },
      "source": [
        "Write a program that asks user to enter ten words, one at a time and print thse words in sorted order\n"
      ]
    },
    {
      "cell_type": "code",
      "metadata": {
        "id": "r1s5qB91e8jJ",
        "colab_type": "code",
        "outputId": "4a2c4fe2-3375-43c3-b5b5-a8ad4aac3ca9",
        "colab": {
          "base_uri": "https://localhost:8080/",
          "height": 123
        }
      },
      "source": [
        "my_str = \"Hello my name is rajat\"\n",
        "words = my_str.split()\n",
        "words.sort()\n",
        "print(\"The sorted words are:\")\n",
        "for word in words:\n",
        "   print(word)"
      ],
      "execution_count": 0,
      "outputs": [
        {
          "output_type": "stream",
          "text": [
            "The sorted words are:\n",
            "Hello\n",
            "is\n",
            "my\n",
            "name\n",
            "rajat\n"
          ],
          "name": "stdout"
        }
      ]
    },
    {
      "cell_type": "code",
      "metadata": {
        "id": "4LpjSoOf-8oZ",
        "colab_type": "code",
        "outputId": "4a1f8355-e36a-483f-e930-50156c51b751",
        "colab": {
          "base_uri": "https://localhost:8080/",
          "height": 212
        }
      },
      "source": [
        "x=[]\n",
        "for i in range (0,10):\n",
        "  x.append(input(\"words\"))\n",
        "x.sort()\n",
        "print(x)\n",
        "  "
      ],
      "execution_count": 0,
      "outputs": [
        {
          "output_type": "stream",
          "text": [
            "wordsi\n",
            "wordsam\n",
            "wordsrajat\n",
            "wordsverma\n",
            "wordsfrom\n",
            "wordspsit\n",
            "wordskanpur\n",
            "wordsand \n",
            "wordsi belong\n",
            "wordsto kanpur\n",
            "['am', 'and ', 'from', 'i', 'i belong', 'kanpur', 'psit', 'rajat', 'to kanpur', 'verma']\n"
          ],
          "name": "stdout"
        }
      ]
    },
    {
      "cell_type": "code",
      "metadata": {
        "id": "ArAZSznA_3Iq",
        "colab_type": "code",
        "colab": {}
      },
      "source": [
        ""
      ],
      "execution_count": 0,
      "outputs": []
    },
    {
      "cell_type": "code",
      "metadata": {
        "id": "lWFhzTTx_ii4",
        "colab_type": "code",
        "colab": {}
      },
      "source": [
        ""
      ],
      "execution_count": 0,
      "outputs": []
    },
    {
      "cell_type": "code",
      "metadata": {
        "id": "WdmYW0Ne_YEY",
        "colab_type": "code",
        "colab": {}
      },
      "source": [
        ""
      ],
      "execution_count": 0,
      "outputs": []
    },
    {
      "cell_type": "code",
      "metadata": {
        "id": "UBmZBLRv9M8V",
        "colab_type": "code",
        "colab": {}
      },
      "source": [
        ""
      ],
      "execution_count": 0,
      "outputs": []
    },
    {
      "cell_type": "markdown",
      "metadata": {
        "id": "G8Pgu5pa9VrW",
        "colab_type": "text"
      },
      "source": [
        "write a program that prints the sum of all even numbers between 1 to 1000\n"
      ]
    },
    {
      "cell_type": "code",
      "metadata": {
        "id": "2aGTq3EA9GKt",
        "colab_type": "code",
        "outputId": "e9d69b06-b4c6-4eaa-b127-4f10ab5359e2",
        "colab": {
          "base_uri": "https://localhost:8080/",
          "height": 52
        }
      },
      "source": [
        "n=int(input('Enter the limit '))\n",
        "i=1\n",
        "sum=0\n",
        "while i<n:\n",
        "    if i%2==0:\n",
        "        sum=sum+i\n",
        "    i=i+1\n",
        "print ('Sum of even numbers',sum)\n"
      ],
      "execution_count": 0,
      "outputs": [
        {
          "output_type": "stream",
          "text": [
            "Enter the limit 10\n",
            "Sum of even numbers 20\n"
          ],
          "name": "stdout"
        }
      ]
    },
    {
      "cell_type": "code",
      "metadata": {
        "id": "xQ3VtWnN-l7n",
        "colab_type": "code",
        "outputId": "c2dff225-171b-47fc-e800-783c75369dfa",
        "colab": {
          "base_uri": "https://localhost:8080/",
          "height": 52
        }
      },
      "source": [
        "n=int(input('Enter the limit '))\n",
        "i=1\n",
        "sum=0\n",
        "while i<n:\n",
        "    if i%2==0:\n",
        "        sum=sum+i\n",
        "    i=i+1\n",
        "print ('Sum of even numbers',sum)\n"
      ],
      "execution_count": 0,
      "outputs": [
        {
          "output_type": "stream",
          "text": [
            "Enter the limit 1000\n",
            "Sum of even numbers 249500\n"
          ],
          "name": "stdout"
        }
      ]
    },
    {
      "cell_type": "code",
      "metadata": {
        "id": "dN232S2K_Ban",
        "colab_type": "code",
        "outputId": "5b6be118-0e9b-4330-d824-16df24bbd94b",
        "colab": {
          "base_uri": "https://localhost:8080/",
          "height": 34
        }
      },
      "source": [
        "car={'make':'BMW'}\n",
        "car.get('make')"
      ],
      "execution_count": 0,
      "outputs": [
        {
          "output_type": "execute_result",
          "data": {
            "text/plain": [
              "'BMW'"
            ]
          },
          "metadata": {
            "tags": []
          },
          "execution_count": 54
        }
      ]
    },
    {
      "cell_type": "code",
      "metadata": {
        "id": "0ba22TYeCWr2",
        "colab_type": "code",
        "outputId": "be0fca56-0c6f-4904-8734-f1f245940c9f",
        "colab": {
          "base_uri": "https://localhost:8080/",
          "height": 52
        }
      },
      "source": [
        "nterms = 10\n",
        "n1 = 0\n",
        "n2 = 1\n",
        "count = 0\n",
        "if nterms <= 0:\n",
        "   print(\"Please enter a positive integer\")\n",
        "elif nterms == 1:\n",
        "   print(\"Fibonacci sequence upto\",nterms,\":\")\n",
        "   print(n1)\n",
        "else:\n",
        "   print(\"Fibonacci sequence upto\",nterms,\":\")\n",
        "   while count < nterms:\n",
        "       print(n1,end=' , ')\n",
        "       nth = n1 + n2\n",
        "       # update values\n",
        "       n1 = n2\n",
        "       n2 = nth\n",
        "       count += 1\n"
      ],
      "execution_count": 0,
      "outputs": [
        {
          "output_type": "stream",
          "text": [
            "Fibonacci sequence upto 10 :\n",
            "0 , 1 , 1 , 2 , 3 , 5 , 8 , 13 , 21 , 34 , "
          ],
          "name": "stdout"
        }
      ]
    },
    {
      "cell_type": "code",
      "metadata": {
        "id": "CmfeKi92Fork",
        "colab_type": "code",
        "outputId": "ea6cbd67-a903-408f-ef78-2e5291fa6c8e",
        "colab": {
          "base_uri": "https://localhost:8080/",
          "height": 52
        }
      },
      "source": [
        "x=1\n",
        "y=2\n",
        "z=3\n",
        "def abc(x,y,z):\n",
        "  x=10\n",
        "  y=20\n",
        "  z=30\n",
        "  print(x,y,z)\n",
        "abc(x,y,z)\n",
        "print(x,y,z)"
      ],
      "execution_count": 0,
      "outputs": [
        {
          "output_type": "stream",
          "text": [
            "10 20 30\n",
            "1 2 3\n"
          ],
          "name": "stdout"
        }
      ]
    },
    {
      "cell_type": "code",
      "metadata": {
        "id": "7U-8LyKlFims",
        "colab_type": "code",
        "outputId": "a40107b1-3c7a-487c-c22e-630f369fdc7d",
        "colab": {
          "base_uri": "https://localhost:8080/",
          "height": 34
        }
      },
      "source": [
        "x=[1,2,3]\n",
        "def abc (x):\n",
        "  x[0]=10\n",
        "  x[1]=20\n",
        "  x[2]=30\n",
        "abc(x)\n",
        "print(x)\n",
        "  "
      ],
      "execution_count": 0,
      "outputs": [
        {
          "output_type": "stream",
          "text": [
            "[10, 20, 30]\n"
          ],
          "name": "stdout"
        }
      ]
    },
    {
      "cell_type": "code",
      "metadata": {
        "id": "55X7wfaFLFHK",
        "colab_type": "code",
        "outputId": "212cc685-9752-42ae-994a-d883ebcc6b35",
        "colab": {
          "base_uri": "https://localhost:8080/",
          "height": 34
        }
      },
      "source": [
        "x=[1,2,3]\n",
        "z=x.copy()\n",
        "def abc (x):\n",
        "  x[0]=10\n",
        "  x[1]=20\n",
        "  x[2]=30\n",
        "abc(z)\n",
        "print(z)"
      ],
      "execution_count": 0,
      "outputs": [
        {
          "output_type": "stream",
          "text": [
            "[10, 20, 30]\n"
          ],
          "name": "stdout"
        }
      ]
    },
    {
      "cell_type": "code",
      "metadata": {
        "id": "WdWfpXo6eTxw",
        "colab_type": "code",
        "outputId": "097ec0e3-2bd8-41ed-acec-3271cc510ab4",
        "colab": {
          "base_uri": "https://localhost:8080/",
          "height": 52
        }
      },
      "source": [
        "x=[1,2,3]\n",
        "z=x\n",
        "def abc (z):\n",
        "  x[0]=10\n",
        "  x[1]=20\n",
        "  x[2]=30\n",
        "abc(z)\n",
        "print(x)\n",
        "print(z)"
      ],
      "execution_count": 0,
      "outputs": [
        {
          "output_type": "stream",
          "text": [
            "[10, 20, 30]\n",
            "[10, 20, 30]\n"
          ],
          "name": "stdout"
        }
      ]
    },
    {
      "cell_type": "code",
      "metadata": {
        "id": "hSX6IBOMdcNs",
        "colab_type": "code",
        "outputId": "32fc56fc-df9b-4b15-e8a4-76bdb43a91c4",
        "colab": {
          "base_uri": "https://localhost:8080/",
          "height": 34
        }
      },
      "source": [
        "def func1(x,y=2,z=3):\n",
        "  return x+y+z\n",
        "func1(10,3,z=4)"
      ],
      "execution_count": 0,
      "outputs": [
        {
          "output_type": "execute_result",
          "data": {
            "text/plain": [
              "17"
            ]
          },
          "metadata": {
            "tags": []
          },
          "execution_count": 71
        }
      ]
    },
    {
      "cell_type": "code",
      "metadata": {
        "id": "QgD2JJGOdUwC",
        "colab_type": "code",
        "outputId": "439ecb6c-0a6b-4528-a651-aa99b9c6e91b",
        "colab": {
          "base_uri": "https://localhost:8080/",
          "height": 52
        }
      },
      "source": [
        "def mysum(x,y,*args):\n",
        "  print(len(args))\n",
        "  return sum(args)\n",
        "mysum(1,2,3,4,5)"
      ],
      "execution_count": 0,
      "outputs": [
        {
          "output_type": "stream",
          "text": [
            "3\n"
          ],
          "name": "stdout"
        },
        {
          "output_type": "execute_result",
          "data": {
            "text/plain": [
              "12"
            ]
          },
          "metadata": {
            "tags": []
          },
          "execution_count": 1
        }
      ]
    },
    {
      "cell_type": "code",
      "metadata": {
        "id": "qjxLquDnRITc",
        "colab_type": "code",
        "outputId": "80c1451f-a6b0-4a39-e6a1-359709cd9ed9",
        "colab": {
          "base_uri": "https://localhost:8080/",
          "height": 70
        }
      },
      "source": [
        "def mysum(x,y,z,*args,**kwargs):\n",
        "  print(args)\n",
        "  print(kwargs)\n",
        "  return sum(args)\n",
        "mysum(1,2,3,4,5)"
      ],
      "execution_count": 0,
      "outputs": [
        {
          "output_type": "stream",
          "text": [
            "(4, 5)\n",
            "{}\n"
          ],
          "name": "stdout"
        },
        {
          "output_type": "execute_result",
          "data": {
            "text/plain": [
              "9"
            ]
          },
          "metadata": {
            "tags": []
          },
          "execution_count": 2
        }
      ]
    },
    {
      "cell_type": "code",
      "metadata": {
        "id": "d1LvCxaWRaFL",
        "colab_type": "code",
        "outputId": "75b4bf2a-7609-4f07-a2f1-d5bf40898250",
        "colab": {
          "base_uri": "https://localhost:8080/",
          "height": 70
        }
      },
      "source": [
        "def mysum(x,y,z,*args,**kwargs):\n",
        "  print(args)\n",
        "  print(kwargs)\n",
        "  return sum(args)\n",
        "mysum(1,2,5,a=7,r=5)"
      ],
      "execution_count": 0,
      "outputs": [
        {
          "output_type": "stream",
          "text": [
            "()\n",
            "{'a': 7, 'r': 5}\n"
          ],
          "name": "stdout"
        },
        {
          "output_type": "execute_result",
          "data": {
            "text/plain": [
              "0"
            ]
          },
          "metadata": {
            "tags": []
          },
          "execution_count": 3
        }
      ]
    },
    {
      "cell_type": "code",
      "metadata": {
        "id": "8SxghQToRxBf",
        "colab_type": "code",
        "outputId": "432a78f5-e314-43f7-a601-b766f31e823b",
        "colab": {
          "base_uri": "https://localhost:8080/",
          "height": 70
        }
      },
      "source": [
        "i=[1,2,5,6,5,8]\n",
        "j={'a':7,'r':5}\n",
        "mysum(*i,**j)"
      ],
      "execution_count": 0,
      "outputs": [
        {
          "output_type": "stream",
          "text": [
            "(6, 5, 8)\n",
            "{'a': 7, 'r': 5}\n"
          ],
          "name": "stdout"
        },
        {
          "output_type": "execute_result",
          "data": {
            "text/plain": [
              "19"
            ]
          },
          "metadata": {
            "tags": []
          },
          "execution_count": 4
        }
      ]
    },
    {
      "cell_type": "code",
      "metadata": {
        "id": "PKR0ufvbYN0u",
        "colab_type": "code",
        "outputId": "089718d3-c08a-43df-c0b2-b232f99423da",
        "colab": {
          "base_uri": "https://localhost:8080/",
          "height": 34
        }
      },
      "source": [
        "x=1\n",
        "y=2\n",
        "z=3\n",
        "def myfunc(x,y,z):\n",
        "  print(x,y,z)\n",
        "myfunc(1,3,4)"
      ],
      "execution_count": 0,
      "outputs": [
        {
          "output_type": "stream",
          "text": [
            "1 3 4\n"
          ],
          "name": "stdout"
        }
      ]
    },
    {
      "cell_type": "code",
      "metadata": {
        "id": "LRl7IyTlat8k",
        "colab_type": "code",
        "outputId": "8e92c1ed-8809-4db0-be4e-908cd6f737cb",
        "colab": {
          "base_uri": "https://localhost:8080/",
          "height": 203
        }
      },
      "source": [
        "def spam():\n",
        "  eggs=31337\n",
        "spam()\n",
        "print(eggs)"
      ],
      "execution_count": 0,
      "outputs": [
        {
          "output_type": "error",
          "ename": "NameError",
          "evalue": "ignored",
          "traceback": [
            "\u001b[0;31m---------------------------------------------------------------------------\u001b[0m",
            "\u001b[0;31mNameError\u001b[0m                                 Traceback (most recent call last)",
            "\u001b[0;32m<ipython-input-9-eb7219fae6d7>\u001b[0m in \u001b[0;36m<module>\u001b[0;34m()\u001b[0m\n\u001b[1;32m      2\u001b[0m   \u001b[0meggs\u001b[0m\u001b[0;34m=\u001b[0m\u001b[0;36m31337\u001b[0m\u001b[0;34m\u001b[0m\u001b[0;34m\u001b[0m\u001b[0m\n\u001b[1;32m      3\u001b[0m \u001b[0mspam\u001b[0m\u001b[0;34m(\u001b[0m\u001b[0;34m)\u001b[0m\u001b[0;34m\u001b[0m\u001b[0;34m\u001b[0m\u001b[0m\n\u001b[0;32m----> 4\u001b[0;31m \u001b[0mprint\u001b[0m\u001b[0;34m(\u001b[0m\u001b[0meggs\u001b[0m\u001b[0;34m)\u001b[0m\u001b[0;34m\u001b[0m\u001b[0;34m\u001b[0m\u001b[0m\n\u001b[0m",
            "\u001b[0;31mNameError\u001b[0m: name 'eggs' is not defined"
          ]
        }
      ]
    },
    {
      "cell_type": "code",
      "metadata": {
        "id": "BKYfCiXncEyZ",
        "colab_type": "code",
        "outputId": "3f01baf6-0ea2-4f92-e2f9-042ca2c2f09b",
        "colab": {
          "base_uri": "https://localhost:8080/",
          "height": 52
        }
      },
      "source": [
        "def spam():\n",
        "  print(eggs)\n",
        "eggs=42\n",
        "spam()\n",
        "print(eggs)"
      ],
      "execution_count": 0,
      "outputs": [
        {
          "output_type": "stream",
          "text": [
            "42\n",
            "42\n"
          ],
          "name": "stdout"
        }
      ]
    },
    {
      "cell_type": "code",
      "metadata": {
        "id": "6TnZw57wcV-h",
        "colab_type": "code",
        "outputId": "0e9756f4-bc54-4e4f-8bdd-4e260986616a",
        "colab": {
          "base_uri": "https://localhost:8080/",
          "height": 34
        }
      },
      "source": [
        "def spam():\n",
        "  global eggs\n",
        "  eggs='spam'\n",
        "eggs='global'\n",
        "spam()\n",
        "print(eggs)"
      ],
      "execution_count": 0,
      "outputs": [
        {
          "output_type": "stream",
          "text": [
            "spam\n"
          ],
          "name": "stdout"
        }
      ]
    },
    {
      "cell_type": "code",
      "metadata": {
        "id": "0z2ryBx1ckht",
        "colab_type": "code",
        "outputId": "4846d2ac-065f-442b-b177-d37bdaad5624",
        "colab": {
          "base_uri": "https://localhost:8080/",
          "height": 34
        }
      },
      "source": [
        "def spam():\n",
        "  global eggs\n",
        "  eggs='spam'\n",
        "def bacon():\n",
        "  eggs='bacon'\n",
        "  def ham():\n",
        "    print(eggs)\n",
        "eggs=42\n",
        "spam()\n",
        "print(eggs)"
      ],
      "execution_count": 0,
      "outputs": [
        {
          "output_type": "stream",
          "text": [
            "spam\n"
          ],
          "name": "stdout"
        }
      ]
    },
    {
      "cell_type": "code",
      "metadata": {
        "id": "8oUAybBqdIUn",
        "colab_type": "code",
        "outputId": "2bc5b7c3-f12c-498a-d928-4247c1691659",
        "colab": {
          "base_uri": "https://localhost:8080/",
          "height": 327
        }
      },
      "source": [
        "def spam():\n",
        "  print(eggs)\n",
        "  eggs='spam local'\n",
        "eggs='global'\n",
        "spam()"
      ],
      "execution_count": 0,
      "outputs": [
        {
          "output_type": "error",
          "ename": "UnboundLocalError",
          "evalue": "ignored",
          "traceback": [
            "\u001b[0;31m---------------------------------------------------------------------------\u001b[0m",
            "\u001b[0;31mUnboundLocalError\u001b[0m                         Traceback (most recent call last)",
            "\u001b[0;32m<ipython-input-17-575583746bee>\u001b[0m in \u001b[0;36m<module>\u001b[0;34m()\u001b[0m\n\u001b[1;32m      3\u001b[0m   \u001b[0meggs\u001b[0m\u001b[0;34m=\u001b[0m\u001b[0;34m'spam local'\u001b[0m\u001b[0;34m\u001b[0m\u001b[0;34m\u001b[0m\u001b[0m\n\u001b[1;32m      4\u001b[0m \u001b[0meggs\u001b[0m\u001b[0;34m=\u001b[0m\u001b[0;34m'global'\u001b[0m\u001b[0;34m\u001b[0m\u001b[0;34m\u001b[0m\u001b[0m\n\u001b[0;32m----> 5\u001b[0;31m \u001b[0mspam\u001b[0m\u001b[0;34m(\u001b[0m\u001b[0;34m)\u001b[0m\u001b[0;34m\u001b[0m\u001b[0;34m\u001b[0m\u001b[0m\n\u001b[0m",
            "\u001b[0;32m<ipython-input-17-575583746bee>\u001b[0m in \u001b[0;36mspam\u001b[0;34m()\u001b[0m\n\u001b[1;32m      1\u001b[0m \u001b[0;32mdef\u001b[0m \u001b[0mspam\u001b[0m\u001b[0;34m(\u001b[0m\u001b[0;34m)\u001b[0m\u001b[0;34m:\u001b[0m\u001b[0;34m\u001b[0m\u001b[0;34m\u001b[0m\u001b[0m\n\u001b[0;32m----> 2\u001b[0;31m   \u001b[0mprint\u001b[0m\u001b[0;34m(\u001b[0m\u001b[0meggs\u001b[0m\u001b[0;34m)\u001b[0m\u001b[0;34m\u001b[0m\u001b[0;34m\u001b[0m\u001b[0m\n\u001b[0m\u001b[1;32m      3\u001b[0m   \u001b[0meggs\u001b[0m\u001b[0;34m=\u001b[0m\u001b[0;34m'spam local'\u001b[0m\u001b[0;34m\u001b[0m\u001b[0;34m\u001b[0m\u001b[0m\n\u001b[1;32m      4\u001b[0m \u001b[0meggs\u001b[0m\u001b[0;34m=\u001b[0m\u001b[0;34m'global'\u001b[0m\u001b[0;34m\u001b[0m\u001b[0;34m\u001b[0m\u001b[0m\n\u001b[1;32m      5\u001b[0m \u001b[0mspam\u001b[0m\u001b[0;34m(\u001b[0m\u001b[0;34m)\u001b[0m\u001b[0;34m\u001b[0m\u001b[0;34m\u001b[0m\u001b[0m\n",
            "\u001b[0;31mUnboundLocalError\u001b[0m: local variable 'eggs' referenced before assignment"
          ]
        }
      ]
    },
    {
      "cell_type": "code",
      "metadata": {
        "id": "kVDg30TYd0N5",
        "colab_type": "code",
        "outputId": "790cfae7-ecfa-420b-d3ec-8f7d5e5c8609",
        "colab": {
          "base_uri": "https://localhost:8080/",
          "height": 54
        }
      },
      "source": [
        "def keyfunc(t):\n",
        "  return t[-1]\n",
        "file=open('python.txt.txt','r')\n",
        "words=file.read().split()\n",
        "freq={}\n",
        "for word in words:\n",
        "  if len(words)>3:\n",
        "    if word in freq:\n",
        "      freq[word]=freq[word]+1\n",
        "    else:\n",
        "      freq[word]=1\n",
        "sorted_words=sorted(freq.items(),key=keyfunc, reverse=True)\n",
        "print(sorted_words)\n",
        "      \n",
        "\n",
        "\n",
        "\n",
        "  \n"
      ],
      "execution_count": 0,
      "outputs": [
        {
          "output_type": "stream",
          "text": [
            "[('is', 10), ('better', 8), ('than', 8), ('to', 5), ('the', 5), ('Although', 3), ('be', 3), ('should', 2), ('never', 2), ('of', 2), ('one', 2), ('way', 2), ('do', 2), ('may', 2), ('If', 2), ('implementation', 2), ('explain,', 2), ('a', 2), ('idea.', 2), ('Beautiful', 1), ('ugly.', 1), ('Explicit', 1), ('implicit.', 1), ('Simple', 1), ('complex.', 1), ('Complex', 1), ('complicated.', 1), ('Flat', 1), ('nested.', 1), ('Sparse', 1), ('dense.', 1), ('Readability', 1), ('counts.', 1), ('Special', 1), ('cases', 1), (\"aren't\", 1), ('special', 1), ('enough', 1), ('break', 1), ('rules.', 1), ('practicality', 1), ('beats', 1), ('purity.', 1), ('Errors', 1), ('pass', 1), ('silently.', 1), ('Unless', 1), ('explicitly', 1), ('silenced.', 1), ('In', 1), ('face', 1), ('ambiguity,', 1), ('refuse', 1), ('temptation', 1), ('guess.', 1), ('There', 1), ('one--', 1), ('and', 1), ('preferably', 1), ('only', 1), ('--obvious', 1), ('it.', 1), ('that', 1), ('not', 1), ('obvious', 1), ('at', 1), ('first', 1), ('unless', 1), (\"you're\", 1), ('Dutch.', 1), ('Now', 1), ('never.', 1), ('often', 1), ('*right*', 1), ('now.', 1), ('hard', 1), (\"it's\", 1), ('bad', 1), ('easy', 1), ('it', 1), ('good', 1), ('Namespaces', 1), ('are', 1), ('honking', 1), ('great', 1), ('idea', 1), ('--', 1), (\"let's\", 1), ('more', 1), ('those!', 1)]\n"
          ],
          "name": "stdout"
        }
      ]
    },
    {
      "cell_type": "code",
      "metadata": {
        "id": "87s-p0BfDqup",
        "colab_type": "code",
        "outputId": "cc363de8-3436-4638-be3d-768c8ac34477",
        "colab": {
          "base_uri": "https://localhost:8080/",
          "height": 54
        }
      },
      "source": [
        "def keyfunc(t):\n",
        "  return t[-1]\n",
        "file=open('python.txt.txt','r')\n",
        "words=file.read().split()\n",
        "freq={}\n",
        "for word in words:\n",
        "  word=word.lower()\n",
        "  if len(words)>4:\n",
        "    \n",
        "    if word in freq:\n",
        "      freq[word]=freq[word]+1\n",
        "    else:\n",
        "      freq[word]=1\n",
        "sorted_words=sorted(freq.items(),key=keyfunc, reverse=True)\n",
        "print(sorted_words)\n",
        "      \n"
      ],
      "execution_count": 0,
      "outputs": [
        {
          "output_type": "stream",
          "text": [
            "[('is', 10), ('better', 8), ('than', 8), ('to', 5), ('the', 5), ('although', 3), ('be', 3), ('special', 2), ('should', 2), ('never', 2), ('unless', 2), ('of', 2), ('one', 2), ('way', 2), ('do', 2), ('may', 2), ('if', 2), ('implementation', 2), ('explain,', 2), ('a', 2), ('idea.', 2), ('beautiful', 1), ('ugly.', 1), ('explicit', 1), ('implicit.', 1), ('simple', 1), ('complex.', 1), ('complex', 1), ('complicated.', 1), ('flat', 1), ('nested.', 1), ('sparse', 1), ('dense.', 1), ('readability', 1), ('counts.', 1), ('cases', 1), (\"aren't\", 1), ('enough', 1), ('break', 1), ('rules.', 1), ('practicality', 1), ('beats', 1), ('purity.', 1), ('errors', 1), ('pass', 1), ('silently.', 1), ('explicitly', 1), ('silenced.', 1), ('in', 1), ('face', 1), ('ambiguity,', 1), ('refuse', 1), ('temptation', 1), ('guess.', 1), ('there', 1), ('one--', 1), ('and', 1), ('preferably', 1), ('only', 1), ('--obvious', 1), ('it.', 1), ('that', 1), ('not', 1), ('obvious', 1), ('at', 1), ('first', 1), (\"you're\", 1), ('dutch.', 1), ('now', 1), ('never.', 1), ('often', 1), ('*right*', 1), ('now.', 1), ('hard', 1), (\"it's\", 1), ('bad', 1), ('easy', 1), ('it', 1), ('good', 1), ('namespaces', 1), ('are', 1), ('honking', 1), ('great', 1), ('idea', 1), ('--', 1), (\"let's\", 1), ('more', 1), ('those!', 1)]\n"
          ],
          "name": "stdout"
        }
      ]
    },
    {
      "cell_type": "code",
      "metadata": {
        "id": "BYktbYbfEVGf",
        "colab_type": "code",
        "outputId": "7a708c09-9d10-44f9-fb36-a1046aa724f1",
        "colab": {
          "base_uri": "https://localhost:8080/",
          "height": 54
        }
      },
      "source": [
        "def keyfunc(t):\n",
        "  return t[-1]\n",
        "file=open('python.txt.txt','r')\n",
        "words=file.read().split()\n",
        "freq={}\n",
        "for word in words:\n",
        "  word=word.lower()\n",
        "  if len(words)>4:\n",
        "    cval=freq.setdefault(word,0)\n",
        "    freq[word]=cval+1\n",
        "    \n",
        "sorted_words=sorted(freq.items(),key=keyfunc, reverse=True)\n",
        "print(sorted_words)\n",
        "      \n"
      ],
      "execution_count": 0,
      "outputs": [
        {
          "output_type": "stream",
          "text": [
            "[('is', 10), ('better', 8), ('than', 8), ('to', 5), ('the', 5), ('although', 3), ('be', 3), ('special', 2), ('should', 2), ('never', 2), ('unless', 2), ('of', 2), ('one', 2), ('way', 2), ('do', 2), ('may', 2), ('if', 2), ('implementation', 2), ('explain,', 2), ('a', 2), ('idea.', 2), ('beautiful', 1), ('ugly.', 1), ('explicit', 1), ('implicit.', 1), ('simple', 1), ('complex.', 1), ('complex', 1), ('complicated.', 1), ('flat', 1), ('nested.', 1), ('sparse', 1), ('dense.', 1), ('readability', 1), ('counts.', 1), ('cases', 1), (\"aren't\", 1), ('enough', 1), ('break', 1), ('rules.', 1), ('practicality', 1), ('beats', 1), ('purity.', 1), ('errors', 1), ('pass', 1), ('silently.', 1), ('explicitly', 1), ('silenced.', 1), ('in', 1), ('face', 1), ('ambiguity,', 1), ('refuse', 1), ('temptation', 1), ('guess.', 1), ('there', 1), ('one--', 1), ('and', 1), ('preferably', 1), ('only', 1), ('--obvious', 1), ('it.', 1), ('that', 1), ('not', 1), ('obvious', 1), ('at', 1), ('first', 1), (\"you're\", 1), ('dutch.', 1), ('now', 1), ('never.', 1), ('often', 1), ('*right*', 1), ('now.', 1), ('hard', 1), (\"it's\", 1), ('bad', 1), ('easy', 1), ('it', 1), ('good', 1), ('namespaces', 1), ('are', 1), ('honking', 1), ('great', 1), ('idea', 1), ('--', 1), (\"let's\", 1), ('more', 1), ('those!', 1)]\n"
          ],
          "name": "stdout"
        }
      ]
    },
    {
      "cell_type": "code",
      "metadata": {
        "id": "uoodbdkA9YhW",
        "colab_type": "code",
        "outputId": "0f3425e4-fb00-4e9e-92aa-50b5fdf6a566",
        "colab": {
          "base_uri": "https://localhost:8080/",
          "height": 85
        }
      },
      "source": [
        "a,b,c=input(\"enter tthe strings\").split()\n",
        "print(a)\n",
        "print(b)\n",
        "print(c)\n",
        "       "
      ],
      "execution_count": 0,
      "outputs": [
        {
          "output_type": "stream",
          "text": [
            "enter tthe stringsrajat verma isagoodboy\n",
            "rajat\n",
            "verma\n",
            "isagoodboy\n"
          ],
          "name": "stdout"
        }
      ]
    },
    {
      "cell_type": "code",
      "metadata": {
        "id": "IsXZgHtG_JoM",
        "colab_type": "code",
        "colab": {}
      },
      "source": [
        ""
      ],
      "execution_count": 0,
      "outputs": []
    },
    {
      "cell_type": "markdown",
      "metadata": {
        "id": "ZYjFC05Xd8J7",
        "colab_type": "text"
      },
      "source": [
        "write a program that reads a text file and prints the 100 most used words\n"
      ]
    },
    {
      "cell_type": "code",
      "metadata": {
        "id": "fipwnPMLe3dc",
        "colab_type": "code",
        "outputId": "62b4f603-41d4-453c-b85a-5e37770fd27c",
        "colab": {
          "base_uri": "https://localhost:8080/",
          "height": 132
        }
      },
      "source": [
        "data_set = 'Beautiful is better than ugly.\n",
        "Explicit is better than implicit.\n",
        "Simple is better than complex.\n",
        "Complex is better than complicated.\n",
        "Flat is better than nested.\n",
        "Sparse is better than dense.\n",
        "Readability counts.\n",
        "Special cases aren't special enough to break the rules.\n",
        "Although practicality beats purity.\n",
        "Errors should never pass silently.\n",
        "Unless explicitly silenced.\n",
        "In the face of ambiguity, refuse the temptation to guess.\n",
        "There should be one-- and preferably only one --obvious way to do it.\n",
        "Although that way may not be obvious at first unless you're Dutch.\n",
        "Now is better than never.\n",
        "Although never is often better than *right* now.\n",
        "If the implementation is hard to explain, it's a bad idea.\n",
        "If the implementation is easy to explain, it may be a good idea.'\n",
        " \n",
        "  \n",
        "# split() returns list of all the words in the string \n",
        "split_it = data_set.split() \n",
        "  \n",
        "# Pass the split_it list to instance of Counter class. \n",
        "Counter = Counter(split_it) \n",
        "  \n",
        "# most_common() produces k frequently encountered \n",
        "# input values and their respective counts. \n",
        "most_occur = Counter.most_common(4) \n",
        "  \n",
        "print(most_occur) "
      ],
      "execution_count": 0,
      "outputs": [
        {
          "output_type": "error",
          "ename": "SyntaxError",
          "evalue": "ignored",
          "traceback": [
            "\u001b[0;36m  File \u001b[0;32m\"<ipython-input-23-9dca288a9560>\"\u001b[0;36m, line \u001b[0;32m1\u001b[0m\n\u001b[0;31m    data_set = 'Beautiful is better than ugly.\u001b[0m\n\u001b[0m                                              ^\u001b[0m\n\u001b[0;31mSyntaxError\u001b[0m\u001b[0;31m:\u001b[0m EOL while scanning string literal\n"
          ]
        }
      ]
    },
    {
      "cell_type": "code",
      "metadata": {
        "id": "Laoo1zh3fl8I",
        "colab_type": "code",
        "outputId": "25821382-fd71-4d72-cbb7-2dc04472135d",
        "colab": {
          "base_uri": "https://localhost:8080/",
          "height": 122
        }
      },
      "source": [
        "from google.colab import drive\n",
        "drive.mount('/content/drive')"
      ],
      "execution_count": 0,
      "outputs": [
        {
          "output_type": "stream",
          "text": [
            "Go to this URL in a browser: https://accounts.google.com/o/oauth2/auth?client_id=947318989803-6bn6qk8qdgf4n4g3pfee6491hc0brc4i.apps.googleusercontent.com&redirect_uri=urn%3Aietf%3Awg%3Aoauth%3A2.0%3Aoob&scope=email%20https%3A%2F%2Fwww.googleapis.com%2Fauth%2Fdocs.test%20https%3A%2F%2Fwww.googleapis.com%2Fauth%2Fdrive%20https%3A%2F%2Fwww.googleapis.com%2Fauth%2Fdrive.photos.readonly%20https%3A%2F%2Fwww.googleapis.com%2Fauth%2Fpeopleapi.readonly&response_type=code\n",
            "\n",
            "Enter your authorization code:\n",
            "··········\n",
            "Mounted at /content/drive\n"
          ],
          "name": "stdout"
        }
      ]
    }
  ]
}