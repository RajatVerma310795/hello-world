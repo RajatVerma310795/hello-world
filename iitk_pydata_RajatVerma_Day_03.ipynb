{
  "nbformat": 4,
  "nbformat_minor": 0,
  "metadata": {
    "colab": {
      "name": "iitk_pydata_RajatVerma_Day_03.ipynb",
      "version": "0.3.2",
      "provenance": [],
      "collapsed_sections": [],
      "include_colab_link": true
    },
    "kernelspec": {
      "name": "python3",
      "display_name": "Python 3"
    }
  },
  "cells": [
    {
      "cell_type": "markdown",
      "metadata": {
        "id": "view-in-github",
        "colab_type": "text"
      },
      "source": [
        "<a href=\"https://colab.research.google.com/github/RajatVerma310795/hello-world/blob/master/iitk_pydata_RajatVerma_Day_03.ipynb\" target=\"_parent\"><img src=\"https://colab.research.google.com/assets/colab-badge.svg\" alt=\"Open In Colab\"/></a>"
      ]
    },
    {
      "cell_type": "code",
      "metadata": {
        "id": "SAgM6ZoTNwIp",
        "colab_type": "code",
        "outputId": "fe595e3a-21b5-4473-cd6f-ef1c5d3fe789",
        "colab": {
          "base_uri": "https://localhost:8080/",
          "height": 34
        }
      },
      "source": [
        "pip install numpy"
      ],
      "execution_count": 0,
      "outputs": [
        {
          "output_type": "stream",
          "text": [
            "Requirement already satisfied: numpy in /usr/local/lib/python3.6/dist-packages (1.16.5)\n"
          ],
          "name": "stdout"
        }
      ]
    },
    {
      "cell_type": "code",
      "metadata": {
        "id": "2t5rNwiBRbsm",
        "colab_type": "code",
        "colab": {}
      },
      "source": [
        ""
      ],
      "execution_count": 0,
      "outputs": []
    },
    {
      "cell_type": "code",
      "metadata": {
        "id": "6hKP1hljPVkE",
        "colab_type": "code",
        "outputId": "bfdf3268-46c8-4ac2-818b-ea88a889cefb",
        "colab": {
          "base_uri": "https://localhost:8080/",
          "height": 102
        }
      },
      "source": [
        "# Python program to demonstrate \n",
        "# basic array characteristics \n",
        "import numpy as np \n",
        "\n",
        "# Creating array object \n",
        "arr = np.array( [[ 1, 2, 3], \n",
        "\t\t\t\t[ 4, 2, 5],[2,7,9]] ) \n",
        "\n",
        "# Printing type of arr object \n",
        "print(\"Array is of type: \", type(arr)) \n",
        "\n",
        "# Printing array dimensions (axes) \n",
        "print(\"No. of dimensions: \", arr.ndim) \n",
        "\n",
        "# Printing shape of array \n",
        "print(\"Shape of array: \", arr.shape) \n",
        "\n",
        "# Printing size (total number of elements) of array \n",
        "print(\"Size of array: \", arr.size) \n",
        "\n",
        "# Printing type of elements in array \n",
        "print(\"Array stores elements of type: \", arr.dtype) \n"
      ],
      "execution_count": 0,
      "outputs": [
        {
          "output_type": "stream",
          "text": [
            "Array is of type:  <class 'numpy.ndarray'>\n",
            "No. of dimensions:  2\n",
            "Shape of array:  (3, 3)\n",
            "Size of array:  9\n",
            "Array stores elements of type:  int64\n"
          ],
          "name": "stdout"
        }
      ]
    },
    {
      "cell_type": "code",
      "metadata": {
        "id": "mUqr5vZ0Sk2f",
        "colab_type": "code",
        "outputId": "912e60c8-fbcc-459a-d2d2-187187abf7f4",
        "colab": {
          "base_uri": "https://localhost:8080/",
          "height": 51
        }
      },
      "source": [
        "import numpy\n",
        "np_arr=np.arange(100000000)\n",
        "%time z=np_arr*2"
      ],
      "execution_count": 0,
      "outputs": [
        {
          "output_type": "stream",
          "text": [
            "CPU times: user 144 ms, sys: 345 ms, total: 488 ms\n",
            "Wall time: 488 ms\n"
          ],
          "name": "stdout"
        }
      ]
    },
    {
      "cell_type": "code",
      "metadata": {
        "id": "5nhdv6vGTl_3",
        "colab_type": "code",
        "outputId": "0fff92dc-685e-49ea-febf-c17a0e87a626",
        "colab": {
          "base_uri": "https://localhost:8080/",
          "height": 51
        }
      },
      "source": [
        "\n",
        "%%time \n",
        "for i in y:\n",
        "  i*3"
      ],
      "execution_count": 0,
      "outputs": [
        {
          "output_type": "stream",
          "text": [
            "CPU times: user 757 ms, sys: 0 ns, total: 757 ms\n",
            "Wall time: 759 ms\n"
          ],
          "name": "stdout"
        }
      ]
    },
    {
      "cell_type": "code",
      "metadata": {
        "id": "pI6lYpfrVEWe",
        "colab_type": "code",
        "outputId": "5f5cba73-349a-4f5a-befc-9c2c15f58c27",
        "colab": {
          "base_uri": "https://localhost:8080/",
          "height": 1000
        }
      },
      "source": [
        "[i*2 for i in y]"
      ],
      "execution_count": 0,
      "outputs": [
        {
          "output_type": "execute_result",
          "data": {
            "text/plain": [
              "[0,\n",
              " 2,\n",
              " 4,\n",
              " 6,\n",
              " 8,\n",
              " 10,\n",
              " 12,\n",
              " 14,\n",
              " 16,\n",
              " 18,\n",
              " 20,\n",
              " 22,\n",
              " 24,\n",
              " 26,\n",
              " 28,\n",
              " 30,\n",
              " 32,\n",
              " 34,\n",
              " 36,\n",
              " 38,\n",
              " 40,\n",
              " 42,\n",
              " 44,\n",
              " 46,\n",
              " 48,\n",
              " 50,\n",
              " 52,\n",
              " 54,\n",
              " 56,\n",
              " 58,\n",
              " 60,\n",
              " 62,\n",
              " 64,\n",
              " 66,\n",
              " 68,\n",
              " 70,\n",
              " 72,\n",
              " 74,\n",
              " 76,\n",
              " 78,\n",
              " 80,\n",
              " 82,\n",
              " 84,\n",
              " 86,\n",
              " 88,\n",
              " 90,\n",
              " 92,\n",
              " 94,\n",
              " 96,\n",
              " 98,\n",
              " 100,\n",
              " 102,\n",
              " 104,\n",
              " 106,\n",
              " 108,\n",
              " 110,\n",
              " 112,\n",
              " 114,\n",
              " 116,\n",
              " 118,\n",
              " 120,\n",
              " 122,\n",
              " 124,\n",
              " 126,\n",
              " 128,\n",
              " 130,\n",
              " 132,\n",
              " 134,\n",
              " 136,\n",
              " 138,\n",
              " 140,\n",
              " 142,\n",
              " 144,\n",
              " 146,\n",
              " 148,\n",
              " 150,\n",
              " 152,\n",
              " 154,\n",
              " 156,\n",
              " 158,\n",
              " 160,\n",
              " 162,\n",
              " 164,\n",
              " 166,\n",
              " 168,\n",
              " 170,\n",
              " 172,\n",
              " 174,\n",
              " 176,\n",
              " 178,\n",
              " 180,\n",
              " 182,\n",
              " 184,\n",
              " 186,\n",
              " 188,\n",
              " 190,\n",
              " 192,\n",
              " 194,\n",
              " 196,\n",
              " 198,\n",
              " 200,\n",
              " 202,\n",
              " 204,\n",
              " 206,\n",
              " 208,\n",
              " 210,\n",
              " 212,\n",
              " 214,\n",
              " 216,\n",
              " 218,\n",
              " 220,\n",
              " 222,\n",
              " 224,\n",
              " 226,\n",
              " 228,\n",
              " 230,\n",
              " 232,\n",
              " 234,\n",
              " 236,\n",
              " 238,\n",
              " 240,\n",
              " 242,\n",
              " 244,\n",
              " 246,\n",
              " 248,\n",
              " 250,\n",
              " 252,\n",
              " 254,\n",
              " 256,\n",
              " 258,\n",
              " 260,\n",
              " 262,\n",
              " 264,\n",
              " 266,\n",
              " 268,\n",
              " 270,\n",
              " 272,\n",
              " 274,\n",
              " 276,\n",
              " 278,\n",
              " 280,\n",
              " 282,\n",
              " 284,\n",
              " 286,\n",
              " 288,\n",
              " 290,\n",
              " 292,\n",
              " 294,\n",
              " 296,\n",
              " 298,\n",
              " 300,\n",
              " 302,\n",
              " 304,\n",
              " 306,\n",
              " 308,\n",
              " 310,\n",
              " 312,\n",
              " 314,\n",
              " 316,\n",
              " 318,\n",
              " 320,\n",
              " 322,\n",
              " 324,\n",
              " 326,\n",
              " 328,\n",
              " 330,\n",
              " 332,\n",
              " 334,\n",
              " 336,\n",
              " 338,\n",
              " 340,\n",
              " 342,\n",
              " 344,\n",
              " 346,\n",
              " 348,\n",
              " 350,\n",
              " 352,\n",
              " 354,\n",
              " 356,\n",
              " 358,\n",
              " 360,\n",
              " 362,\n",
              " 364,\n",
              " 366,\n",
              " 368,\n",
              " 370,\n",
              " 372,\n",
              " 374,\n",
              " 376,\n",
              " 378,\n",
              " 380,\n",
              " 382,\n",
              " 384,\n",
              " 386,\n",
              " 388,\n",
              " 390,\n",
              " 392,\n",
              " 394,\n",
              " 396,\n",
              " 398,\n",
              " 400,\n",
              " 402,\n",
              " 404,\n",
              " 406,\n",
              " 408,\n",
              " 410,\n",
              " 412,\n",
              " 414,\n",
              " 416,\n",
              " 418,\n",
              " 420,\n",
              " 422,\n",
              " 424,\n",
              " 426,\n",
              " 428,\n",
              " 430,\n",
              " 432,\n",
              " 434,\n",
              " 436,\n",
              " 438,\n",
              " 440,\n",
              " 442,\n",
              " 444,\n",
              " 446,\n",
              " 448,\n",
              " 450,\n",
              " 452,\n",
              " 454,\n",
              " 456,\n",
              " 458,\n",
              " 460,\n",
              " 462,\n",
              " 464,\n",
              " 466,\n",
              " 468,\n",
              " 470,\n",
              " 472,\n",
              " 474,\n",
              " 476,\n",
              " 478,\n",
              " 480,\n",
              " 482,\n",
              " 484,\n",
              " 486,\n",
              " 488,\n",
              " 490,\n",
              " 492,\n",
              " 494,\n",
              " 496,\n",
              " 498,\n",
              " 500,\n",
              " 502,\n",
              " 504,\n",
              " 506,\n",
              " 508,\n",
              " 510,\n",
              " 512,\n",
              " 514,\n",
              " 516,\n",
              " 518,\n",
              " 520,\n",
              " 522,\n",
              " 524,\n",
              " 526,\n",
              " 528,\n",
              " 530,\n",
              " 532,\n",
              " 534,\n",
              " 536,\n",
              " 538,\n",
              " 540,\n",
              " 542,\n",
              " 544,\n",
              " 546,\n",
              " 548,\n",
              " 550,\n",
              " 552,\n",
              " 554,\n",
              " 556,\n",
              " 558,\n",
              " 560,\n",
              " 562,\n",
              " 564,\n",
              " 566,\n",
              " 568,\n",
              " 570,\n",
              " 572,\n",
              " 574,\n",
              " 576,\n",
              " 578,\n",
              " 580,\n",
              " 582,\n",
              " 584,\n",
              " 586,\n",
              " 588,\n",
              " 590,\n",
              " 592,\n",
              " 594,\n",
              " 596,\n",
              " 598,\n",
              " 600,\n",
              " 602,\n",
              " 604,\n",
              " 606,\n",
              " 608,\n",
              " 610,\n",
              " 612,\n",
              " 614,\n",
              " 616,\n",
              " 618,\n",
              " 620,\n",
              " 622,\n",
              " 624,\n",
              " 626,\n",
              " 628,\n",
              " 630,\n",
              " 632,\n",
              " 634,\n",
              " 636,\n",
              " 638,\n",
              " 640,\n",
              " 642,\n",
              " 644,\n",
              " 646,\n",
              " 648,\n",
              " 650,\n",
              " 652,\n",
              " 654,\n",
              " 656,\n",
              " 658,\n",
              " 660,\n",
              " 662,\n",
              " 664,\n",
              " 666,\n",
              " 668,\n",
              " 670,\n",
              " 672,\n",
              " 674,\n",
              " 676,\n",
              " 678,\n",
              " 680,\n",
              " 682,\n",
              " 684,\n",
              " 686,\n",
              " 688,\n",
              " 690,\n",
              " 692,\n",
              " 694,\n",
              " 696,\n",
              " 698,\n",
              " 700,\n",
              " 702,\n",
              " 704,\n",
              " 706,\n",
              " 708,\n",
              " 710,\n",
              " 712,\n",
              " 714,\n",
              " 716,\n",
              " 718,\n",
              " 720,\n",
              " 722,\n",
              " 724,\n",
              " 726,\n",
              " 728,\n",
              " 730,\n",
              " 732,\n",
              " 734,\n",
              " 736,\n",
              " 738,\n",
              " 740,\n",
              " 742,\n",
              " 744,\n",
              " 746,\n",
              " 748,\n",
              " 750,\n",
              " 752,\n",
              " 754,\n",
              " 756,\n",
              " 758,\n",
              " 760,\n",
              " 762,\n",
              " 764,\n",
              " 766,\n",
              " 768,\n",
              " 770,\n",
              " 772,\n",
              " 774,\n",
              " 776,\n",
              " 778,\n",
              " 780,\n",
              " 782,\n",
              " 784,\n",
              " 786,\n",
              " 788,\n",
              " 790,\n",
              " 792,\n",
              " 794,\n",
              " 796,\n",
              " 798,\n",
              " 800,\n",
              " 802,\n",
              " 804,\n",
              " 806,\n",
              " 808,\n",
              " 810,\n",
              " 812,\n",
              " 814,\n",
              " 816,\n",
              " 818,\n",
              " 820,\n",
              " 822,\n",
              " 824,\n",
              " 826,\n",
              " 828,\n",
              " 830,\n",
              " 832,\n",
              " 834,\n",
              " 836,\n",
              " 838,\n",
              " 840,\n",
              " 842,\n",
              " 844,\n",
              " 846,\n",
              " 848,\n",
              " 850,\n",
              " 852,\n",
              " 854,\n",
              " 856,\n",
              " 858,\n",
              " 860,\n",
              " 862,\n",
              " 864,\n",
              " 866,\n",
              " 868,\n",
              " 870,\n",
              " 872,\n",
              " 874,\n",
              " 876,\n",
              " 878,\n",
              " 880,\n",
              " 882,\n",
              " 884,\n",
              " 886,\n",
              " 888,\n",
              " 890,\n",
              " 892,\n",
              " 894,\n",
              " 896,\n",
              " 898,\n",
              " 900,\n",
              " 902,\n",
              " 904,\n",
              " 906,\n",
              " 908,\n",
              " 910,\n",
              " 912,\n",
              " 914,\n",
              " 916,\n",
              " 918,\n",
              " 920,\n",
              " 922,\n",
              " 924,\n",
              " 926,\n",
              " 928,\n",
              " 930,\n",
              " 932,\n",
              " 934,\n",
              " 936,\n",
              " 938,\n",
              " 940,\n",
              " 942,\n",
              " 944,\n",
              " 946,\n",
              " 948,\n",
              " 950,\n",
              " 952,\n",
              " 954,\n",
              " 956,\n",
              " 958,\n",
              " 960,\n",
              " 962,\n",
              " 964,\n",
              " 966,\n",
              " 968,\n",
              " 970,\n",
              " 972,\n",
              " 974,\n",
              " 976,\n",
              " 978,\n",
              " 980,\n",
              " 982,\n",
              " 984,\n",
              " 986,\n",
              " 988,\n",
              " 990,\n",
              " 992,\n",
              " 994,\n",
              " 996,\n",
              " 998,\n",
              " 1000,\n",
              " 1002,\n",
              " 1004,\n",
              " 1006,\n",
              " 1008,\n",
              " 1010,\n",
              " 1012,\n",
              " 1014,\n",
              " 1016,\n",
              " 1018,\n",
              " 1020,\n",
              " 1022,\n",
              " 1024,\n",
              " 1026,\n",
              " 1028,\n",
              " 1030,\n",
              " 1032,\n",
              " 1034,\n",
              " 1036,\n",
              " 1038,\n",
              " 1040,\n",
              " 1042,\n",
              " 1044,\n",
              " 1046,\n",
              " 1048,\n",
              " 1050,\n",
              " 1052,\n",
              " 1054,\n",
              " 1056,\n",
              " 1058,\n",
              " 1060,\n",
              " 1062,\n",
              " 1064,\n",
              " 1066,\n",
              " 1068,\n",
              " 1070,\n",
              " 1072,\n",
              " 1074,\n",
              " 1076,\n",
              " 1078,\n",
              " 1080,\n",
              " 1082,\n",
              " 1084,\n",
              " 1086,\n",
              " 1088,\n",
              " 1090,\n",
              " 1092,\n",
              " 1094,\n",
              " 1096,\n",
              " 1098,\n",
              " 1100,\n",
              " 1102,\n",
              " 1104,\n",
              " 1106,\n",
              " 1108,\n",
              " 1110,\n",
              " 1112,\n",
              " 1114,\n",
              " 1116,\n",
              " 1118,\n",
              " 1120,\n",
              " 1122,\n",
              " 1124,\n",
              " 1126,\n",
              " 1128,\n",
              " 1130,\n",
              " 1132,\n",
              " 1134,\n",
              " 1136,\n",
              " 1138,\n",
              " 1140,\n",
              " 1142,\n",
              " 1144,\n",
              " 1146,\n",
              " 1148,\n",
              " 1150,\n",
              " 1152,\n",
              " 1154,\n",
              " 1156,\n",
              " 1158,\n",
              " 1160,\n",
              " 1162,\n",
              " 1164,\n",
              " 1166,\n",
              " 1168,\n",
              " 1170,\n",
              " 1172,\n",
              " 1174,\n",
              " 1176,\n",
              " 1178,\n",
              " 1180,\n",
              " 1182,\n",
              " 1184,\n",
              " 1186,\n",
              " 1188,\n",
              " 1190,\n",
              " 1192,\n",
              " 1194,\n",
              " 1196,\n",
              " 1198,\n",
              " 1200,\n",
              " 1202,\n",
              " 1204,\n",
              " 1206,\n",
              " 1208,\n",
              " 1210,\n",
              " 1212,\n",
              " 1214,\n",
              " 1216,\n",
              " 1218,\n",
              " 1220,\n",
              " 1222,\n",
              " 1224,\n",
              " 1226,\n",
              " 1228,\n",
              " 1230,\n",
              " 1232,\n",
              " 1234,\n",
              " 1236,\n",
              " 1238,\n",
              " 1240,\n",
              " 1242,\n",
              " 1244,\n",
              " 1246,\n",
              " 1248,\n",
              " 1250,\n",
              " 1252,\n",
              " 1254,\n",
              " 1256,\n",
              " 1258,\n",
              " 1260,\n",
              " 1262,\n",
              " 1264,\n",
              " 1266,\n",
              " 1268,\n",
              " 1270,\n",
              " 1272,\n",
              " 1274,\n",
              " 1276,\n",
              " 1278,\n",
              " 1280,\n",
              " 1282,\n",
              " 1284,\n",
              " 1286,\n",
              " 1288,\n",
              " 1290,\n",
              " 1292,\n",
              " 1294,\n",
              " 1296,\n",
              " 1298,\n",
              " 1300,\n",
              " 1302,\n",
              " 1304,\n",
              " 1306,\n",
              " 1308,\n",
              " 1310,\n",
              " 1312,\n",
              " 1314,\n",
              " 1316,\n",
              " 1318,\n",
              " 1320,\n",
              " 1322,\n",
              " 1324,\n",
              " 1326,\n",
              " 1328,\n",
              " 1330,\n",
              " 1332,\n",
              " 1334,\n",
              " 1336,\n",
              " 1338,\n",
              " 1340,\n",
              " 1342,\n",
              " 1344,\n",
              " 1346,\n",
              " 1348,\n",
              " 1350,\n",
              " 1352,\n",
              " 1354,\n",
              " 1356,\n",
              " 1358,\n",
              " 1360,\n",
              " 1362,\n",
              " 1364,\n",
              " 1366,\n",
              " 1368,\n",
              " 1370,\n",
              " 1372,\n",
              " 1374,\n",
              " 1376,\n",
              " 1378,\n",
              " 1380,\n",
              " 1382,\n",
              " 1384,\n",
              " 1386,\n",
              " 1388,\n",
              " 1390,\n",
              " 1392,\n",
              " 1394,\n",
              " 1396,\n",
              " 1398,\n",
              " 1400,\n",
              " 1402,\n",
              " 1404,\n",
              " 1406,\n",
              " 1408,\n",
              " 1410,\n",
              " 1412,\n",
              " 1414,\n",
              " 1416,\n",
              " 1418,\n",
              " 1420,\n",
              " 1422,\n",
              " 1424,\n",
              " 1426,\n",
              " 1428,\n",
              " 1430,\n",
              " 1432,\n",
              " 1434,\n",
              " 1436,\n",
              " 1438,\n",
              " 1440,\n",
              " 1442,\n",
              " 1444,\n",
              " 1446,\n",
              " 1448,\n",
              " 1450,\n",
              " 1452,\n",
              " 1454,\n",
              " 1456,\n",
              " 1458,\n",
              " 1460,\n",
              " 1462,\n",
              " 1464,\n",
              " 1466,\n",
              " 1468,\n",
              " 1470,\n",
              " 1472,\n",
              " 1474,\n",
              " 1476,\n",
              " 1478,\n",
              " 1480,\n",
              " 1482,\n",
              " 1484,\n",
              " 1486,\n",
              " 1488,\n",
              " 1490,\n",
              " 1492,\n",
              " 1494,\n",
              " 1496,\n",
              " 1498,\n",
              " 1500,\n",
              " 1502,\n",
              " 1504,\n",
              " 1506,\n",
              " 1508,\n",
              " 1510,\n",
              " 1512,\n",
              " 1514,\n",
              " 1516,\n",
              " 1518,\n",
              " 1520,\n",
              " 1522,\n",
              " 1524,\n",
              " 1526,\n",
              " 1528,\n",
              " 1530,\n",
              " 1532,\n",
              " 1534,\n",
              " 1536,\n",
              " 1538,\n",
              " 1540,\n",
              " 1542,\n",
              " 1544,\n",
              " 1546,\n",
              " 1548,\n",
              " 1550,\n",
              " 1552,\n",
              " 1554,\n",
              " 1556,\n",
              " 1558,\n",
              " 1560,\n",
              " 1562,\n",
              " 1564,\n",
              " 1566,\n",
              " 1568,\n",
              " 1570,\n",
              " 1572,\n",
              " 1574,\n",
              " 1576,\n",
              " 1578,\n",
              " 1580,\n",
              " 1582,\n",
              " 1584,\n",
              " 1586,\n",
              " 1588,\n",
              " 1590,\n",
              " 1592,\n",
              " 1594,\n",
              " 1596,\n",
              " 1598,\n",
              " 1600,\n",
              " 1602,\n",
              " 1604,\n",
              " 1606,\n",
              " 1608,\n",
              " 1610,\n",
              " 1612,\n",
              " 1614,\n",
              " 1616,\n",
              " 1618,\n",
              " 1620,\n",
              " 1622,\n",
              " 1624,\n",
              " 1626,\n",
              " 1628,\n",
              " 1630,\n",
              " 1632,\n",
              " 1634,\n",
              " 1636,\n",
              " 1638,\n",
              " 1640,\n",
              " 1642,\n",
              " 1644,\n",
              " 1646,\n",
              " 1648,\n",
              " 1650,\n",
              " 1652,\n",
              " 1654,\n",
              " 1656,\n",
              " 1658,\n",
              " 1660,\n",
              " 1662,\n",
              " 1664,\n",
              " 1666,\n",
              " 1668,\n",
              " 1670,\n",
              " 1672,\n",
              " 1674,\n",
              " 1676,\n",
              " 1678,\n",
              " 1680,\n",
              " 1682,\n",
              " 1684,\n",
              " 1686,\n",
              " 1688,\n",
              " 1690,\n",
              " 1692,\n",
              " 1694,\n",
              " 1696,\n",
              " 1698,\n",
              " 1700,\n",
              " 1702,\n",
              " 1704,\n",
              " 1706,\n",
              " 1708,\n",
              " 1710,\n",
              " 1712,\n",
              " 1714,\n",
              " 1716,\n",
              " 1718,\n",
              " 1720,\n",
              " 1722,\n",
              " 1724,\n",
              " 1726,\n",
              " 1728,\n",
              " 1730,\n",
              " 1732,\n",
              " 1734,\n",
              " 1736,\n",
              " 1738,\n",
              " 1740,\n",
              " 1742,\n",
              " 1744,\n",
              " 1746,\n",
              " 1748,\n",
              " 1750,\n",
              " 1752,\n",
              " 1754,\n",
              " 1756,\n",
              " 1758,\n",
              " 1760,\n",
              " 1762,\n",
              " 1764,\n",
              " 1766,\n",
              " 1768,\n",
              " 1770,\n",
              " 1772,\n",
              " 1774,\n",
              " 1776,\n",
              " 1778,\n",
              " 1780,\n",
              " 1782,\n",
              " 1784,\n",
              " 1786,\n",
              " 1788,\n",
              " 1790,\n",
              " 1792,\n",
              " 1794,\n",
              " 1796,\n",
              " 1798,\n",
              " 1800,\n",
              " 1802,\n",
              " 1804,\n",
              " 1806,\n",
              " 1808,\n",
              " 1810,\n",
              " 1812,\n",
              " 1814,\n",
              " 1816,\n",
              " 1818,\n",
              " 1820,\n",
              " 1822,\n",
              " 1824,\n",
              " 1826,\n",
              " 1828,\n",
              " 1830,\n",
              " 1832,\n",
              " 1834,\n",
              " 1836,\n",
              " 1838,\n",
              " 1840,\n",
              " 1842,\n",
              " 1844,\n",
              " 1846,\n",
              " 1848,\n",
              " 1850,\n",
              " 1852,\n",
              " 1854,\n",
              " 1856,\n",
              " 1858,\n",
              " 1860,\n",
              " 1862,\n",
              " 1864,\n",
              " 1866,\n",
              " 1868,\n",
              " 1870,\n",
              " 1872,\n",
              " 1874,\n",
              " 1876,\n",
              " 1878,\n",
              " 1880,\n",
              " 1882,\n",
              " 1884,\n",
              " 1886,\n",
              " 1888,\n",
              " 1890,\n",
              " 1892,\n",
              " 1894,\n",
              " 1896,\n",
              " 1898,\n",
              " 1900,\n",
              " 1902,\n",
              " 1904,\n",
              " 1906,\n",
              " 1908,\n",
              " 1910,\n",
              " 1912,\n",
              " 1914,\n",
              " 1916,\n",
              " 1918,\n",
              " 1920,\n",
              " 1922,\n",
              " 1924,\n",
              " 1926,\n",
              " 1928,\n",
              " 1930,\n",
              " 1932,\n",
              " 1934,\n",
              " 1936,\n",
              " 1938,\n",
              " 1940,\n",
              " 1942,\n",
              " 1944,\n",
              " 1946,\n",
              " 1948,\n",
              " 1950,\n",
              " 1952,\n",
              " 1954,\n",
              " 1956,\n",
              " 1958,\n",
              " 1960,\n",
              " 1962,\n",
              " 1964,\n",
              " 1966,\n",
              " 1968,\n",
              " 1970,\n",
              " 1972,\n",
              " 1974,\n",
              " 1976,\n",
              " 1978,\n",
              " 1980,\n",
              " 1982,\n",
              " 1984,\n",
              " 1986,\n",
              " 1988,\n",
              " 1990,\n",
              " 1992,\n",
              " 1994,\n",
              " 1996,\n",
              " 1998,\n",
              " ...]"
            ]
          },
          "metadata": {
            "tags": []
          },
          "execution_count": 33
        }
      ]
    },
    {
      "cell_type": "code",
      "metadata": {
        "id": "GIpUdrLgSqaU",
        "colab_type": "code",
        "outputId": "fae098db-4680-4a96-af29-502d27df0546",
        "colab": {
          "base_uri": "https://localhost:8080/",
          "height": 68
        }
      },
      "source": [
        "z=np.random.randn(3,3)\n",
        "z"
      ],
      "execution_count": 0,
      "outputs": [
        {
          "output_type": "execute_result",
          "data": {
            "text/plain": [
              "array([[ 0.29398499,  0.47896634, -0.5130209 ],\n",
              "       [-0.35396747,  1.26434443, -2.15661099],\n",
              "       [ 0.19012169, -0.35837929, -0.48202973]])"
            ]
          },
          "metadata": {
            "tags": []
          },
          "execution_count": 35
        }
      ]
    },
    {
      "cell_type": "code",
      "metadata": {
        "id": "bChBF8AUVYJf",
        "colab_type": "code",
        "outputId": "4fc38854-761b-4761-fd66-14b286e9c80a",
        "colab": {
          "base_uri": "https://localhost:8080/",
          "height": 34
        }
      },
      "source": [
        "z.ndim"
      ],
      "execution_count": 0,
      "outputs": [
        {
          "output_type": "execute_result",
          "data": {
            "text/plain": [
              "2"
            ]
          },
          "metadata": {
            "tags": []
          },
          "execution_count": 36
        }
      ]
    },
    {
      "cell_type": "code",
      "metadata": {
        "id": "s7lteUD_Vnhm",
        "colab_type": "code",
        "outputId": "dcca3547-b8cc-4d2a-8b90-e87231fc311e",
        "colab": {
          "base_uri": "https://localhost:8080/",
          "height": 34
        }
      },
      "source": [
        "z.shape"
      ],
      "execution_count": 0,
      "outputs": [
        {
          "output_type": "execute_result",
          "data": {
            "text/plain": [
              "(3, 3)"
            ]
          },
          "metadata": {
            "tags": []
          },
          "execution_count": 39
        }
      ]
    },
    {
      "cell_type": "code",
      "metadata": {
        "id": "rDExvxyGVdhI",
        "colab_type": "code",
        "outputId": "3acccb71-767f-4897-fbfa-10c91d05f095",
        "colab": {
          "base_uri": "https://localhost:8080/",
          "height": 34
        }
      },
      "source": [
        "z.dtype"
      ],
      "execution_count": 0,
      "outputs": [
        {
          "output_type": "execute_result",
          "data": {
            "text/plain": [
              "dtype('float64')"
            ]
          },
          "metadata": {
            "tags": []
          },
          "execution_count": 38
        }
      ]
    },
    {
      "cell_type": "code",
      "metadata": {
        "id": "PxQOT2_nRlV8",
        "colab_type": "code",
        "outputId": "2daa3173-17b2-41ff-8469-bddb99f7c52d",
        "colab": {
          "base_uri": "https://localhost:8080/",
          "height": 102
        }
      },
      "source": [
        "# Python program to demonstrate \n",
        "# basic array characteristics \n",
        "import numpy \n",
        "\n",
        "# Creating array object \n",
        "arr = numpy.array( [[ 1, 2, 3], \n",
        "\t\t\t\t[ 4, 2, 5],[2,7,9]] ) \n",
        "\n",
        "# Printing type of arr object \n",
        "print(\"Array is of type: \", type(arr)) \n",
        "\n",
        "# Printing array dimensions (axes) \n",
        "print(\"No. of dimensions: \", arr.ndim) \n",
        "\n",
        "# Printing shape of array \n",
        "print(\"Shape of array: \", arr.shape) \n",
        "\n",
        "# Printing size (total number of elements) of array \n",
        "print(\"Size of array: \", arr.size) \n",
        "\n",
        "# Printing type of elements in array \n",
        "print(\"Array stores elements of type: \", arr.dtype) \n"
      ],
      "execution_count": 0,
      "outputs": [
        {
          "output_type": "stream",
          "text": [
            "Array is of type:  <class 'numpy.ndarray'>\n",
            "No. of dimensions:  2\n",
            "Shape of array:  (3, 3)\n",
            "Size of array:  9\n",
            "Array stores elements of type:  int64\n"
          ],
          "name": "stdout"
        }
      ]
    },
    {
      "cell_type": "code",
      "metadata": {
        "id": "-M19afLKSiV9",
        "colab_type": "code",
        "colab": {}
      },
      "source": [
        "np_arr=np.arange(100000000)"
      ],
      "execution_count": 0,
      "outputs": []
    },
    {
      "cell_type": "code",
      "metadata": {
        "id": "J1UjKDdESBea",
        "colab_type": "code",
        "outputId": "39fb9e1e-831f-4607-fdf1-cfe206b7a7e7",
        "colab": {
          "base_uri": "https://localhost:8080/",
          "height": 51
        }
      },
      "source": [
        "%time z=np_arr*2"
      ],
      "execution_count": 0,
      "outputs": [
        {
          "output_type": "stream",
          "text": [
            "CPU times: user 190 ms, sys: 1.3 ms, total: 192 ms\n",
            "Wall time: 194 ms\n"
          ],
          "name": "stdout"
        }
      ]
    },
    {
      "cell_type": "code",
      "metadata": {
        "id": "W7nPqChQSNiV",
        "colab_type": "code",
        "colab": {}
      },
      "source": [
        "np_arr=np.arange(100000000)"
      ],
      "execution_count": 0,
      "outputs": []
    },
    {
      "cell_type": "code",
      "metadata": {
        "id": "kdNQArmTV453",
        "colab_type": "code",
        "outputId": "e22349ce-a720-4073-d8a7-950cea398969",
        "colab": {
          "base_uri": "https://localhost:8080/",
          "height": 199
        }
      },
      "source": [
        "x = 3\n",
        "print(type(x)) # Prints \"<class 'int'>\"\n",
        "print(x)       # Prints \"3\"\n",
        "print(x + 1)   # Addition; prints \"4\"\n",
        "print(x - 1)   # Subtraction; prints \"2\"\n",
        "print(x * 2)   # Multiplication; prints \"6\"\n",
        "print(x ** 2)  # Exponentiation; prints \"9\"\n",
        "x += 1\n",
        "print(x)  # Prints \"4\"\n",
        "x *= 2\n",
        "print(x)  # Prints \"8\"\n",
        "y = 2.5\n",
        "print(type(y)) # Prints \"<class 'float'>\"\n",
        "print(y, y + 1, y * 2, y ** 2) # Prints \"2.5 3.5 5.0 6.25\""
      ],
      "execution_count": 0,
      "outputs": [
        {
          "output_type": "stream",
          "text": [
            "<class 'int'>\n",
            "3\n",
            "4\n",
            "2\n",
            "6\n",
            "9\n",
            "4\n",
            "8\n",
            "<class 'float'>\n",
            "2.5 3.5 5.0 6.25\n"
          ],
          "name": "stdout"
        }
      ]
    },
    {
      "cell_type": "code",
      "metadata": {
        "id": "SE2Mg5R0Wh9t",
        "colab_type": "code",
        "outputId": "7b6b2884-5bbd-4ecf-8602-ff6cf671dc79",
        "colab": {
          "base_uri": "https://localhost:8080/",
          "height": 108
        }
      },
      "source": [
        "t = True\n",
        "f = False\n",
        "print(type(t)) # Prints \"<class 'bool'>\"\n",
        "print(t and f) # Logical AND; prints \"False\"\n",
        "print(t or f)  # Logical OR; prints \"True\"\n",
        "print(not t)   # Logical NOT; prints \"False\"\n",
        "print(t != f)  # Lo"
      ],
      "execution_count": 0,
      "outputs": [
        {
          "output_type": "stream",
          "text": [
            "<class 'bool'>\n",
            "False\n",
            "True\n",
            "False\n",
            "True\n"
          ],
          "name": "stdout"
        }
      ]
    },
    {
      "cell_type": "code",
      "metadata": {
        "id": "SQZeB3zyWkm3",
        "colab_type": "code",
        "outputId": "3034b1b2-0f07-4b15-d595-970d78865d24",
        "colab": {
          "base_uri": "https://localhost:8080/",
          "height": 90
        }
      },
      "source": [
        "hello = 'hello'    # String literals can use single quotes\n",
        "world = \"world\"    # or double quotes; it does not matter.\n",
        "print(hello)       # Prints \"hello\"\n",
        "print(len(hello))  # String length; prints \"5\"\n",
        "hw = hello + ' ' + world  # String concatenation\n",
        "print(hw)  # prints \"hello world\"\n",
        "hw12 = '%s %s %d' % (hello, world, 12)  # sprintf style string formatting\n",
        "print(hw12)  # prints \"hello world 12\""
      ],
      "execution_count": 0,
      "outputs": [
        {
          "output_type": "stream",
          "text": [
            "hello\n",
            "5\n",
            "hello world\n",
            "hello world 12\n"
          ],
          "name": "stdout"
        }
      ]
    },
    {
      "cell_type": "code",
      "metadata": {
        "id": "Do3-f941Wo2A",
        "colab_type": "code",
        "outputId": "7c4bb342-2c86-44d7-f3e7-75dbc7c7e1de",
        "colab": {
          "base_uri": "https://localhost:8080/",
          "height": 126
        }
      },
      "source": [
        "s = \"hello\"\n",
        "print(s.capitalize())  # Capitalize a string; prints \"Hello\"\n",
        "print(s.upper())       # Convert a string to uppercase; prints \"HELLO\"\n",
        "print(s.rjust(7))      # Right-justify a string, padding with spaces; prints \"  hello\"\n",
        "print(s.center(7))     # Center a string, padding with spaces; prints \" hello \"\n",
        "print(s.replace('l', '(ell)'))  # Replace all instances of one substring with another;\n",
        "                                # prints \"he(ell)(ell)o\"\n",
        "print('  world '.strip())  # Strip leading and trailing whitespace; prints \"world\""
      ],
      "execution_count": 0,
      "outputs": [
        {
          "output_type": "stream",
          "text": [
            "Hello\n",
            "HELLO\n",
            "  hello\n",
            " hello \n",
            "he(ell)(ell)o\n",
            "world\n"
          ],
          "name": "stdout"
        }
      ]
    },
    {
      "cell_type": "code",
      "metadata": {
        "id": "n3ElNQ96WxnV",
        "colab_type": "code",
        "outputId": "0ab73436-926c-44af-9dc2-d6ef660fe0fd",
        "colab": {
          "base_uri": "https://localhost:8080/",
          "height": 108
        }
      },
      "source": [
        "xs = [3, 1, 2]    # Create a list\n",
        "print(xs, xs[2])  # Prints \"[3, 1, 2] 2\"\n",
        "print(xs[-1])     # Negative indices count from the end of the list; prints \"2\"\n",
        "xs[2] = 'foo'     # Lists can contain elements of different types\n",
        "print(xs)         # Prints \"[3, 1, 'foo']\"\n",
        "xs.append('bar')  # Add a new element to the end of the list\n",
        "print(xs)         # Prints \"[3, 1, 'foo', 'bar']\"\n",
        "x = xs.pop()      # Remove and return the last element of the list\n",
        "print(x, xs)      # Prints \"bar [3, 1, 'foo']\""
      ],
      "execution_count": 0,
      "outputs": [
        {
          "output_type": "stream",
          "text": [
            "[3, 1, 2] 2\n",
            "2\n",
            "[3, 1, 'foo']\n",
            "[3, 1, 'foo', 'bar']\n",
            "bar [3, 1, 'foo']\n"
          ],
          "name": "stdout"
        }
      ]
    },
    {
      "cell_type": "code",
      "metadata": {
        "id": "9lmDwEc8W1fl",
        "colab_type": "code",
        "outputId": "34d20aa4-594a-490e-c6cd-5d40160115c0",
        "colab": {
          "base_uri": "https://localhost:8080/",
          "height": 145
        }
      },
      "source": [
        "nums = list(range(5))     # range is a built-in function that creates a list of integers\n",
        "print(nums)               # Prints \"[0, 1, 2, 3, 4]\"\n",
        "print(nums[2:4])          # Get a slice from index 2 to 4 (exclusive); prints \"[2, 3]\"\n",
        "print(nums[2:])           # Get a slice from index 2 to the end; prints \"[2, 3, 4]\"\n",
        "print(nums[:2])           # Get a slice from the start to index 2 (exclusive); prints \"[0, 1]\"\n",
        "print(nums[:])            # Get a slice of the whole list; prints \"[0, 1, 2, 3, 4]\"\n",
        "print(nums[:-1])          # Slice indices can be negative; prints \"[0, 1, 2, 3]\"\n",
        "nums[2:4] = [8, 9]        # Assign a new sublist to a slice\n",
        "print(nums)               # Prints \"[0, 1, 8, 9, 4]\""
      ],
      "execution_count": 0,
      "outputs": [
        {
          "output_type": "stream",
          "text": [
            "[0, 1, 2, 3, 4]\n",
            "[2, 3]\n",
            "[2, 3, 4]\n",
            "[0, 1]\n",
            "[0, 1, 2, 3, 4]\n",
            "[0, 1, 2, 3]\n",
            "[0, 1, 8, 9, 4]\n"
          ],
          "name": "stdout"
        }
      ]
    },
    {
      "cell_type": "code",
      "metadata": {
        "id": "GCd_iKfMXHMV",
        "colab_type": "code",
        "outputId": "105b5d9e-580e-4b6e-e9da-8e4a548f3d12",
        "colab": {
          "base_uri": "https://localhost:8080/",
          "height": 72
        }
      },
      "source": [
        "animals = ['cat', 'dog', 'monkey']\n",
        "for animal in animals:\n",
        "    print(animal)\n",
        "# Prints \"cat\", \"dog\", \"monkey\", each on its own line."
      ],
      "execution_count": 0,
      "outputs": [
        {
          "output_type": "stream",
          "text": [
            "cat\n",
            "dog\n",
            "monkey\n"
          ],
          "name": "stdout"
        }
      ]
    },
    {
      "cell_type": "code",
      "metadata": {
        "id": "6XkbCtniXNRu",
        "colab_type": "code",
        "outputId": "32fa7e33-7997-45b0-b543-2061ebf6e48e",
        "colab": {
          "base_uri": "https://localhost:8080/",
          "height": 35
        }
      },
      "source": [
        "nums = [0, 1, 2, 3, 4]\n",
        "even_squares = [x ** 2 for x in nums if x % 2 == 0]\n",
        "print(even_squares)  # Prints \"[0, 4, 16]\""
      ],
      "execution_count": 0,
      "outputs": [
        {
          "output_type": "stream",
          "text": [
            "[0, 4, 16]\n"
          ],
          "name": "stdout"
        }
      ]
    },
    {
      "cell_type": "code",
      "metadata": {
        "id": "nT3fa2JoXZK5",
        "colab_type": "code",
        "outputId": "55a61d60-4886-478f-8342-38d9f0808b13",
        "colab": {
          "base_uri": "https://localhost:8080/",
          "height": 72
        }
      },
      "source": [
        "import numpy as np\n",
        "np.ones((3,3),dtype=np.int16)\n",
        "z=np.random.randn(3,3)\n",
        "np.full((3,3),6)\n",
        "np.ones_like(z)"
      ],
      "execution_count": 0,
      "outputs": [
        {
          "output_type": "execute_result",
          "data": {
            "text/plain": [
              "array([[1., 1., 1.],\n",
              "       [1., 1., 1.],\n",
              "       [1., 1., 1.]])"
            ]
          },
          "metadata": {
            "tags": []
          },
          "execution_count": 62
        }
      ]
    },
    {
      "cell_type": "code",
      "metadata": {
        "id": "VcMcbfGoXoZd",
        "colab_type": "code",
        "outputId": "a552e2f2-7466-474d-9df3-dba88b79b25a",
        "colab": {
          "base_uri": "https://localhost:8080/",
          "height": 54
        }
      },
      "source": [
        "z=np.random.randint(0,2,(2,4))\n",
        "z"
      ],
      "execution_count": 0,
      "outputs": [
        {
          "output_type": "execute_result",
          "data": {
            "text/plain": [
              "array([[1, 0, 1, 1],\n",
              "       [1, 1, 0, 1]])"
            ]
          },
          "metadata": {
            "tags": []
          },
          "execution_count": 64
        }
      ]
    },
    {
      "cell_type": "code",
      "metadata": {
        "id": "X2qgZXhKZm0L",
        "colab_type": "code",
        "outputId": "7529055e-f385-4835-e8c8-4fe9fd9af631",
        "colab": {
          "base_uri": "https://localhost:8080/",
          "height": 90
        }
      },
      "source": [
        "np.random.seed(3)\n",
        "z=np.random.randn(2,9)\n",
        "z"
      ],
      "execution_count": 0,
      "outputs": [
        {
          "output_type": "execute_result",
          "data": {
            "text/plain": [
              "array([[ 1.78862847,  0.43650985,  0.09649747, -1.8634927 , -0.2773882 ,\n",
              "        -0.35475898, -0.08274148, -0.62700068, -0.04381817],\n",
              "       [-0.47721803, -1.31386475,  0.88462238,  0.88131804,  1.70957306,\n",
              "         0.05003364, -0.40467741, -0.54535995, -1.54647732]])"
            ]
          },
          "metadata": {
            "tags": []
          },
          "execution_count": 67
        }
      ]
    },
    {
      "cell_type": "code",
      "metadata": {
        "id": "fs1_R8HubDgf",
        "colab_type": "code",
        "colab": {}
      },
      "source": [
        "a=np.ones((3,3),dtype=np.int8)"
      ],
      "execution_count": 0,
      "outputs": []
    },
    {
      "cell_type": "code",
      "metadata": {
        "id": "M-BtdNpfbQ8Q",
        "colab_type": "code",
        "colab": {}
      },
      "source": [
        "b=a+a"
      ],
      "execution_count": 0,
      "outputs": []
    },
    {
      "cell_type": "code",
      "metadata": {
        "id": "R0Lh8jGFbSyR",
        "colab_type": "code",
        "outputId": "9e8200f1-cc3a-4d3a-e55d-c79974cbedeb",
        "colab": {
          "base_uri": "https://localhost:8080/",
          "height": 72
        }
      },
      "source": [
        "b"
      ],
      "execution_count": 0,
      "outputs": [
        {
          "output_type": "execute_result",
          "data": {
            "text/plain": [
              "array([[2, 2, 2],\n",
              "       [2, 2, 2],\n",
              "       [2, 2, 2]], dtype=int8)"
            ]
          },
          "metadata": {
            "tags": []
          },
          "execution_count": 71
        }
      ]
    },
    {
      "cell_type": "code",
      "metadata": {
        "id": "eg10FfR5bUyq",
        "colab_type": "code",
        "outputId": "6319cac0-eed5-4471-d9f6-e0184b65b624",
        "colab": {
          "base_uri": "https://localhost:8080/",
          "height": 72
        }
      },
      "source": [
        "a/3\n"
      ],
      "execution_count": 0,
      "outputs": [
        {
          "output_type": "execute_result",
          "data": {
            "text/plain": [
              "array([[0.33333333, 0.33333333, 0.33333333],\n",
              "       [0.33333333, 0.33333333, 0.33333333],\n",
              "       [0.33333333, 0.33333333, 0.33333333]])"
            ]
          },
          "metadata": {
            "tags": []
          },
          "execution_count": 72
        }
      ]
    },
    {
      "cell_type": "code",
      "metadata": {
        "id": "sHP1FjyfbWcN",
        "colab_type": "code",
        "outputId": "c97809ef-f698-41a4-ea03-515e87018a10",
        "colab": {
          "base_uri": "https://localhost:8080/",
          "height": 72
        }
      },
      "source": [
        "a/b"
      ],
      "execution_count": 0,
      "outputs": [
        {
          "output_type": "execute_result",
          "data": {
            "text/plain": [
              "array([[0.5, 0.5, 0.5],\n",
              "       [0.5, 0.5, 0.5],\n",
              "       [0.5, 0.5, 0.5]])"
            ]
          },
          "metadata": {
            "tags": []
          },
          "execution_count": 75
        }
      ]
    },
    {
      "cell_type": "code",
      "metadata": {
        "id": "BTll-5Gqb3SI",
        "colab_type": "code",
        "outputId": "afb18b50-03ec-4449-f5c7-b9412597958d",
        "colab": {
          "base_uri": "https://localhost:8080/",
          "height": 72
        }
      },
      "source": [
        "np.dot(a,b)"
      ],
      "execution_count": 0,
      "outputs": [
        {
          "output_type": "execute_result",
          "data": {
            "text/plain": [
              "array([[6, 6, 6],\n",
              "       [6, 6, 6],\n",
              "       [6, 6, 6]], dtype=int8)"
            ]
          },
          "metadata": {
            "tags": []
          },
          "execution_count": 76
        }
      ]
    },
    {
      "cell_type": "code",
      "metadata": {
        "id": "cJg_fLN6b7mC",
        "colab_type": "code",
        "outputId": "965fa351-8dc2-4000-ad2e-58cbc452591d",
        "colab": {
          "base_uri": "https://localhost:8080/",
          "height": 35
        }
      },
      "source": [
        "np.linalg.det(a)"
      ],
      "execution_count": 0,
      "outputs": [
        {
          "output_type": "execute_result",
          "data": {
            "text/plain": [
              "0.0"
            ]
          },
          "metadata": {
            "tags": []
          },
          "execution_count": 78
        }
      ]
    },
    {
      "cell_type": "code",
      "metadata": {
        "id": "OB-AdcY9cpJp",
        "colab_type": "code",
        "outputId": "d87d18c8-de25-4c4f-c60c-6a047ddafef9",
        "colab": {
          "base_uri": "https://localhost:8080/",
          "height": 72
        }
      },
      "source": [
        "a/3"
      ],
      "execution_count": 0,
      "outputs": [
        {
          "output_type": "execute_result",
          "data": {
            "text/plain": [
              "array([[0.33333333, 0.33333333, 0.33333333],\n",
              "       [0.33333333, 0.33333333, 0.33333333],\n",
              "       [0.33333333, 0.33333333, 0.33333333]])"
            ]
          },
          "metadata": {
            "tags": []
          },
          "execution_count": 85
        }
      ]
    },
    {
      "cell_type": "code",
      "metadata": {
        "id": "vZqcTNyLbp8M",
        "colab_type": "code",
        "outputId": "bbb8e0a0-9fc0-401b-b699-fc2a1a1ee652",
        "colab": {
          "base_uri": "https://localhost:8080/",
          "height": 72
        }
      },
      "source": [
        "a>4"
      ],
      "execution_count": 0,
      "outputs": [
        {
          "output_type": "execute_result",
          "data": {
            "text/plain": [
              "array([[False, False, False],\n",
              "       [False, False, False],\n",
              "       [False, False, False]])"
            ]
          },
          "metadata": {
            "tags": []
          },
          "execution_count": 86
        }
      ]
    },
    {
      "cell_type": "code",
      "metadata": {
        "id": "ilg_f5JUdMlN",
        "colab_type": "code",
        "colab": {}
      },
      "source": [
        "c=a.copy()"
      ],
      "execution_count": 0,
      "outputs": []
    },
    {
      "cell_type": "code",
      "metadata": {
        "id": "YpmKgxQ3dPWw",
        "colab_type": "code",
        "outputId": "6f37f616-b802-45e2-d23b-d7a9c99703c2",
        "colab": {
          "base_uri": "https://localhost:8080/",
          "height": 72
        }
      },
      "source": [
        "c\n"
      ],
      "execution_count": 0,
      "outputs": [
        {
          "output_type": "execute_result",
          "data": {
            "text/plain": [
              "array([[1, 1, 1],\n",
              "       [1, 1, 1],\n",
              "       [1, 1, 1]], dtype=int8)"
            ]
          },
          "metadata": {
            "tags": []
          },
          "execution_count": 88
        }
      ]
    },
    {
      "cell_type": "code",
      "metadata": {
        "id": "XzK61rRbdZr9",
        "colab_type": "code",
        "outputId": "ca529b70-a649-429a-e2cc-8e5e82be96d3",
        "colab": {
          "base_uri": "https://localhost:8080/",
          "height": 72
        }
      },
      "source": [
        "c[:]=300000\n",
        "c"
      ],
      "execution_count": 0,
      "outputs": [
        {
          "output_type": "execute_result",
          "data": {
            "text/plain": [
              "array([[-32, -32, -32],\n",
              "       [-32, -32, -32],\n",
              "       [-32, -32, -32]], dtype=int8)"
            ]
          },
          "metadata": {
            "tags": []
          },
          "execution_count": 90
        }
      ]
    },
    {
      "cell_type": "code",
      "metadata": {
        "id": "QoGyMLPed2s6",
        "colab_type": "code",
        "colab": {}
      },
      "source": [
        "a=np.arange(100)"
      ],
      "execution_count": 0,
      "outputs": []
    },
    {
      "cell_type": "code",
      "metadata": {
        "id": "TmIrflYieAhu",
        "colab_type": "code",
        "outputId": "a8497768-2af2-4503-a238-ea5d073c3512",
        "colab": {
          "base_uri": "https://localhost:8080/",
          "height": 72
        }
      },
      "source": [
        "a[0:50].copy()"
      ],
      "execution_count": 0,
      "outputs": [
        {
          "output_type": "execute_result",
          "data": {
            "text/plain": [
              "array([ 0,  1,  2,  3,  4,  5,  6,  7,  8,  9, 10, 11, 12, 13, 14, 15, 16,\n",
              "       17, 18, 19, 20, 21, 22, 23, 24, 25, 26, 27, 28, 29, 30, 31, 32, 33,\n",
              "       34, 35, 36, 37, 38, 39, 40, 41, 42, 43, 44, 45, 46, 47, 48, 49])"
            ]
          },
          "metadata": {
            "tags": []
          },
          "execution_count": 92
        }
      ]
    },
    {
      "cell_type": "code",
      "metadata": {
        "id": "A_WvUEsaeGQq",
        "colab_type": "code",
        "outputId": "1a6551d3-dabe-424f-9dae-4165fc42fb21",
        "colab": {
          "base_uri": "https://localhost:8080/",
          "height": 217
        }
      },
      "source": [
        "z=np.random.randint(0,10,(3,3,3))\n",
        "z"
      ],
      "execution_count": 0,
      "outputs": [
        {
          "output_type": "execute_result",
          "data": {
            "text/plain": [
              "array([[[7, 4, 3],\n",
              "        [0, 0, 0],\n",
              "        [0, 2, 2]],\n",
              "\n",
              "       [[7, 0, 5],\n",
              "        [0, 1, 4],\n",
              "        [1, 2, 2]],\n",
              "\n",
              "       [[4, 8, 0],\n",
              "        [6, 0, 4],\n",
              "        [1, 5, 1]]])"
            ]
          },
          "metadata": {
            "tags": []
          },
          "execution_count": 94
        }
      ]
    },
    {
      "cell_type": "code",
      "metadata": {
        "id": "jn3Tnsf_etUY",
        "colab_type": "code",
        "outputId": "e0df8dd8-32c8-4abc-c67a-4e7adc8767a8",
        "colab": {
          "base_uri": "https://localhost:8080/",
          "height": 35
        }
      },
      "source": [
        "z[0,0]"
      ],
      "execution_count": 0,
      "outputs": [
        {
          "output_type": "execute_result",
          "data": {
            "text/plain": [
              "array([7, 4, 3])"
            ]
          },
          "metadata": {
            "tags": []
          },
          "execution_count": 95
        }
      ]
    },
    {
      "cell_type": "code",
      "metadata": {
        "id": "oe3AhihhfLK8",
        "colab_type": "code",
        "outputId": "b3a58c45-d90f-4b1e-8f1c-701595d878df",
        "colab": {
          "base_uri": "https://localhost:8080/",
          "height": 72
        }
      },
      "source": [
        "z[:2,:1]"
      ],
      "execution_count": 0,
      "outputs": [
        {
          "output_type": "execute_result",
          "data": {
            "text/plain": [
              "array([[[7, 4, 3]],\n",
              "\n",
              "       [[7, 0, 5]]])"
            ]
          },
          "metadata": {
            "tags": []
          },
          "execution_count": 96
        }
      ]
    },
    {
      "cell_type": "code",
      "metadata": {
        "id": "9xx612n7fS8Z",
        "colab_type": "code",
        "outputId": "cae532d0-2529-4c84-b469-930f05940ca9",
        "colab": {
          "base_uri": "https://localhost:8080/",
          "height": 72
        }
      },
      "source": [
        "z[2]\n",
        "z[2,:]\n",
        "z[2:,:]"
      ],
      "execution_count": 0,
      "outputs": [
        {
          "output_type": "execute_result",
          "data": {
            "text/plain": [
              "array([[[4, 8, 0],\n",
              "        [6, 0, 4],\n",
              "        [1, 5, 1]]])"
            ]
          },
          "metadata": {
            "tags": []
          },
          "execution_count": 97
        }
      ]
    },
    {
      "cell_type": "code",
      "metadata": {
        "id": "VhX_45WTfrU-",
        "colab_type": "code",
        "outputId": "64a7a849-2d08-41ab-adda-214c7c9e326b",
        "colab": {
          "base_uri": "https://localhost:8080/",
          "height": 35
        }
      },
      "source": [
        "x=np.arange(10)\n",
        "x"
      ],
      "execution_count": 0,
      "outputs": [
        {
          "output_type": "execute_result",
          "data": {
            "text/plain": [
              "array([0, 1, 2, 3, 4, 5, 6, 7, 8, 9])"
            ]
          },
          "metadata": {
            "tags": []
          },
          "execution_count": 99
        }
      ]
    },
    {
      "cell_type": "code",
      "metadata": {
        "id": "KavD-Tc_gDwb",
        "colab_type": "code",
        "outputId": "20f1e88e-3479-46a5-a91e-251ab5a0369c",
        "colab": {
          "base_uri": "https://localhost:8080/",
          "height": 35
        }
      },
      "source": [
        "a[-1]"
      ],
      "execution_count": 0,
      "outputs": [
        {
          "output_type": "execute_result",
          "data": {
            "text/plain": [
              "99"
            ]
          },
          "metadata": {
            "tags": []
          },
          "execution_count": 100
        }
      ]
    },
    {
      "cell_type": "code",
      "metadata": {
        "id": "SdBB4V6elaxS",
        "colab_type": "code",
        "outputId": "2145f47d-36c5-48a5-8268-f232eca0461f",
        "colab": {
          "base_uri": "https://localhost:8080/",
          "height": 126
        }
      },
      "source": [
        "a[:-1]"
      ],
      "execution_count": 0,
      "outputs": [
        {
          "output_type": "execute_result",
          "data": {
            "text/plain": [
              "array([ 0,  1,  2,  3,  4,  5,  6,  7,  8,  9, 10, 11, 12, 13, 14, 15, 16,\n",
              "       17, 18, 19, 20, 21, 22, 23, 24, 25, 26, 27, 28, 29, 30, 31, 32, 33,\n",
              "       34, 35, 36, 37, 38, 39, 40, 41, 42, 43, 44, 45, 46, 47, 48, 49, 50,\n",
              "       51, 52, 53, 54, 55, 56, 57, 58, 59, 60, 61, 62, 63, 64, 65, 66, 67,\n",
              "       68, 69, 70, 71, 72, 73, 74, 75, 76, 77, 78, 79, 80, 81, 82, 83, 84,\n",
              "       85, 86, 87, 88, 89, 90, 91, 92, 93, 94, 95, 96, 97, 98])"
            ]
          },
          "metadata": {
            "tags": []
          },
          "execution_count": 101
        }
      ]
    },
    {
      "cell_type": "code",
      "metadata": {
        "id": "PmA-9EHsl-Pw",
        "colab_type": "code",
        "outputId": "c8f64083-2fca-4e94-b9d4-4d91447bb061",
        "colab": {
          "base_uri": "https://localhost:8080/",
          "height": 199
        }
      },
      "source": [
        "z=np.random.randn(10,3)\n",
        "z"
      ],
      "execution_count": 0,
      "outputs": [
        {
          "output_type": "execute_result",
          "data": {
            "text/plain": [
              "array([[ 1.2717041 ,  0.17594318, -0.70746362],\n",
              "       [-0.63409305, -0.13368054, -1.3610901 ],\n",
              "       [-1.30022534,  0.01004113, -1.05368742],\n",
              "       [-0.91878414,  0.00852071,  1.01270555],\n",
              "       [-1.87120247,  0.85779193, -0.93330128],\n",
              "       [ 0.26973425, -0.91206319, -0.87171282],\n",
              "       [-0.94458939, -0.84984818,  0.67813101],\n",
              "       [-2.07581204, -1.09506468, -0.02420065],\n",
              "       [-0.3690456 ,  0.47185781,  1.84699846],\n",
              "       [-0.26119409,  1.27851999, -1.03967288]])"
            ]
          },
          "metadata": {
            "tags": []
          },
          "execution_count": 104
        }
      ]
    },
    {
      "cell_type": "code",
      "metadata": {
        "id": "RlT6-b3MmGOH",
        "colab_type": "code",
        "outputId": "81355acd-2830-4262-8e03-59906584eb11",
        "colab": {
          "base_uri": "https://localhost:8080/",
          "height": 54
        }
      },
      "source": [
        "z.sum(axis=1)>0"
      ],
      "execution_count": 0,
      "outputs": [
        {
          "output_type": "execute_result",
          "data": {
            "text/plain": [
              "array([ True, False, False,  True, False, False, False, False,  True,\n",
              "       False])"
            ]
          },
          "metadata": {
            "tags": []
          },
          "execution_count": 105
        }
      ]
    },
    {
      "cell_type": "code",
      "metadata": {
        "id": "Few-2qUYmTiQ",
        "colab_type": "code",
        "outputId": "b5be9325-8aad-41ea-caac-9cc67d2d5ca7",
        "colab": {
          "base_uri": "https://localhost:8080/",
          "height": 72
        }
      },
      "source": [
        "z[z.sum(axis=1)>0]"
      ],
      "execution_count": 0,
      "outputs": [
        {
          "output_type": "execute_result",
          "data": {
            "text/plain": [
              "array([[ 1.2717041 ,  0.17594318, -0.70746362],\n",
              "       [-0.91878414,  0.00852071,  1.01270555],\n",
              "       [-0.3690456 ,  0.47185781,  1.84699846]])"
            ]
          },
          "metadata": {
            "tags": []
          },
          "execution_count": 106
        }
      ]
    },
    {
      "cell_type": "code",
      "metadata": {
        "id": "RzmD2Z38mc-E",
        "colab_type": "code",
        "outputId": "7bfca477-c5d7-4d59-a201-b10c4ded414d",
        "colab": {
          "base_uri": "https://localhost:8080/",
          "height": 90
        }
      },
      "source": [
        "z[z<0]"
      ],
      "execution_count": 0,
      "outputs": [
        {
          "output_type": "execute_result",
          "data": {
            "text/plain": [
              "array([-0.70746362, -0.63409305, -0.13368054, -1.3610901 , -1.30022534,\n",
              "       -1.05368742, -0.91878414, -1.87120247, -0.93330128, -0.91206319,\n",
              "       -0.87171282, -0.94458939, -0.84984818, -2.07581204, -1.09506468,\n",
              "       -0.02420065, -0.3690456 , -0.26119409, -1.03967288])"
            ]
          },
          "metadata": {
            "tags": []
          },
          "execution_count": 107
        }
      ]
    },
    {
      "cell_type": "code",
      "metadata": {
        "id": "RC7Pnnekmo_G",
        "colab_type": "code",
        "outputId": "b3298d6a-0891-4e03-98d8-f42584401991",
        "colab": {
          "base_uri": "https://localhost:8080/",
          "height": 72
        }
      },
      "source": [
        "z[z.sum(axis=-1)>0]"
      ],
      "execution_count": 0,
      "outputs": [
        {
          "output_type": "execute_result",
          "data": {
            "text/plain": [
              "array([[ 1.2717041 ,  0.17594318, -0.70746362],\n",
              "       [-0.91878414,  0.00852071,  1.01270555],\n",
              "       [-0.3690456 ,  0.47185781,  1.84699846]])"
            ]
          },
          "metadata": {
            "tags": []
          },
          "execution_count": 113
        }
      ]
    },
    {
      "cell_type": "code",
      "metadata": {
        "id": "z9MqnGSjnH3V",
        "colab_type": "code",
        "outputId": "09364605-b2b6-498c-9e51-79d795d28884",
        "colab": {
          "base_uri": "https://localhost:8080/",
          "height": 199
        }
      },
      "source": [
        "mask=(z>0)&(z<0.5)\n",
        "mask"
      ],
      "execution_count": 0,
      "outputs": [
        {
          "output_type": "execute_result",
          "data": {
            "text/plain": [
              "array([[False,  True, False],\n",
              "       [False, False, False],\n",
              "       [False,  True, False],\n",
              "       [False,  True, False],\n",
              "       [False, False, False],\n",
              "       [ True, False, False],\n",
              "       [False, False, False],\n",
              "       [False, False, False],\n",
              "       [False,  True, False],\n",
              "       [False, False, False]])"
            ]
          },
          "metadata": {
            "tags": []
          },
          "execution_count": 115
        }
      ]
    },
    {
      "cell_type": "code",
      "metadata": {
        "id": "gNza27v4n2Hx",
        "colab_type": "code",
        "outputId": "3abd254d-e2e4-4b82-8be6-e34f5b9d7907",
        "colab": {
          "base_uri": "https://localhost:8080/",
          "height": 35
        }
      },
      "source": [
        "z[mask]"
      ],
      "execution_count": 0,
      "outputs": [
        {
          "output_type": "execute_result",
          "data": {
            "text/plain": [
              "array([0.17594318, 0.01004113, 0.00852071, 0.26973425, 0.47185781])"
            ]
          },
          "metadata": {
            "tags": []
          },
          "execution_count": 117
        }
      ]
    },
    {
      "cell_type": "code",
      "metadata": {
        "id": "WwIFJD4roiYC",
        "colab_type": "code",
        "outputId": "3f11fa86-8d01-499f-9b4a-87e0b371666e",
        "colab": {
          "base_uri": "https://localhost:8080/",
          "height": 34
        }
      },
      "source": [
        "z[1]"
      ],
      "execution_count": 0,
      "outputs": [
        {
          "output_type": "execute_result",
          "data": {
            "text/plain": [
              "array([-0.63409305, -0.13368054, -1.3610901 ])"
            ]
          },
          "metadata": {
            "tags": []
          },
          "execution_count": 120
        }
      ]
    },
    {
      "cell_type": "code",
      "metadata": {
        "id": "Pgz8apRFoy0O",
        "colab_type": "code",
        "outputId": "db3053a6-62b6-4f7a-a309-3a575c8269a1",
        "colab": {
          "base_uri": "https://localhost:8080/",
          "height": 1000
        }
      },
      "source": [
        "z=np.random.randn(8,8,8)\n",
        "z"
      ],
      "execution_count": 0,
      "outputs": [
        {
          "output_type": "execute_result",
          "data": {
            "text/plain": [
              "array([[[-0.36337495, -0.19121804,  1.61115322, -0.5416413 ,\n",
              "         -1.17096857,  0.42248754, -0.73910971,  1.33971843],\n",
              "        [ 0.67446905,  0.63638934,  1.29883749,  0.66926649,\n",
              "          1.40051026,  1.24630695,  0.53883581, -0.64360128],\n",
              "        [ 0.84893186, -1.75729613,  0.00456386, -0.94778073,\n",
              "          0.4914105 ,  0.87525777,  0.09446645, -1.05684084],\n",
              "        [ 0.36356378,  1.06718518, -0.30516134,  1.12096088,\n",
              "          0.35108312,  0.42251646,  0.31367575, -0.57419381],\n",
              "        [ 0.44024233,  1.07753417, -1.07128983, -0.55406848,\n",
              "         -0.42398774,  0.05950704,  0.56167223, -1.00860758],\n",
              "        [ 0.26309463,  0.4975868 ,  0.823931  , -0.13616535,\n",
              "         -0.72072876,  0.64677019,  0.34625452, -0.23428083],\n",
              "        [-0.52098461,  1.54875979,  0.0611088 , -0.67940978,\n",
              "          0.26484372,  1.0403459 ,  0.11415177,  0.93787246],\n",
              "        [ 0.40247483,  1.03597266,  0.79376553, -1.40136672,\n",
              "          0.24213856,  0.04860006,  1.18331952,  1.94485739]],\n",
              "\n",
              "       [[-0.9999224 ,  1.17590429,  1.58384074, -1.88016542,\n",
              "          0.55834079, -0.89949773, -2.1953908 , -1.25755975],\n",
              "        [ 0.81471034,  1.41554604, -1.16331935, -0.31705147,\n",
              "         -1.3345472 , -0.7479962 ,  0.49671964,  0.11692332],\n",
              "        [ 0.29044969,  0.88502348,  0.70158126,  0.30112693,\n",
              "         -0.09875765,  2.00822099, -0.82441293,  0.79159882],\n",
              "        [-3.25276871,  2.35901762,  1.02167002,  1.89077767,\n",
              "         -0.17283299, -0.70853195, -1.57593459, -1.11076945],\n",
              "        [ 2.43040943,  1.98874102,  1.77740184,  0.31471795,\n",
              "          1.70149606, -1.52641823, -0.08731125, -0.4693424 ],\n",
              "        [-0.42270016,  0.87498303, -0.24808544, -0.6524692 ,\n",
              "          0.07342193,  0.00586369,  0.51512488, -0.40980525],\n",
              "        [-0.05019831,  1.0235694 ,  0.72601163, -0.73969414,\n",
              "         -1.7537552 , -1.78267144,  1.69978399,  0.16633242],\n",
              "        [-0.21791978,  1.26224101, -1.84870898, -0.09361026,\n",
              "         -2.21959579, -0.7076975 ,  0.87148664,  0.26469188]],\n",
              "\n",
              "       [[-0.07765079,  0.0345471 , -0.85472517,  1.450707  ,\n",
              "          0.73630804,  0.10912708, -0.17397987,  1.58404021],\n",
              "        [ 0.01652522, -0.60639438, -0.64193368,  0.25942132,\n",
              "         -0.66659278, -0.47110043,  0.57679756,  0.05724659],\n",
              "        [ 1.76553668,  0.42336351, -0.77268396,  1.09818686,\n",
              "          0.05368668, -0.79096824,  0.35891104, -1.20128779],\n",
              "        [ 1.91025799,  0.58830534,  1.0309888 ,  0.7834406 ,\n",
              "         -0.33897052, -1.59642927, -1.1215477 , -1.20230036],\n",
              "        [ 0.22853806, -0.08813633, -2.02840457,  0.8137258 ,\n",
              "          0.33627294, -1.02056063,  0.09155003,  3.08886513],\n",
              "        [ 0.48954752, -1.00011911, -1.65739184,  0.60533885,\n",
              "         -0.17938676,  1.19744564, -0.05179905,  1.11401143],\n",
              "        [-0.50746205, -0.83929431, -1.24447907,  0.60720431,\n",
              "         -0.35608491,  0.27803339,  1.45075673,  1.05029458],\n",
              "        [-0.73695754,  0.26796357, -0.38696815, -0.16587332,\n",
              "          0.40489049,  0.88248063,  0.13880528, -0.60322656]],\n",
              "\n",
              "       [[ 1.55279804, -0.28391667, -0.46668277,  0.70527379,\n",
              "          0.33729411, -0.20748492,  2.6305343 ,  2.1886117 ],\n",
              "        [ 0.56110228,  0.34450235, -0.7680492 ,  0.27979905,\n",
              "         -0.3610866 ,  1.772109  , -1.63381594, -0.95618371],\n",
              "        [ 1.1054027 , -0.07542821, -0.10850534,  0.22033672,\n",
              "         -0.02651276,  1.21851074, -0.91445025, -0.86040433],\n",
              "        [-1.13213743,  1.72494032, -0.23604904,  1.22000578,\n",
              "          0.15306064,  1.23443046,  0.25061267,  0.35455878],\n",
              "        [-0.73494846, -0.47288589,  0.49817005,  0.70544569,\n",
              "         -0.1678933 , -0.91120997, -0.64866917,  1.8707832 ],\n",
              "        [ 0.81543354, -0.41616178, -0.70779625,  0.46885584,\n",
              "          0.57509448, -0.87186731, -0.69040733,  1.89436534],\n",
              "        [ 0.71843776, -0.00479409,  1.52846396, -0.62702111,\n",
              "          1.65393707, -0.06921595, -0.48749483, -0.76496497],\n",
              "        [-1.19186012,  0.64133005,  0.57110375, -1.41238558,\n",
              "         -0.20194892,  0.86534528, -0.44820377, -1.03157782]],\n",
              "\n",
              "       [[-0.37169487, -0.60670082, -0.08217115,  2.13978352,\n",
              "         -0.66776766,  0.3096136 , -0.17640316,  0.75972311],\n",
              "        [ 0.68803158, -0.01749208, -1.09546578, -0.09923184,\n",
              "         -0.81965673, -0.40953328,  0.88487127,  0.42671478],\n",
              "        [-0.68485856, -0.63549841,  0.39631292, -0.43309704,\n",
              "         -1.48669892, -0.43769912, -0.21168882,  0.42814002],\n",
              "        [ 0.51748683,  0.59524486, -0.68714554,  2.20128565,\n",
              "          0.44015893, -0.09445714,  0.7040363 ,  0.23659022],\n",
              "        [-2.29931124,  1.18426827, -0.21885241, -1.47192856,\n",
              "          0.03409908,  0.67508248,  1.62303855,  0.99415627],\n",
              "        [ 0.66801546,  0.66965841,  1.09986398, -2.59776937,\n",
              "          1.23635842, -0.18333878,  0.10265375,  0.69760225],\n",
              "        [ 0.38795999,  0.9464399 ,  1.52599296,  0.77788031,\n",
              "         -0.06586459, -1.65681846, -0.0908898 ,  0.88940213],\n",
              "        [-2.00502436, -0.10922257,  0.50868888,  0.86469114,\n",
              "          1.17830511,  1.18964849,  0.1169976 , -0.21275078]],\n",
              "\n",
              "       [[ 0.01767338, -0.81945681, -0.40892072, -0.53749856,\n",
              "          0.08168593, -0.89171152,  2.37348366,  0.04409203],\n",
              "        [ 0.13913591,  0.51321328, -1.08376693,  0.33096317,\n",
              "         -1.14103887, -2.01325719,  0.51668939, -2.84832889],\n",
              "        [ 1.4129704 , -0.92525347, -0.6453766 ,  0.68522758,\n",
              "          0.03131367, -0.46162143, -1.27124744,  0.4153572 ],\n",
              "        [ 1.23381012,  1.6863634 , -0.15390508,  0.10693391,\n",
              "         -2.14823988,  0.77199668,  0.55110515, -0.11387667],\n",
              "        [ 0.31687054, -0.81740667, -0.96464585,  0.71527462,\n",
              "          0.89933803, -0.48189178, -0.48778638,  1.06112923],\n",
              "        [ 0.14866407,  2.36802607,  0.82435356, -0.70566229,\n",
              "          0.02882325, -0.36668337,  0.09833968,  0.48514864],\n",
              "        [-1.03096173, -0.62335341,  0.07595689,  0.49099691,\n",
              "         -0.89083478, -2.13574804,  0.64916785, -0.21457675],\n",
              "        [ 0.94125089, -0.55449324, -0.19988925,  0.97279036,\n",
              "          1.94446016,  0.72757272, -0.36140076,  0.95048376]],\n",
              "\n",
              "       [[ 1.08464023, -1.43503022, -0.79268175,  0.15833147,\n",
              "         -1.00942184, -0.20671899,  3.02758132, -0.77227674],\n",
              "        [-0.16117183, -2.26982722, -0.80643034,  0.44940424,\n",
              "         -0.28004538, -1.9367436 ,  1.29504237,  0.80607537],\n",
              "        [-0.31447784, -1.86829879, -0.57359464, -0.36466995,\n",
              "          0.44944582,  1.1431109 ,  0.87503997, -0.69844446],\n",
              "        [-0.28845718,  0.48023546,  0.46116078,  0.04303454,\n",
              "          0.08851692,  0.70143801, -2.12962006,  0.0483929 ],\n",
              "        [-0.01298483, -0.42451359, -0.34897219, -0.40097738,\n",
              "          2.48541712,  0.217042  , -0.4066374 , -0.94632225],\n",
              "        [-0.08000587, -0.24372851,  0.01553562,  0.13007874,\n",
              "          0.85210397,  0.15591757,  0.40225916,  1.69046415],\n",
              "        [-0.16962411,  1.6228357 , -0.00882255, -1.15471855,\n",
              "          0.47547434,  0.76355535,  1.6454398 , -0.44044622],\n",
              "        [-0.46917485, -0.30881452,  0.51917242,  0.62891035,\n",
              "          0.43171502, -1.17627572,  0.54626833,  1.54324932]],\n",
              "\n",
              "       [[ 0.2631188 , -2.10952914, -0.59939373,  0.99869393,\n",
              "          1.96251543,  1.19640179, -0.52179783, -0.64003623],\n",
              "        [ 0.59314603,  0.71623818,  0.26067409, -1.07240095,\n",
              "         -1.10854336, -0.50157224,  0.53363211,  0.32696387],\n",
              "        [-2.4429711 , -0.33434927,  0.35477733, -0.2799178 ,\n",
              "         -1.83213787, -1.05275551,  0.45385477, -0.84172092],\n",
              "        [-0.90037698,  2.61832794,  0.96116408,  0.00863791,\n",
              "          0.44594695, -0.10289984, -1.11961556,  0.61325739],\n",
              "        [-0.19511801,  1.56005075, -1.10266249, -2.06639657,\n",
              "          0.74513269, -0.06719751, -1.67425664, -0.27470891],\n",
              "        [ 0.24131049,  0.32691232, -0.95188948,  2.33751429,\n",
              "          0.61678244,  0.30155079,  0.65149343, -0.69018639],\n",
              "        [ 1.05807557,  2.11345856, -0.29919458,  0.06942353,\n",
              "          1.2342043 ,  1.59519001,  0.38052   , -0.4358339 ],\n",
              "        [-0.54211133, -0.13275926, -0.68634396, -0.5897906 ,\n",
              "          0.33063317,  1.12675884, -1.66919356, -0.78223456]]])"
            ]
          },
          "metadata": {
            "tags": []
          },
          "execution_count": 122
        }
      ]
    },
    {
      "cell_type": "code",
      "metadata": {
        "id": "vzW6GtfqpP5Q",
        "colab_type": "code",
        "outputId": "e65dc75b-184e-460a-c85d-eab721f4bfe9",
        "colab": {
          "base_uri": "https://localhost:8080/",
          "height": 1000
        }
      },
      "source": [
        "import numpy as np\n",
        "x = np.array([[[-0.36337495, -0.19121804,  1.61115322, -0.5416413 ,\n",
        "         -1.17096857,  0.42248754, -0.73910971,  1.33971843],\n",
        "        [ 0.67446905,  0.63638934,  1.29883749,  0.66926649,\n",
        "          1.40051026,  1.24630695,  0.53883581, -0.64360128],\n",
        "        [ 0.84893186, -1.75729613,  0.00456386, -0.94778073,\n",
        "          0.4914105 ,  0.87525777,  0.09446645, -1.05684084],\n",
        "        [ 0.36356378,  1.06718518, -0.30516134,  1.12096088,\n",
        "          0.35108312,  0.42251646,  0.31367575, -0.57419381],\n",
        "        [ 0.44024233,  1.07753417, -1.07128983, -0.55406848,\n",
        "         -0.42398774,  0.05950704,  0.56167223, -1.00860758],\n",
        "        [ 0.26309463,  0.4975868 ,  0.823931  , -0.13616535,\n",
        "         -0.72072876,  0.64677019,  0.34625452, -0.23428083],\n",
        "        [-0.52098461,  1.54875979,  0.0611088 , -0.67940978,\n",
        "          0.26484372,  1.0403459 ,  0.11415177,  0.93787246],\n",
        "        [ 0.40247483,  1.03597266,  0.79376553, -1.40136672,\n",
        "          0.24213856,  0.04860006,  1.18331952,  1.94485739]],\n",
        "\n",
        "       [[-0.9999224 ,  1.17590429,  1.58384074, -1.88016542,\n",
        "          0.55834079, -0.89949773, -2.1953908 , -1.25755975],\n",
        "        [ 0.81471034,  1.41554604, -1.16331935, -0.31705147,\n",
        "         -1.3345472 , -0.7479962 ,  0.49671964,  0.11692332],\n",
        "        [ 0.29044969,  0.88502348,  0.70158126,  0.30112693,\n",
        "         -0.09875765,  2.00822099, -0.82441293,  0.79159882],\n",
        "        [-3.25276871,  2.35901762,  1.02167002,  1.89077767,\n",
        "         -0.17283299, -0.70853195, -1.57593459, -1.11076945],\n",
        "        [ 2.43040943,  1.98874102,  1.77740184,  0.31471795,\n",
        "          1.70149606, -1.52641823, -0.08731125, -0.4693424 ],\n",
        "        [-0.42270016,  0.87498303, -0.24808544, -0.6524692 ,\n",
        "          0.07342193,  0.00586369,  0.51512488, -0.40980525],\n",
        "        [-0.05019831,  1.0235694 ,  0.72601163, -0.73969414,\n",
        "         -1.7537552 , -1.78267144,  1.69978399,  0.16633242],\n",
        "        [-0.21791978,  1.26224101, -1.84870898, -0.09361026,\n",
        "         -2.21959579, -0.7076975 ,  0.87148664,  0.26469188]],\n",
        "\n",
        "       [[-0.07765079,  0.0345471 , -0.85472517,  1.450707  ,\n",
        "          0.73630804,  0.10912708, -0.17397987,  1.58404021],\n",
        "        [ 0.01652522, -0.60639438, -0.64193368,  0.25942132,\n",
        "         -0.66659278, -0.47110043,  0.57679756,  0.05724659],\n",
        "        [ 1.76553668,  0.42336351, -0.77268396,  1.09818686,\n",
        "          0.05368668, -0.79096824,  0.35891104, -1.20128779],\n",
        "        [ 1.91025799,  0.58830534,  1.0309888 ,  0.7834406 ,\n",
        "         -0.33897052, -1.59642927, -1.1215477 , -1.20230036],\n",
        "        [ 0.22853806, -0.08813633, -2.02840457,  0.8137258 ,\n",
        "          0.33627294, -1.02056063,  0.09155003,  3.08886513],\n",
        "        [ 0.48954752, -1.00011911, -1.65739184,  0.60533885,\n",
        "         -0.17938676,  1.19744564, -0.05179905,  1.11401143],\n",
        "        [-0.50746205, -0.83929431, -1.24447907,  0.60720431,\n",
        "         -0.35608491,  0.27803339,  1.45075673,  1.05029458],\n",
        "        [-0.73695754,  0.26796357, -0.38696815, -0.16587332,\n",
        "          0.40489049,  0.88248063,  0.13880528, -0.60322656]],\n",
        "\n",
        "       [[ 1.55279804, -0.28391667, -0.46668277,  0.70527379,\n",
        "          0.33729411, -0.20748492,  2.6305343 ,  2.1886117 ],\n",
        "        [ 0.56110228,  0.34450235, -0.7680492 ,  0.27979905,\n",
        "         -0.3610866 ,  1.772109  , -1.63381594, -0.95618371],\n",
        "        [ 1.1054027 , -0.07542821, -0.10850534,  0.22033672,\n",
        "         -0.02651276,  1.21851074, -0.91445025, -0.86040433],\n",
        "        [-1.13213743,  1.72494032, -0.23604904,  1.22000578,\n",
        "          0.15306064,  1.23443046,  0.25061267,  0.35455878],\n",
        "        [-0.73494846, -0.47288589,  0.49817005,  0.70544569,\n",
        "         -0.1678933 , -0.91120997, -0.64866917,  1.8707832 ],\n",
        "        [ 0.81543354, -0.41616178, -0.70779625,  0.46885584,\n",
        "          0.57509448, -0.87186731, -0.69040733,  1.89436534],\n",
        "        [ 0.71843776, -0.00479409,  1.52846396, -0.62702111,\n",
        "          1.65393707, -0.06921595, -0.48749483, -0.76496497],\n",
        "        [-1.19186012,  0.64133005,  0.57110375, -1.41238558,\n",
        "         -0.20194892,  0.86534528, -0.44820377, -1.03157782]],\n",
        "\n",
        "       [[-0.37169487, -0.60670082, -0.08217115,  2.13978352,\n",
        "         -0.66776766,  0.3096136 , -0.17640316,  0.75972311],\n",
        "        [ 0.68803158, -0.01749208, -1.09546578, -0.09923184,\n",
        "         -0.81965673, -0.40953328,  0.88487127,  0.42671478],\n",
        "        [-0.68485856, -0.63549841,  0.39631292, -0.43309704,\n",
        "         -1.48669892, -0.43769912, -0.21168882,  0.42814002],\n",
        "        [ 0.51748683,  0.59524486, -0.68714554,  2.20128565,\n",
        "          0.44015893, -0.09445714,  0.7040363 ,  0.23659022],\n",
        "        [-2.29931124,  1.18426827, -0.21885241, -1.47192856,\n",
        "          0.03409908,  0.67508248,  1.62303855,  0.99415627],\n",
        "        [ 0.66801546,  0.66965841,  1.09986398, -2.59776937,\n",
        "          1.23635842, -0.18333878,  0.10265375,  0.69760225],\n",
        "        [ 0.38795999,  0.9464399 ,  1.52599296,  0.77788031,\n",
        "         -0.06586459, -1.65681846, -0.0908898 ,  0.88940213],\n",
        "        [-2.00502436, -0.10922257,  0.50868888,  0.86469114,\n",
        "          1.17830511,  1.18964849,  0.1169976 , -0.21275078]],\n",
        "\n",
        "       [[ 0.01767338, -0.81945681, -0.40892072, -0.53749856,\n",
        "          0.08168593, -0.89171152,  2.37348366,  0.04409203],\n",
        "        [ 0.13913591,  0.51321328, -1.08376693,  0.33096317,\n",
        "         -1.14103887, -2.01325719,  0.51668939, -2.84832889],\n",
        "        [ 1.4129704 , -0.92525347, -0.6453766 ,  0.68522758,\n",
        "          0.03131367, -0.46162143, -1.27124744,  0.4153572 ],\n",
        "        [ 1.23381012,  1.6863634 , -0.15390508,  0.10693391,\n",
        "         -2.14823988,  0.77199668,  0.55110515, -0.11387667],\n",
        "        [ 0.31687054, -0.81740667, -0.96464585,  0.71527462,\n",
        "          0.89933803, -0.48189178, -0.48778638,  1.06112923],\n",
        "        [ 0.14866407,  2.36802607,  0.82435356, -0.70566229,\n",
        "          0.02882325, -0.36668337,  0.09833968,  0.48514864],\n",
        "        [-1.03096173, -0.62335341,  0.07595689,  0.49099691,\n",
        "         -0.89083478, -2.13574804,  0.64916785, -0.21457675],\n",
        "        [ 0.94125089, -0.55449324, -0.19988925,  0.97279036,\n",
        "          1.94446016,  0.72757272, -0.36140076,  0.95048376]],\n",
        "\n",
        "       [[ 1.08464023, -1.43503022, -0.79268175,  0.15833147,\n",
        "         -1.00942184, -0.20671899,  3.02758132, -0.77227674],\n",
        "        [-0.16117183, -2.26982722, -0.80643034,  0.44940424,\n",
        "         -0.28004538, -1.9367436 ,  1.29504237,  0.80607537],\n",
        "        [-0.31447784, -1.86829879, -0.57359464, -0.36466995,\n",
        "          0.44944582,  1.1431109 ,  0.87503997, -0.69844446],\n",
        "        [-0.28845718,  0.48023546,  0.46116078,  0.04303454,\n",
        "          0.08851692,  0.70143801, -2.12962006,  0.0483929 ],\n",
        "        [-0.01298483, -0.42451359, -0.34897219, -0.40097738,\n",
        "          2.48541712,  0.217042  , -0.4066374 , -0.94632225],\n",
        "        [-0.08000587, -0.24372851,  0.01553562,  0.13007874,\n",
        "          0.85210397,  0.15591757,  0.40225916,  1.69046415],\n",
        "        [-0.16962411,  1.6228357 , -0.00882255, -1.15471855,\n",
        "          0.47547434,  0.76355535,  1.6454398 , -0.44044622],\n",
        "        [-0.46917485, -0.30881452,  0.51917242,  0.62891035,\n",
        "          0.43171502, -1.17627572,  0.54626833,  1.54324932]],\n",
        "\n",
        "       [[ 0.2631188 , -2.10952914, -0.59939373,  0.99869393,\n",
        "          1.96251543,  1.19640179, -0.52179783, -0.64003623],\n",
        "        [ 0.59314603,  0.71623818,  0.26067409, -1.07240095,\n",
        "         -1.10854336, -0.50157224,  0.53363211,  0.32696387],\n",
        "        [-2.4429711 , -0.33434927,  0.35477733, -0.2799178 ,\n",
        "         -1.83213787, -1.05275551,  0.45385477, -0.84172092],\n",
        "        [-0.90037698,  2.61832794,  0.96116408,  0.00863791,\n",
        "          0.44594695, -0.10289984, -1.11961556,  0.61325739],\n",
        "        [-0.19511801,  1.56005075, -1.10266249, -2.06639657,\n",
        "          0.74513269, -0.06719751, -1.67425664, -0.27470891],\n",
        "        [ 0.24131049,  0.32691232, -0.95188948,  2.33751429,\n",
        "          0.61678244,  0.30155079,  0.65149343, -0.69018639],\n",
        "        [ 1.05807557,  2.11345856, -0.29919458,  0.06942353,\n",
        "          1.2342043 ,  1.59519001,  0.38052   , -0.4358339 ],\n",
        "        [-0.54211133, -0.13275926, -0.68634396, -0.5897906 ,\n",
        "          0.33063317,  1.12675884, -1.66919356, -0.78223456]]])\n",
        "print(\"Original array:\")\n",
        "print(x)\n",
        "print(\"Replace the negative values of the said array with 0:\")\n",
        "x[x>3] = 0\n",
        "x[x<8] = 0\n",
        "print(x)"
      ],
      "execution_count": 0,
      "outputs": [
        {
          "output_type": "stream",
          "text": [
            "Original array:\n",
            "[[[-0.36337495 -0.19121804  1.61115322 -0.5416413  -1.17096857\n",
            "    0.42248754 -0.73910971  1.33971843]\n",
            "  [ 0.67446905  0.63638934  1.29883749  0.66926649  1.40051026\n",
            "    1.24630695  0.53883581 -0.64360128]\n",
            "  [ 0.84893186 -1.75729613  0.00456386 -0.94778073  0.4914105\n",
            "    0.87525777  0.09446645 -1.05684084]\n",
            "  [ 0.36356378  1.06718518 -0.30516134  1.12096088  0.35108312\n",
            "    0.42251646  0.31367575 -0.57419381]\n",
            "  [ 0.44024233  1.07753417 -1.07128983 -0.55406848 -0.42398774\n",
            "    0.05950704  0.56167223 -1.00860758]\n",
            "  [ 0.26309463  0.4975868   0.823931   -0.13616535 -0.72072876\n",
            "    0.64677019  0.34625452 -0.23428083]\n",
            "  [-0.52098461  1.54875979  0.0611088  -0.67940978  0.26484372\n",
            "    1.0403459   0.11415177  0.93787246]\n",
            "  [ 0.40247483  1.03597266  0.79376553 -1.40136672  0.24213856\n",
            "    0.04860006  1.18331952  1.94485739]]\n",
            "\n",
            " [[-0.9999224   1.17590429  1.58384074 -1.88016542  0.55834079\n",
            "   -0.89949773 -2.1953908  -1.25755975]\n",
            "  [ 0.81471034  1.41554604 -1.16331935 -0.31705147 -1.3345472\n",
            "   -0.7479962   0.49671964  0.11692332]\n",
            "  [ 0.29044969  0.88502348  0.70158126  0.30112693 -0.09875765\n",
            "    2.00822099 -0.82441293  0.79159882]\n",
            "  [-3.25276871  2.35901762  1.02167002  1.89077767 -0.17283299\n",
            "   -0.70853195 -1.57593459 -1.11076945]\n",
            "  [ 2.43040943  1.98874102  1.77740184  0.31471795  1.70149606\n",
            "   -1.52641823 -0.08731125 -0.4693424 ]\n",
            "  [-0.42270016  0.87498303 -0.24808544 -0.6524692   0.07342193\n",
            "    0.00586369  0.51512488 -0.40980525]\n",
            "  [-0.05019831  1.0235694   0.72601163 -0.73969414 -1.7537552\n",
            "   -1.78267144  1.69978399  0.16633242]\n",
            "  [-0.21791978  1.26224101 -1.84870898 -0.09361026 -2.21959579\n",
            "   -0.7076975   0.87148664  0.26469188]]\n",
            "\n",
            " [[-0.07765079  0.0345471  -0.85472517  1.450707    0.73630804\n",
            "    0.10912708 -0.17397987  1.58404021]\n",
            "  [ 0.01652522 -0.60639438 -0.64193368  0.25942132 -0.66659278\n",
            "   -0.47110043  0.57679756  0.05724659]\n",
            "  [ 1.76553668  0.42336351 -0.77268396  1.09818686  0.05368668\n",
            "   -0.79096824  0.35891104 -1.20128779]\n",
            "  [ 1.91025799  0.58830534  1.0309888   0.7834406  -0.33897052\n",
            "   -1.59642927 -1.1215477  -1.20230036]\n",
            "  [ 0.22853806 -0.08813633 -2.02840457  0.8137258   0.33627294\n",
            "   -1.02056063  0.09155003  3.08886513]\n",
            "  [ 0.48954752 -1.00011911 -1.65739184  0.60533885 -0.17938676\n",
            "    1.19744564 -0.05179905  1.11401143]\n",
            "  [-0.50746205 -0.83929431 -1.24447907  0.60720431 -0.35608491\n",
            "    0.27803339  1.45075673  1.05029458]\n",
            "  [-0.73695754  0.26796357 -0.38696815 -0.16587332  0.40489049\n",
            "    0.88248063  0.13880528 -0.60322656]]\n",
            "\n",
            " [[ 1.55279804 -0.28391667 -0.46668277  0.70527379  0.33729411\n",
            "   -0.20748492  2.6305343   2.1886117 ]\n",
            "  [ 0.56110228  0.34450235 -0.7680492   0.27979905 -0.3610866\n",
            "    1.772109   -1.63381594 -0.95618371]\n",
            "  [ 1.1054027  -0.07542821 -0.10850534  0.22033672 -0.02651276\n",
            "    1.21851074 -0.91445025 -0.86040433]\n",
            "  [-1.13213743  1.72494032 -0.23604904  1.22000578  0.15306064\n",
            "    1.23443046  0.25061267  0.35455878]\n",
            "  [-0.73494846 -0.47288589  0.49817005  0.70544569 -0.1678933\n",
            "   -0.91120997 -0.64866917  1.8707832 ]\n",
            "  [ 0.81543354 -0.41616178 -0.70779625  0.46885584  0.57509448\n",
            "   -0.87186731 -0.69040733  1.89436534]\n",
            "  [ 0.71843776 -0.00479409  1.52846396 -0.62702111  1.65393707\n",
            "   -0.06921595 -0.48749483 -0.76496497]\n",
            "  [-1.19186012  0.64133005  0.57110375 -1.41238558 -0.20194892\n",
            "    0.86534528 -0.44820377 -1.03157782]]\n",
            "\n",
            " [[-0.37169487 -0.60670082 -0.08217115  2.13978352 -0.66776766\n",
            "    0.3096136  -0.17640316  0.75972311]\n",
            "  [ 0.68803158 -0.01749208 -1.09546578 -0.09923184 -0.81965673\n",
            "   -0.40953328  0.88487127  0.42671478]\n",
            "  [-0.68485856 -0.63549841  0.39631292 -0.43309704 -1.48669892\n",
            "   -0.43769912 -0.21168882  0.42814002]\n",
            "  [ 0.51748683  0.59524486 -0.68714554  2.20128565  0.44015893\n",
            "   -0.09445714  0.7040363   0.23659022]\n",
            "  [-2.29931124  1.18426827 -0.21885241 -1.47192856  0.03409908\n",
            "    0.67508248  1.62303855  0.99415627]\n",
            "  [ 0.66801546  0.66965841  1.09986398 -2.59776937  1.23635842\n",
            "   -0.18333878  0.10265375  0.69760225]\n",
            "  [ 0.38795999  0.9464399   1.52599296  0.77788031 -0.06586459\n",
            "   -1.65681846 -0.0908898   0.88940213]\n",
            "  [-2.00502436 -0.10922257  0.50868888  0.86469114  1.17830511\n",
            "    1.18964849  0.1169976  -0.21275078]]\n",
            "\n",
            " [[ 0.01767338 -0.81945681 -0.40892072 -0.53749856  0.08168593\n",
            "   -0.89171152  2.37348366  0.04409203]\n",
            "  [ 0.13913591  0.51321328 -1.08376693  0.33096317 -1.14103887\n",
            "   -2.01325719  0.51668939 -2.84832889]\n",
            "  [ 1.4129704  -0.92525347 -0.6453766   0.68522758  0.03131367\n",
            "   -0.46162143 -1.27124744  0.4153572 ]\n",
            "  [ 1.23381012  1.6863634  -0.15390508  0.10693391 -2.14823988\n",
            "    0.77199668  0.55110515 -0.11387667]\n",
            "  [ 0.31687054 -0.81740667 -0.96464585  0.71527462  0.89933803\n",
            "   -0.48189178 -0.48778638  1.06112923]\n",
            "  [ 0.14866407  2.36802607  0.82435356 -0.70566229  0.02882325\n",
            "   -0.36668337  0.09833968  0.48514864]\n",
            "  [-1.03096173 -0.62335341  0.07595689  0.49099691 -0.89083478\n",
            "   -2.13574804  0.64916785 -0.21457675]\n",
            "  [ 0.94125089 -0.55449324 -0.19988925  0.97279036  1.94446016\n",
            "    0.72757272 -0.36140076  0.95048376]]\n",
            "\n",
            " [[ 1.08464023 -1.43503022 -0.79268175  0.15833147 -1.00942184\n",
            "   -0.20671899  3.02758132 -0.77227674]\n",
            "  [-0.16117183 -2.26982722 -0.80643034  0.44940424 -0.28004538\n",
            "   -1.9367436   1.29504237  0.80607537]\n",
            "  [-0.31447784 -1.86829879 -0.57359464 -0.36466995  0.44944582\n",
            "    1.1431109   0.87503997 -0.69844446]\n",
            "  [-0.28845718  0.48023546  0.46116078  0.04303454  0.08851692\n",
            "    0.70143801 -2.12962006  0.0483929 ]\n",
            "  [-0.01298483 -0.42451359 -0.34897219 -0.40097738  2.48541712\n",
            "    0.217042   -0.4066374  -0.94632225]\n",
            "  [-0.08000587 -0.24372851  0.01553562  0.13007874  0.85210397\n",
            "    0.15591757  0.40225916  1.69046415]\n",
            "  [-0.16962411  1.6228357  -0.00882255 -1.15471855  0.47547434\n",
            "    0.76355535  1.6454398  -0.44044622]\n",
            "  [-0.46917485 -0.30881452  0.51917242  0.62891035  0.43171502\n",
            "   -1.17627572  0.54626833  1.54324932]]\n",
            "\n",
            " [[ 0.2631188  -2.10952914 -0.59939373  0.99869393  1.96251543\n",
            "    1.19640179 -0.52179783 -0.64003623]\n",
            "  [ 0.59314603  0.71623818  0.26067409 -1.07240095 -1.10854336\n",
            "   -0.50157224  0.53363211  0.32696387]\n",
            "  [-2.4429711  -0.33434927  0.35477733 -0.2799178  -1.83213787\n",
            "   -1.05275551  0.45385477 -0.84172092]\n",
            "  [-0.90037698  2.61832794  0.96116408  0.00863791  0.44594695\n",
            "   -0.10289984 -1.11961556  0.61325739]\n",
            "  [-0.19511801  1.56005075 -1.10266249 -2.06639657  0.74513269\n",
            "   -0.06719751 -1.67425664 -0.27470891]\n",
            "  [ 0.24131049  0.32691232 -0.95188948  2.33751429  0.61678244\n",
            "    0.30155079  0.65149343 -0.69018639]\n",
            "  [ 1.05807557  2.11345856 -0.29919458  0.06942353  1.2342043\n",
            "    1.59519001  0.38052    -0.4358339 ]\n",
            "  [-0.54211133 -0.13275926 -0.68634396 -0.5897906   0.33063317\n",
            "    1.12675884 -1.66919356 -0.78223456]]]\n",
            "Replace the negative values of the said array with 0:\n",
            "[[[0. 0. 0. 0. 0. 0. 0. 0.]\n",
            "  [0. 0. 0. 0. 0. 0. 0. 0.]\n",
            "  [0. 0. 0. 0. 0. 0. 0. 0.]\n",
            "  [0. 0. 0. 0. 0. 0. 0. 0.]\n",
            "  [0. 0. 0. 0. 0. 0. 0. 0.]\n",
            "  [0. 0. 0. 0. 0. 0. 0. 0.]\n",
            "  [0. 0. 0. 0. 0. 0. 0. 0.]\n",
            "  [0. 0. 0. 0. 0. 0. 0. 0.]]\n",
            "\n",
            " [[0. 0. 0. 0. 0. 0. 0. 0.]\n",
            "  [0. 0. 0. 0. 0. 0. 0. 0.]\n",
            "  [0. 0. 0. 0. 0. 0. 0. 0.]\n",
            "  [0. 0. 0. 0. 0. 0. 0. 0.]\n",
            "  [0. 0. 0. 0. 0. 0. 0. 0.]\n",
            "  [0. 0. 0. 0. 0. 0. 0. 0.]\n",
            "  [0. 0. 0. 0. 0. 0. 0. 0.]\n",
            "  [0. 0. 0. 0. 0. 0. 0. 0.]]\n",
            "\n",
            " [[0. 0. 0. 0. 0. 0. 0. 0.]\n",
            "  [0. 0. 0. 0. 0. 0. 0. 0.]\n",
            "  [0. 0. 0. 0. 0. 0. 0. 0.]\n",
            "  [0. 0. 0. 0. 0. 0. 0. 0.]\n",
            "  [0. 0. 0. 0. 0. 0. 0. 0.]\n",
            "  [0. 0. 0. 0. 0. 0. 0. 0.]\n",
            "  [0. 0. 0. 0. 0. 0. 0. 0.]\n",
            "  [0. 0. 0. 0. 0. 0. 0. 0.]]\n",
            "\n",
            " [[0. 0. 0. 0. 0. 0. 0. 0.]\n",
            "  [0. 0. 0. 0. 0. 0. 0. 0.]\n",
            "  [0. 0. 0. 0. 0. 0. 0. 0.]\n",
            "  [0. 0. 0. 0. 0. 0. 0. 0.]\n",
            "  [0. 0. 0. 0. 0. 0. 0. 0.]\n",
            "  [0. 0. 0. 0. 0. 0. 0. 0.]\n",
            "  [0. 0. 0. 0. 0. 0. 0. 0.]\n",
            "  [0. 0. 0. 0. 0. 0. 0. 0.]]\n",
            "\n",
            " [[0. 0. 0. 0. 0. 0. 0. 0.]\n",
            "  [0. 0. 0. 0. 0. 0. 0. 0.]\n",
            "  [0. 0. 0. 0. 0. 0. 0. 0.]\n",
            "  [0. 0. 0. 0. 0. 0. 0. 0.]\n",
            "  [0. 0. 0. 0. 0. 0. 0. 0.]\n",
            "  [0. 0. 0. 0. 0. 0. 0. 0.]\n",
            "  [0. 0. 0. 0. 0. 0. 0. 0.]\n",
            "  [0. 0. 0. 0. 0. 0. 0. 0.]]\n",
            "\n",
            " [[0. 0. 0. 0. 0. 0. 0. 0.]\n",
            "  [0. 0. 0. 0. 0. 0. 0. 0.]\n",
            "  [0. 0. 0. 0. 0. 0. 0. 0.]\n",
            "  [0. 0. 0. 0. 0. 0. 0. 0.]\n",
            "  [0. 0. 0. 0. 0. 0. 0. 0.]\n",
            "  [0. 0. 0. 0. 0. 0. 0. 0.]\n",
            "  [0. 0. 0. 0. 0. 0. 0. 0.]\n",
            "  [0. 0. 0. 0. 0. 0. 0. 0.]]\n",
            "\n",
            " [[0. 0. 0. 0. 0. 0. 0. 0.]\n",
            "  [0. 0. 0. 0. 0. 0. 0. 0.]\n",
            "  [0. 0. 0. 0. 0. 0. 0. 0.]\n",
            "  [0. 0. 0. 0. 0. 0. 0. 0.]\n",
            "  [0. 0. 0. 0. 0. 0. 0. 0.]\n",
            "  [0. 0. 0. 0. 0. 0. 0. 0.]\n",
            "  [0. 0. 0. 0. 0. 0. 0. 0.]\n",
            "  [0. 0. 0. 0. 0. 0. 0. 0.]]\n",
            "\n",
            " [[0. 0. 0. 0. 0. 0. 0. 0.]\n",
            "  [0. 0. 0. 0. 0. 0. 0. 0.]\n",
            "  [0. 0. 0. 0. 0. 0. 0. 0.]\n",
            "  [0. 0. 0. 0. 0. 0. 0. 0.]\n",
            "  [0. 0. 0. 0. 0. 0. 0. 0.]\n",
            "  [0. 0. 0. 0. 0. 0. 0. 0.]\n",
            "  [0. 0. 0. 0. 0. 0. 0. 0.]\n",
            "  [0. 0. 0. 0. 0. 0. 0. 0.]]]\n"
          ],
          "name": "stdout"
        }
      ]
    },
    {
      "cell_type": "code",
      "metadata": {
        "id": "iWfEI_j6roYn",
        "colab_type": "code",
        "outputId": "8bf62208-69f6-4ae0-9ffb-431929adb000",
        "colab": {
          "base_uri": "https://localhost:8080/",
          "height": 1000
        }
      },
      "source": [
        "import numpy as geek \n",
        "\n",
        "in_arr = geek.array([[[-0.36337495, -0.19121804,  1.61115322, -0.5416413 ,\n",
        "         -1.17096857,  0.42248754, -0.73910971,  1.33971843],\n",
        "        [ 0.67446905,  0.63638934,  1.29883749,  0.66926649,\n",
        "          1.40051026,  1.24630695,  0.53883581, -0.64360128],\n",
        "        [ 0.84893186, -1.75729613,  0.00456386, -0.94778073,\n",
        "          0.4914105 ,  0.87525777,  0.09446645, -1.05684084],\n",
        "        [ 0.36356378,  1.06718518, -0.30516134,  1.12096088,\n",
        "          0.35108312,  0.42251646,  0.31367575, -0.57419381],\n",
        "        [ 0.44024233,  1.07753417, -1.07128983, -0.55406848,\n",
        "         -0.42398774,  0.05950704,  0.56167223, -1.00860758],\n",
        "        [ 0.26309463,  0.4975868 ,  0.823931  , -0.13616535,\n",
        "         -0.72072876,  0.64677019,  0.34625452, -0.23428083],\n",
        "        [-0.52098461,  1.54875979,  0.0611088 , -0.67940978,\n",
        "          0.26484372,  1.0403459 ,  0.11415177,  0.93787246],\n",
        "        [ 0.40247483,  1.03597266,  0.79376553, -1.40136672,\n",
        "          0.24213856,  0.04860006,  1.18331952,  1.94485739]],\n",
        "\n",
        "       [[-0.9999224 ,  1.17590429,  1.58384074, -1.88016542,\n",
        "          0.55834079, -0.89949773, -2.1953908 , -1.25755975],\n",
        "        [ 0.81471034,  1.41554604, -1.16331935, -0.31705147,\n",
        "         -1.3345472 , -0.7479962 ,  0.49671964,  0.11692332],\n",
        "        [ 0.29044969,  0.88502348,  0.70158126,  0.30112693,\n",
        "         -0.09875765,  2.00822099, -0.82441293,  0.79159882],\n",
        "        [-3.25276871,  2.35901762,  1.02167002,  1.89077767,\n",
        "         -0.17283299, -0.70853195, -1.57593459, -1.11076945],\n",
        "        [ 2.43040943,  1.98874102,  1.77740184,  0.31471795,\n",
        "          1.70149606, -1.52641823, -0.08731125, -0.4693424 ],\n",
        "        [-0.42270016,  0.87498303, -0.24808544, -0.6524692 ,\n",
        "          0.07342193,  0.00586369,  0.51512488, -0.40980525],\n",
        "        [-0.05019831,  1.0235694 ,  0.72601163, -0.73969414,\n",
        "         -1.7537552 , -1.78267144,  1.69978399,  0.16633242],\n",
        "        [-0.21791978,  1.26224101, -1.84870898, -0.09361026,\n",
        "         -2.21959579, -0.7076975 ,  0.87148664,  0.26469188]],\n",
        "\n",
        "       [[-0.07765079,  0.0345471 , -0.85472517,  1.450707  ,\n",
        "          0.73630804,  0.10912708, -0.17397987,  1.58404021],\n",
        "        [ 0.01652522, -0.60639438, -0.64193368,  0.25942132,\n",
        "         -0.66659278, -0.47110043,  0.57679756,  0.05724659],\n",
        "        [ 1.76553668,  0.42336351, -0.77268396,  1.09818686,\n",
        "          0.05368668, -0.79096824,  0.35891104, -1.20128779],\n",
        "        [ 1.91025799,  0.58830534,  1.0309888 ,  0.7834406 ,\n",
        "         -0.33897052, -1.59642927, -1.1215477 , -1.20230036],\n",
        "        [ 0.22853806, -0.08813633, -2.02840457,  0.8137258 ,\n",
        "          0.33627294, -1.02056063,  0.09155003,  3.08886513],\n",
        "        [ 0.48954752, -1.00011911, -1.65739184,  0.60533885,\n",
        "         -0.17938676,  1.19744564, -0.05179905,  1.11401143],\n",
        "        [-0.50746205, -0.83929431, -1.24447907,  0.60720431,\n",
        "         -0.35608491,  0.27803339,  1.45075673,  1.05029458],\n",
        "        [-0.73695754,  0.26796357, -0.38696815, -0.16587332,\n",
        "          0.40489049,  0.88248063,  0.13880528, -0.60322656]],\n",
        "\n",
        "       [[ 1.55279804, -0.28391667, -0.46668277,  0.70527379,\n",
        "          0.33729411, -0.20748492,  2.6305343 ,  2.1886117 ],\n",
        "        [ 0.56110228,  0.34450235, -0.7680492 ,  0.27979905,\n",
        "         -0.3610866 ,  1.772109  , -1.63381594, -0.95618371],\n",
        "        [ 1.1054027 , -0.07542821, -0.10850534,  0.22033672,\n",
        "         -0.02651276,  1.21851074, -0.91445025, -0.86040433],\n",
        "        [-1.13213743,  1.72494032, -0.23604904,  1.22000578,\n",
        "          0.15306064,  1.23443046,  0.25061267,  0.35455878],\n",
        "        [-0.73494846, -0.47288589,  0.49817005,  0.70544569,\n",
        "         -0.1678933 , -0.91120997, -0.64866917,  1.8707832 ],\n",
        "        [ 0.81543354, -0.41616178, -0.70779625,  0.46885584,\n",
        "          0.57509448, -0.87186731, -0.69040733,  1.89436534],\n",
        "        [ 0.71843776, -0.00479409,  1.52846396, -0.62702111,\n",
        "          1.65393707, -0.06921595, -0.48749483, -0.76496497],\n",
        "        [-1.19186012,  0.64133005,  0.57110375, -1.41238558,\n",
        "         -0.20194892,  0.86534528, -0.44820377, -1.03157782]],\n",
        "\n",
        "       [[-0.37169487, -0.60670082, -0.08217115,  2.13978352,\n",
        "         -0.66776766,  0.3096136 , -0.17640316,  0.75972311],\n",
        "        [ 0.68803158, -0.01749208, -1.09546578, -0.09923184,\n",
        "         -0.81965673, -0.40953328,  0.88487127,  0.42671478],\n",
        "        [-0.68485856, -0.63549841,  0.39631292, -0.43309704,\n",
        "         -1.48669892, -0.43769912, -0.21168882,  0.42814002],\n",
        "        [ 0.51748683,  0.59524486, -0.68714554,  2.20128565,\n",
        "          0.44015893, -0.09445714,  0.7040363 ,  0.23659022],\n",
        "        [-2.29931124,  1.18426827, -0.21885241, -1.47192856,\n",
        "          0.03409908,  0.67508248,  1.62303855,  0.99415627],\n",
        "        [ 0.66801546,  0.66965841,  1.09986398, -2.59776937,\n",
        "          1.23635842, -0.18333878,  0.10265375,  0.69760225],\n",
        "        [ 0.38795999,  0.9464399 ,  1.52599296,  0.77788031,\n",
        "         -0.06586459, -1.65681846, -0.0908898 ,  0.88940213],\n",
        "        [-2.00502436, -0.10922257,  0.50868888,  0.86469114,\n",
        "          1.17830511,  1.18964849,  0.1169976 , -0.21275078]],\n",
        "\n",
        "       [[ 0.01767338, -0.81945681, -0.40892072, -0.53749856,\n",
        "          0.08168593, -0.89171152,  2.37348366,  0.04409203],\n",
        "        [ 0.13913591,  0.51321328, -1.08376693,  0.33096317,\n",
        "         -1.14103887, -2.01325719,  0.51668939, -2.84832889],\n",
        "        [ 1.4129704 , -0.92525347, -0.6453766 ,  0.68522758,\n",
        "          0.03131367, -0.46162143, -1.27124744,  0.4153572 ],\n",
        "        [ 1.23381012,  1.6863634 , -0.15390508,  0.10693391,\n",
        "         -2.14823988,  0.77199668,  0.55110515, -0.11387667],\n",
        "        [ 0.31687054, -0.81740667, -0.96464585,  0.71527462,\n",
        "          0.89933803, -0.48189178, -0.48778638,  1.06112923],\n",
        "        [ 0.14866407,  2.36802607,  0.82435356, -0.70566229,\n",
        "          0.02882325, -0.36668337,  0.09833968,  0.48514864],\n",
        "        [-1.03096173, -0.62335341,  0.07595689,  0.49099691,\n",
        "         -0.89083478, -2.13574804,  0.64916785, -0.21457675],\n",
        "        [ 0.94125089, -0.55449324, -0.19988925,  0.97279036,\n",
        "          1.94446016,  0.72757272, -0.36140076,  0.95048376]],\n",
        "\n",
        "       [[ 1.08464023, -1.43503022, -0.79268175,  0.15833147,\n",
        "         -1.00942184, -0.20671899,  3.02758132, -0.77227674],\n",
        "        [-0.16117183, -2.26982722, -0.80643034,  0.44940424,\n",
        "         -0.28004538, -1.9367436 ,  1.29504237,  0.80607537],\n",
        "        [-0.31447784, -1.86829879, -0.57359464, -0.36466995,\n",
        "          0.44944582,  1.1431109 ,  0.87503997, -0.69844446],\n",
        "        [-0.28845718,  0.48023546,  0.46116078,  0.04303454,\n",
        "          0.08851692,  0.70143801, -2.12962006,  0.0483929 ],\n",
        "        [-0.01298483, -0.42451359, -0.34897219, -0.40097738,\n",
        "          2.48541712,  0.217042  , -0.4066374 , -0.94632225],\n",
        "        [-0.08000587, -0.24372851,  0.01553562,  0.13007874,\n",
        "          0.85210397,  0.15591757,  0.40225916,  1.69046415],\n",
        "        [-0.16962411,  1.6228357 , -0.00882255, -1.15471855,\n",
        "          0.47547434,  0.76355535,  1.6454398 , -0.44044622],\n",
        "        [-0.46917485, -0.30881452,  0.51917242,  0.62891035,\n",
        "          0.43171502, -1.17627572,  0.54626833,  1.54324932]],\n",
        "\n",
        "       [[ 0.2631188 , -2.10952914, -0.59939373,  0.99869393,\n",
        "          1.96251543,  1.19640179, -0.52179783, -0.64003623],\n",
        "        [ 0.59314603,  0.71623818,  0.26067409, -1.07240095,\n",
        "         -1.10854336, -0.50157224,  0.53363211,  0.32696387],\n",
        "        [-2.4429711 , -0.33434927,  0.35477733, -0.2799178 ,\n",
        "         -1.83213787, -1.05275551,  0.45385477, -0.84172092],\n",
        "        [-0.90037698,  2.61832794,  0.96116408,  0.00863791,\n",
        "          0.44594695, -0.10289984, -1.11961556,  0.61325739],\n",
        "        [-0.19511801,  1.56005075, -1.10266249, -2.06639657,\n",
        "          0.74513269, -0.06719751, -1.67425664, -0.27470891],\n",
        "        [ 0.24131049,  0.32691232, -0.95188948,  2.33751429,\n",
        "          0.61678244,  0.30155079,  0.65149343, -0.69018639],\n",
        "        [ 1.05807557,  2.11345856, -0.29919458,  0.06942353,\n",
        "          1.2342043 ,  1.59519001,  0.38052   , -0.4358339 ],\n",
        "        [-0.54211133, -0.13275926, -0.68634396, -0.5897906 ,\n",
        "          0.33063317,  1.12675884, -1.66919356, -0.78223456]]]) \n",
        "   \n",
        "print (\"Input array : \", in_arr)  \n",
        "mask=(x>3)&(x<8)\n",
        "    \n",
        "out_arr = geek.negative(in_arr)  \n",
        "print (\"negative of array elements: \", out_arr)"
      ],
      "execution_count": 0,
      "outputs": [
        {
          "output_type": "stream",
          "text": [
            "Input array :  [[[-0.36337495 -0.19121804  1.61115322 -0.5416413  -1.17096857\n",
            "    0.42248754 -0.73910971  1.33971843]\n",
            "  [ 0.67446905  0.63638934  1.29883749  0.66926649  1.40051026\n",
            "    1.24630695  0.53883581 -0.64360128]\n",
            "  [ 0.84893186 -1.75729613  0.00456386 -0.94778073  0.4914105\n",
            "    0.87525777  0.09446645 -1.05684084]\n",
            "  [ 0.36356378  1.06718518 -0.30516134  1.12096088  0.35108312\n",
            "    0.42251646  0.31367575 -0.57419381]\n",
            "  [ 0.44024233  1.07753417 -1.07128983 -0.55406848 -0.42398774\n",
            "    0.05950704  0.56167223 -1.00860758]\n",
            "  [ 0.26309463  0.4975868   0.823931   -0.13616535 -0.72072876\n",
            "    0.64677019  0.34625452 -0.23428083]\n",
            "  [-0.52098461  1.54875979  0.0611088  -0.67940978  0.26484372\n",
            "    1.0403459   0.11415177  0.93787246]\n",
            "  [ 0.40247483  1.03597266  0.79376553 -1.40136672  0.24213856\n",
            "    0.04860006  1.18331952  1.94485739]]\n",
            "\n",
            " [[-0.9999224   1.17590429  1.58384074 -1.88016542  0.55834079\n",
            "   -0.89949773 -2.1953908  -1.25755975]\n",
            "  [ 0.81471034  1.41554604 -1.16331935 -0.31705147 -1.3345472\n",
            "   -0.7479962   0.49671964  0.11692332]\n",
            "  [ 0.29044969  0.88502348  0.70158126  0.30112693 -0.09875765\n",
            "    2.00822099 -0.82441293  0.79159882]\n",
            "  [-3.25276871  2.35901762  1.02167002  1.89077767 -0.17283299\n",
            "   -0.70853195 -1.57593459 -1.11076945]\n",
            "  [ 2.43040943  1.98874102  1.77740184  0.31471795  1.70149606\n",
            "   -1.52641823 -0.08731125 -0.4693424 ]\n",
            "  [-0.42270016  0.87498303 -0.24808544 -0.6524692   0.07342193\n",
            "    0.00586369  0.51512488 -0.40980525]\n",
            "  [-0.05019831  1.0235694   0.72601163 -0.73969414 -1.7537552\n",
            "   -1.78267144  1.69978399  0.16633242]\n",
            "  [-0.21791978  1.26224101 -1.84870898 -0.09361026 -2.21959579\n",
            "   -0.7076975   0.87148664  0.26469188]]\n",
            "\n",
            " [[-0.07765079  0.0345471  -0.85472517  1.450707    0.73630804\n",
            "    0.10912708 -0.17397987  1.58404021]\n",
            "  [ 0.01652522 -0.60639438 -0.64193368  0.25942132 -0.66659278\n",
            "   -0.47110043  0.57679756  0.05724659]\n",
            "  [ 1.76553668  0.42336351 -0.77268396  1.09818686  0.05368668\n",
            "   -0.79096824  0.35891104 -1.20128779]\n",
            "  [ 1.91025799  0.58830534  1.0309888   0.7834406  -0.33897052\n",
            "   -1.59642927 -1.1215477  -1.20230036]\n",
            "  [ 0.22853806 -0.08813633 -2.02840457  0.8137258   0.33627294\n",
            "   -1.02056063  0.09155003  3.08886513]\n",
            "  [ 0.48954752 -1.00011911 -1.65739184  0.60533885 -0.17938676\n",
            "    1.19744564 -0.05179905  1.11401143]\n",
            "  [-0.50746205 -0.83929431 -1.24447907  0.60720431 -0.35608491\n",
            "    0.27803339  1.45075673  1.05029458]\n",
            "  [-0.73695754  0.26796357 -0.38696815 -0.16587332  0.40489049\n",
            "    0.88248063  0.13880528 -0.60322656]]\n",
            "\n",
            " [[ 1.55279804 -0.28391667 -0.46668277  0.70527379  0.33729411\n",
            "   -0.20748492  2.6305343   2.1886117 ]\n",
            "  [ 0.56110228  0.34450235 -0.7680492   0.27979905 -0.3610866\n",
            "    1.772109   -1.63381594 -0.95618371]\n",
            "  [ 1.1054027  -0.07542821 -0.10850534  0.22033672 -0.02651276\n",
            "    1.21851074 -0.91445025 -0.86040433]\n",
            "  [-1.13213743  1.72494032 -0.23604904  1.22000578  0.15306064\n",
            "    1.23443046  0.25061267  0.35455878]\n",
            "  [-0.73494846 -0.47288589  0.49817005  0.70544569 -0.1678933\n",
            "   -0.91120997 -0.64866917  1.8707832 ]\n",
            "  [ 0.81543354 -0.41616178 -0.70779625  0.46885584  0.57509448\n",
            "   -0.87186731 -0.69040733  1.89436534]\n",
            "  [ 0.71843776 -0.00479409  1.52846396 -0.62702111  1.65393707\n",
            "   -0.06921595 -0.48749483 -0.76496497]\n",
            "  [-1.19186012  0.64133005  0.57110375 -1.41238558 -0.20194892\n",
            "    0.86534528 -0.44820377 -1.03157782]]\n",
            "\n",
            " [[-0.37169487 -0.60670082 -0.08217115  2.13978352 -0.66776766\n",
            "    0.3096136  -0.17640316  0.75972311]\n",
            "  [ 0.68803158 -0.01749208 -1.09546578 -0.09923184 -0.81965673\n",
            "   -0.40953328  0.88487127  0.42671478]\n",
            "  [-0.68485856 -0.63549841  0.39631292 -0.43309704 -1.48669892\n",
            "   -0.43769912 -0.21168882  0.42814002]\n",
            "  [ 0.51748683  0.59524486 -0.68714554  2.20128565  0.44015893\n",
            "   -0.09445714  0.7040363   0.23659022]\n",
            "  [-2.29931124  1.18426827 -0.21885241 -1.47192856  0.03409908\n",
            "    0.67508248  1.62303855  0.99415627]\n",
            "  [ 0.66801546  0.66965841  1.09986398 -2.59776937  1.23635842\n",
            "   -0.18333878  0.10265375  0.69760225]\n",
            "  [ 0.38795999  0.9464399   1.52599296  0.77788031 -0.06586459\n",
            "   -1.65681846 -0.0908898   0.88940213]\n",
            "  [-2.00502436 -0.10922257  0.50868888  0.86469114  1.17830511\n",
            "    1.18964849  0.1169976  -0.21275078]]\n",
            "\n",
            " [[ 0.01767338 -0.81945681 -0.40892072 -0.53749856  0.08168593\n",
            "   -0.89171152  2.37348366  0.04409203]\n",
            "  [ 0.13913591  0.51321328 -1.08376693  0.33096317 -1.14103887\n",
            "   -2.01325719  0.51668939 -2.84832889]\n",
            "  [ 1.4129704  -0.92525347 -0.6453766   0.68522758  0.03131367\n",
            "   -0.46162143 -1.27124744  0.4153572 ]\n",
            "  [ 1.23381012  1.6863634  -0.15390508  0.10693391 -2.14823988\n",
            "    0.77199668  0.55110515 -0.11387667]\n",
            "  [ 0.31687054 -0.81740667 -0.96464585  0.71527462  0.89933803\n",
            "   -0.48189178 -0.48778638  1.06112923]\n",
            "  [ 0.14866407  2.36802607  0.82435356 -0.70566229  0.02882325\n",
            "   -0.36668337  0.09833968  0.48514864]\n",
            "  [-1.03096173 -0.62335341  0.07595689  0.49099691 -0.89083478\n",
            "   -2.13574804  0.64916785 -0.21457675]\n",
            "  [ 0.94125089 -0.55449324 -0.19988925  0.97279036  1.94446016\n",
            "    0.72757272 -0.36140076  0.95048376]]\n",
            "\n",
            " [[ 1.08464023 -1.43503022 -0.79268175  0.15833147 -1.00942184\n",
            "   -0.20671899  3.02758132 -0.77227674]\n",
            "  [-0.16117183 -2.26982722 -0.80643034  0.44940424 -0.28004538\n",
            "   -1.9367436   1.29504237  0.80607537]\n",
            "  [-0.31447784 -1.86829879 -0.57359464 -0.36466995  0.44944582\n",
            "    1.1431109   0.87503997 -0.69844446]\n",
            "  [-0.28845718  0.48023546  0.46116078  0.04303454  0.08851692\n",
            "    0.70143801 -2.12962006  0.0483929 ]\n",
            "  [-0.01298483 -0.42451359 -0.34897219 -0.40097738  2.48541712\n",
            "    0.217042   -0.4066374  -0.94632225]\n",
            "  [-0.08000587 -0.24372851  0.01553562  0.13007874  0.85210397\n",
            "    0.15591757  0.40225916  1.69046415]\n",
            "  [-0.16962411  1.6228357  -0.00882255 -1.15471855  0.47547434\n",
            "    0.76355535  1.6454398  -0.44044622]\n",
            "  [-0.46917485 -0.30881452  0.51917242  0.62891035  0.43171502\n",
            "   -1.17627572  0.54626833  1.54324932]]\n",
            "\n",
            " [[ 0.2631188  -2.10952914 -0.59939373  0.99869393  1.96251543\n",
            "    1.19640179 -0.52179783 -0.64003623]\n",
            "  [ 0.59314603  0.71623818  0.26067409 -1.07240095 -1.10854336\n",
            "   -0.50157224  0.53363211  0.32696387]\n",
            "  [-2.4429711  -0.33434927  0.35477733 -0.2799178  -1.83213787\n",
            "   -1.05275551  0.45385477 -0.84172092]\n",
            "  [-0.90037698  2.61832794  0.96116408  0.00863791  0.44594695\n",
            "   -0.10289984 -1.11961556  0.61325739]\n",
            "  [-0.19511801  1.56005075 -1.10266249 -2.06639657  0.74513269\n",
            "   -0.06719751 -1.67425664 -0.27470891]\n",
            "  [ 0.24131049  0.32691232 -0.95188948  2.33751429  0.61678244\n",
            "    0.30155079  0.65149343 -0.69018639]\n",
            "  [ 1.05807557  2.11345856 -0.29919458  0.06942353  1.2342043\n",
            "    1.59519001  0.38052    -0.4358339 ]\n",
            "  [-0.54211133 -0.13275926 -0.68634396 -0.5897906   0.33063317\n",
            "    1.12675884 -1.66919356 -0.78223456]]]\n",
            "negative of array elements:  [[[ 0.36337495  0.19121804 -1.61115322  0.5416413   1.17096857\n",
            "   -0.42248754  0.73910971 -1.33971843]\n",
            "  [-0.67446905 -0.63638934 -1.29883749 -0.66926649 -1.40051026\n",
            "   -1.24630695 -0.53883581  0.64360128]\n",
            "  [-0.84893186  1.75729613 -0.00456386  0.94778073 -0.4914105\n",
            "   -0.87525777 -0.09446645  1.05684084]\n",
            "  [-0.36356378 -1.06718518  0.30516134 -1.12096088 -0.35108312\n",
            "   -0.42251646 -0.31367575  0.57419381]\n",
            "  [-0.44024233 -1.07753417  1.07128983  0.55406848  0.42398774\n",
            "   -0.05950704 -0.56167223  1.00860758]\n",
            "  [-0.26309463 -0.4975868  -0.823931    0.13616535  0.72072876\n",
            "   -0.64677019 -0.34625452  0.23428083]\n",
            "  [ 0.52098461 -1.54875979 -0.0611088   0.67940978 -0.26484372\n",
            "   -1.0403459  -0.11415177 -0.93787246]\n",
            "  [-0.40247483 -1.03597266 -0.79376553  1.40136672 -0.24213856\n",
            "   -0.04860006 -1.18331952 -1.94485739]]\n",
            "\n",
            " [[ 0.9999224  -1.17590429 -1.58384074  1.88016542 -0.55834079\n",
            "    0.89949773  2.1953908   1.25755975]\n",
            "  [-0.81471034 -1.41554604  1.16331935  0.31705147  1.3345472\n",
            "    0.7479962  -0.49671964 -0.11692332]\n",
            "  [-0.29044969 -0.88502348 -0.70158126 -0.30112693  0.09875765\n",
            "   -2.00822099  0.82441293 -0.79159882]\n",
            "  [ 3.25276871 -2.35901762 -1.02167002 -1.89077767  0.17283299\n",
            "    0.70853195  1.57593459  1.11076945]\n",
            "  [-2.43040943 -1.98874102 -1.77740184 -0.31471795 -1.70149606\n",
            "    1.52641823  0.08731125  0.4693424 ]\n",
            "  [ 0.42270016 -0.87498303  0.24808544  0.6524692  -0.07342193\n",
            "   -0.00586369 -0.51512488  0.40980525]\n",
            "  [ 0.05019831 -1.0235694  -0.72601163  0.73969414  1.7537552\n",
            "    1.78267144 -1.69978399 -0.16633242]\n",
            "  [ 0.21791978 -1.26224101  1.84870898  0.09361026  2.21959579\n",
            "    0.7076975  -0.87148664 -0.26469188]]\n",
            "\n",
            " [[ 0.07765079 -0.0345471   0.85472517 -1.450707   -0.73630804\n",
            "   -0.10912708  0.17397987 -1.58404021]\n",
            "  [-0.01652522  0.60639438  0.64193368 -0.25942132  0.66659278\n",
            "    0.47110043 -0.57679756 -0.05724659]\n",
            "  [-1.76553668 -0.42336351  0.77268396 -1.09818686 -0.05368668\n",
            "    0.79096824 -0.35891104  1.20128779]\n",
            "  [-1.91025799 -0.58830534 -1.0309888  -0.7834406   0.33897052\n",
            "    1.59642927  1.1215477   1.20230036]\n",
            "  [-0.22853806  0.08813633  2.02840457 -0.8137258  -0.33627294\n",
            "    1.02056063 -0.09155003 -3.08886513]\n",
            "  [-0.48954752  1.00011911  1.65739184 -0.60533885  0.17938676\n",
            "   -1.19744564  0.05179905 -1.11401143]\n",
            "  [ 0.50746205  0.83929431  1.24447907 -0.60720431  0.35608491\n",
            "   -0.27803339 -1.45075673 -1.05029458]\n",
            "  [ 0.73695754 -0.26796357  0.38696815  0.16587332 -0.40489049\n",
            "   -0.88248063 -0.13880528  0.60322656]]\n",
            "\n",
            " [[-1.55279804  0.28391667  0.46668277 -0.70527379 -0.33729411\n",
            "    0.20748492 -2.6305343  -2.1886117 ]\n",
            "  [-0.56110228 -0.34450235  0.7680492  -0.27979905  0.3610866\n",
            "   -1.772109    1.63381594  0.95618371]\n",
            "  [-1.1054027   0.07542821  0.10850534 -0.22033672  0.02651276\n",
            "   -1.21851074  0.91445025  0.86040433]\n",
            "  [ 1.13213743 -1.72494032  0.23604904 -1.22000578 -0.15306064\n",
            "   -1.23443046 -0.25061267 -0.35455878]\n",
            "  [ 0.73494846  0.47288589 -0.49817005 -0.70544569  0.1678933\n",
            "    0.91120997  0.64866917 -1.8707832 ]\n",
            "  [-0.81543354  0.41616178  0.70779625 -0.46885584 -0.57509448\n",
            "    0.87186731  0.69040733 -1.89436534]\n",
            "  [-0.71843776  0.00479409 -1.52846396  0.62702111 -1.65393707\n",
            "    0.06921595  0.48749483  0.76496497]\n",
            "  [ 1.19186012 -0.64133005 -0.57110375  1.41238558  0.20194892\n",
            "   -0.86534528  0.44820377  1.03157782]]\n",
            "\n",
            " [[ 0.37169487  0.60670082  0.08217115 -2.13978352  0.66776766\n",
            "   -0.3096136   0.17640316 -0.75972311]\n",
            "  [-0.68803158  0.01749208  1.09546578  0.09923184  0.81965673\n",
            "    0.40953328 -0.88487127 -0.42671478]\n",
            "  [ 0.68485856  0.63549841 -0.39631292  0.43309704  1.48669892\n",
            "    0.43769912  0.21168882 -0.42814002]\n",
            "  [-0.51748683 -0.59524486  0.68714554 -2.20128565 -0.44015893\n",
            "    0.09445714 -0.7040363  -0.23659022]\n",
            "  [ 2.29931124 -1.18426827  0.21885241  1.47192856 -0.03409908\n",
            "   -0.67508248 -1.62303855 -0.99415627]\n",
            "  [-0.66801546 -0.66965841 -1.09986398  2.59776937 -1.23635842\n",
            "    0.18333878 -0.10265375 -0.69760225]\n",
            "  [-0.38795999 -0.9464399  -1.52599296 -0.77788031  0.06586459\n",
            "    1.65681846  0.0908898  -0.88940213]\n",
            "  [ 2.00502436  0.10922257 -0.50868888 -0.86469114 -1.17830511\n",
            "   -1.18964849 -0.1169976   0.21275078]]\n",
            "\n",
            " [[-0.01767338  0.81945681  0.40892072  0.53749856 -0.08168593\n",
            "    0.89171152 -2.37348366 -0.04409203]\n",
            "  [-0.13913591 -0.51321328  1.08376693 -0.33096317  1.14103887\n",
            "    2.01325719 -0.51668939  2.84832889]\n",
            "  [-1.4129704   0.92525347  0.6453766  -0.68522758 -0.03131367\n",
            "    0.46162143  1.27124744 -0.4153572 ]\n",
            "  [-1.23381012 -1.6863634   0.15390508 -0.10693391  2.14823988\n",
            "   -0.77199668 -0.55110515  0.11387667]\n",
            "  [-0.31687054  0.81740667  0.96464585 -0.71527462 -0.89933803\n",
            "    0.48189178  0.48778638 -1.06112923]\n",
            "  [-0.14866407 -2.36802607 -0.82435356  0.70566229 -0.02882325\n",
            "    0.36668337 -0.09833968 -0.48514864]\n",
            "  [ 1.03096173  0.62335341 -0.07595689 -0.49099691  0.89083478\n",
            "    2.13574804 -0.64916785  0.21457675]\n",
            "  [-0.94125089  0.55449324  0.19988925 -0.97279036 -1.94446016\n",
            "   -0.72757272  0.36140076 -0.95048376]]\n",
            "\n",
            " [[-1.08464023  1.43503022  0.79268175 -0.15833147  1.00942184\n",
            "    0.20671899 -3.02758132  0.77227674]\n",
            "  [ 0.16117183  2.26982722  0.80643034 -0.44940424  0.28004538\n",
            "    1.9367436  -1.29504237 -0.80607537]\n",
            "  [ 0.31447784  1.86829879  0.57359464  0.36466995 -0.44944582\n",
            "   -1.1431109  -0.87503997  0.69844446]\n",
            "  [ 0.28845718 -0.48023546 -0.46116078 -0.04303454 -0.08851692\n",
            "   -0.70143801  2.12962006 -0.0483929 ]\n",
            "  [ 0.01298483  0.42451359  0.34897219  0.40097738 -2.48541712\n",
            "   -0.217042    0.4066374   0.94632225]\n",
            "  [ 0.08000587  0.24372851 -0.01553562 -0.13007874 -0.85210397\n",
            "   -0.15591757 -0.40225916 -1.69046415]\n",
            "  [ 0.16962411 -1.6228357   0.00882255  1.15471855 -0.47547434\n",
            "   -0.76355535 -1.6454398   0.44044622]\n",
            "  [ 0.46917485  0.30881452 -0.51917242 -0.62891035 -0.43171502\n",
            "    1.17627572 -0.54626833 -1.54324932]]\n",
            "\n",
            " [[-0.2631188   2.10952914  0.59939373 -0.99869393 -1.96251543\n",
            "   -1.19640179  0.52179783  0.64003623]\n",
            "  [-0.59314603 -0.71623818 -0.26067409  1.07240095  1.10854336\n",
            "    0.50157224 -0.53363211 -0.32696387]\n",
            "  [ 2.4429711   0.33434927 -0.35477733  0.2799178   1.83213787\n",
            "    1.05275551 -0.45385477  0.84172092]\n",
            "  [ 0.90037698 -2.61832794 -0.96116408 -0.00863791 -0.44594695\n",
            "    0.10289984  1.11961556 -0.61325739]\n",
            "  [ 0.19511801 -1.56005075  1.10266249  2.06639657 -0.74513269\n",
            "    0.06719751  1.67425664  0.27470891]\n",
            "  [-0.24131049 -0.32691232  0.95188948 -2.33751429 -0.61678244\n",
            "   -0.30155079 -0.65149343  0.69018639]\n",
            "  [-1.05807557 -2.11345856  0.29919458 -0.06942353 -1.2342043\n",
            "   -1.59519001 -0.38052     0.4358339 ]\n",
            "  [ 0.54211133  0.13275926  0.68634396  0.5897906  -0.33063317\n",
            "   -1.12675884  1.66919356  0.78223456]]]\n"
          ],
          "name": "stdout"
        }
      ]
    },
    {
      "cell_type": "code",
      "metadata": {
        "id": "Jfa4-8Dus2dC",
        "colab_type": "code",
        "outputId": "7ded35d9-4b8c-4aa6-fa25-b575a802ed4f",
        "colab": {
          "base_uri": "https://localhost:8080/",
          "height": 1000
        }
      },
      "source": [
        "x=np.random.randn(8,8,8)\n",
        "x\n",
        "mask=(x>3) & (x<8)\n",
        "x[mask]=-1*x[mask]\n",
        "x"
      ],
      "execution_count": 0,
      "outputs": [
        {
          "output_type": "execute_result",
          "data": {
            "text/plain": [
              "array([[[-0.67329826, -0.27328512, -0.57828259,  1.53097671,\n",
              "         -0.33991696, -0.7569066 ,  0.8692644 , -1.15208764],\n",
              "        [ 2.22902263, -0.02659195,  0.09374366,  0.86882975,\n",
              "          0.66857157, -0.95348756,  1.51831909, -0.81379266],\n",
              "        [-0.18404581, -1.31687711,  0.23308455, -1.38851181,\n",
              "         -1.11682408, -0.85585058,  1.50198391, -2.04508616],\n",
              "        [ 1.61286333,  0.91318976,  1.19986974, -1.3852791 ,\n",
              "         -0.42789323, -0.0585903 ,  1.10341019,  1.08773922],\n",
              "        [ 0.96705266, -0.5688494 ,  0.46934441, -1.58379068,\n",
              "          1.61212554, -1.73095033, -0.90167185,  0.2819462 ],\n",
              "        [-0.31101262,  0.36151241, -0.30089407,  0.37851558,\n",
              "          0.53100794,  0.73655268,  0.28629076,  0.62012878],\n",
              "        [-0.25468138, -0.16176903, -0.49715436,  0.408628  ,\n",
              "          0.16505657,  0.96180731,  1.01275549, -0.81933812],\n",
              "        [ 0.39014155,  0.28054823,  0.31417537, -0.95820415,\n",
              "          1.63677442, -0.62508459,  1.01889478, -0.11303677]],\n",
              "\n",
              "       [[ 0.37520567, -1.075821  ,  0.7298537 , -1.38759845,\n",
              "         -1.99384213, -1.56100141,  0.08017167, -1.33295079],\n",
              "        [ 0.63005818, -0.08581161, -0.75869285,  0.34448317,\n",
              "          0.55487755,  0.71426795,  1.60380647,  0.79992563],\n",
              "        [ 0.30723183,  1.02931437, -0.51817201, -0.0300409 ,\n",
              "         -0.20943814,  0.4988095 ,  0.47255488, -0.11345633],\n",
              "        [-0.65883688, -0.42082832, -1.12839881,  0.07961149,\n",
              "         -1.52917867,  0.507611  , -0.37061816,  2.53274022],\n",
              "        [ 1.6209792 ,  2.06599116, -1.05625334,  1.39226848,\n",
              "         -0.52056934, -0.98284815, -0.40777092, -0.49809711],\n",
              "        [-1.26008483,  0.14390562, -1.14701569, -0.49697356,\n",
              "          1.08032175, -0.85004025,  0.76872585, -0.98150486],\n",
              "        [ 0.56928088, -0.57774916,  0.07924402, -0.48193517,\n",
              "         -0.21623803, -0.12566436, -0.57196158,  0.30377181],\n",
              "        [ 0.63342666,  0.2368372 ,  0.20387092,  1.53561143,\n",
              "          0.04302838, -2.9016264 , -0.38781478, -0.82925499]],\n",
              "\n",
              "       [[-2.16847586,  0.29432726, -0.11646416,  0.19872809,\n",
              "          1.33184492,  0.04682208, -0.750544  ,  1.37818269],\n",
              "        [ 1.49805263,  0.75846063, -0.82234816, -0.33275339,\n",
              "          2.25195204, -2.56308541,  0.38381852, -0.14388673],\n",
              "        [ 0.43916475,  0.39207576,  0.01407579,  2.10367104,\n",
              "         -0.45956526, -0.76796306, -0.20553107, -0.0573256 ],\n",
              "        [ 0.29280578, -0.15630273, -0.67144886,  0.04653513,\n",
              "          0.0738165 ,  0.14961502,  0.19325045,  0.26953686],\n",
              "        [-0.65349734, -0.4030387 , -0.84565207, -0.49956995,\n",
              "          1.06415284,  0.55009419, -0.71178775,  0.4133181 ],\n",
              "        [-0.03533108, -0.68954755,  0.10805254, -0.65897963,\n",
              "          0.12238008, -0.21010342, -1.31003326,  0.72396244],\n",
              "        [-1.10027101,  0.22742274, -0.65435987, -0.33121809,\n",
              "          1.7117679 ,  0.42671448,  1.68715342,  0.31677733],\n",
              "        [ 0.60558467,  1.21610808,  1.25181102,  0.50447018,\n",
              "         -0.55366536,  1.12275228,  0.01162489, -0.44223979]],\n",
              "\n",
              "       [[-0.10335597,  0.98811633,  1.53026049, -1.0163102 ,\n",
              "          1.3810005 ,  0.73380192,  1.03248659, -1.23083615],\n",
              "        [-0.69781829,  0.95645819, -1.35464089, -0.05813946,\n",
              "          0.61885416, -0.69005123,  2.03557779,  0.40646122],\n",
              "        [ 0.28117133, -1.18339872, -0.97431272,  1.06913398,\n",
              "          0.22811561, -0.78388657,  0.06063889,  0.05719276],\n",
              "        [ 1.64872054,  1.20458567, -0.48008752, -0.31947348,\n",
              "          0.7226678 , -1.43465381, -0.78246454, -0.43574416],\n",
              "        [ 0.18353877, -0.40357073, -1.51260575, -1.60058118,\n",
              "         -1.02086174, -0.11768929, -0.09835192, -0.53620198],\n",
              "        [ 0.58068609,  0.73100842,  0.80597363, -0.38978545,\n",
              "          1.23330242,  0.43518949,  2.57458486, -0.51122982],\n",
              "        [ 0.41763521, -0.66853572,  2.11108137, -1.05029998,\n",
              "          0.21604901,  1.64492419,  1.16838242, -0.73736438],\n",
              "        [-0.5531735 ,  0.95122776,  0.09755827, -0.85448452,\n",
              "         -1.99221109, -0.92155564, -0.26553896,  0.929466  ]],\n",
              "\n",
              "       [[-0.14839771, -3.25726307,  0.32707657, -0.79969102,\n",
              "          0.13462428,  0.92875152, -0.81036306,  0.33080976],\n",
              "        [ 0.13961583,  0.3381223 ,  0.57806814, -0.80894391,\n",
              "          0.99756432,  0.19303728,  0.66340083,  0.67090513],\n",
              "        [ 1.36395315,  0.80331209, -0.29581264, -0.51804524,\n",
              "          0.08630012, -0.12711888,  0.63427689, -0.39215081],\n",
              "        [-0.10410275, -1.19645609,  0.61997939, -0.75708256,\n",
              "         -1.75027604,  1.04540458,  0.59734991, -0.12783776],\n",
              "        [ 0.88918719, -0.11634433,  0.01527518, -0.26768361,\n",
              "         -0.98022136, -1.60021045,  1.19118212, -0.35979186],\n",
              "        [ 0.90962588,  0.46914338, -0.21243229,  0.49638366,\n",
              "         -1.18454143, -1.45403006,  0.82844854, -2.58143695],\n",
              "        [ 0.30826118,  0.20638701,  1.48774919, -0.10569204,\n",
              "         -0.36715032, -0.38951434, -1.02162196,  0.65117099],\n",
              "        [-0.34789865,  0.48793607, -1.2545639 , -0.5488904 ,\n",
              "          0.4430199 ,  0.97052349, -0.45962641,  0.60416293]],\n",
              "\n",
              "       [[ 0.06271985, -0.46834429,  0.46412829, -0.47548762,\n",
              "         -0.87082669, -0.21904804,  0.13891152,  1.42785507],\n",
              "        [-0.32113996, -0.50435541, -0.3607806 , -0.79624653,\n",
              "         -1.05734671,  2.29586401, -0.46601236,  0.94536001],\n",
              "        [ 0.00700149, -0.63225533,  1.52414393,  0.36978666,\n",
              "          0.36211935,  0.3550917 , -0.42107731, -1.53931219],\n",
              "        [-0.75952368,  0.57273795, -0.02729975, -0.44076523,\n",
              "         -0.17531304, -0.87973935,  0.65758922,  0.06021272],\n",
              "        [ 0.334052  ,  0.66213156, -0.86111711,  0.31333366,\n",
              "         -0.43976243,  0.66925077, -0.58578134,  0.21101883],\n",
              "        [ 2.03098586, -0.86990283, -0.68008485, -0.91676016,\n",
              "         -2.09562355,  1.49405085,  0.36911338, -0.39684279],\n",
              "        [-2.00604952, -0.48631403, -0.59672346,  0.76113322,\n",
              "         -0.88068397,  0.6193799 , -0.42398636, -0.63846848],\n",
              "        [-0.31332811,  1.58000109, -1.1940203 ,  1.39461279,\n",
              "          0.77021396,  1.04062815, -0.82491633,  0.11656775]],\n",
              "\n",
              "       [[ 0.68736034,  0.80672189,  0.69443096,  1.00701338,\n",
              "          2.01969177, -0.1966654 , -0.12578059, -0.79522089],\n",
              "        [-1.22304693,  0.53362469,  0.73009148, -0.25341514,\n",
              "          1.55317588,  0.0980156 , -0.7326302 ,  0.2821197 ],\n",
              "        [-0.62280629, -0.48753769, -0.24910268, -0.33551308,\n",
              "          1.18010295,  0.82121527,  1.36033083,  0.80028176],\n",
              "        [ 0.36436187,  1.31737487, -0.75207806, -0.47000204,\n",
              "          1.08018546,  0.94955677,  2.16738606, -1.78094565],\n",
              "        [ 1.45770816,  0.79556728,  0.17166197, -1.03744577,\n",
              "         -1.35300436,  0.36605849,  2.59544931,  1.3479095 ],\n",
              "        [ 1.14017006,  0.30671478, -0.25194589,  0.96151803,\n",
              "          1.15285222, -0.88692363,  0.25512041,  0.97548963],\n",
              "        [ 2.33697245,  0.15792135, -1.06409378, -1.65432416,\n",
              "         -0.5444187 ,  1.51980846, -0.23108484,  1.96006578],\n",
              "        [-0.50338581,  1.17328825, -1.10290014,  0.72763198,\n",
              "          0.93838764, -1.0007948 , -0.7102348 ,  0.30275307]],\n",
              "\n",
              "       [[ 0.77157218, -0.51696338, -0.56321661,  1.19755895,\n",
              "         -1.13406041,  0.67454125, -0.34200086, -1.00734946],\n",
              "        [ 0.36335064,  0.28632246, -1.5695156 , -0.64696477,\n",
              "         -0.75189848,  0.54563645, -0.0417403 , -0.62741944],\n",
              "        [-0.66339018,  1.33543184, -0.16534735, -0.13244992,\n",
              "         -0.4231702 , -0.87345277,  0.06122998,  2.02087413],\n",
              "        [ 1.17737971,  0.37888285, -1.31450665, -0.94584792,\n",
              "          0.51946449, -0.26043319,  0.37209742, -1.00561061],\n",
              "        [-2.96699073, -0.59612645,  0.10939124, -0.65035179,\n",
              "         -0.26351177, -1.48330188,  1.62427683, -1.40620341],\n",
              "        [-0.48612321,  1.32575814, -0.33900766,  1.7101997 ,\n",
              "          0.36084912,  0.67779865,  0.4617907 , -1.89735485],\n",
              "        [-0.09527988, -0.1331526 , -0.43523224,  0.55988214,\n",
              "         -1.28446749, -1.87107622, -0.61741165, -2.05587229],\n",
              "        [-0.6512905 ,  1.46565383, -0.68237651, -0.17811133,\n",
              "          1.54851851,  1.36816854, -1.26512003,  0.51522084]]])"
            ]
          },
          "metadata": {
            "tags": []
          },
          "execution_count": 137
        }
      ]
    },
    {
      "cell_type": "code",
      "metadata": {
        "id": "mDol48c_thbI",
        "colab_type": "code",
        "outputId": "8f55bc50-3b00-472b-d415-062864a14cc2",
        "colab": {
          "base_uri": "https://localhost:8080/",
          "height": 151
        }
      },
      "source": [
        "x=np.random.randn(8,3)\n",
        "x\n"
      ],
      "execution_count": 0,
      "outputs": [
        {
          "output_type": "execute_result",
          "data": {
            "text/plain": [
              "array([[-0.61234927, -0.52860551,  2.48884939],\n",
              "       [ 0.27694122, -0.05947791, -2.14921002],\n",
              "       [-0.80644867,  0.27000106,  2.05114224],\n",
              "       [ 0.21692715, -0.81704647, -1.02490133],\n",
              "       [-1.71352952, -1.08086386, -0.43342636],\n",
              "       [ 0.29925502, -2.30710414, -0.82023614],\n",
              "       [-1.83315086,  0.25427734, -1.0719684 ],\n",
              "       [ 1.03243741,  1.81837   , -0.00610129]])"
            ]
          },
          "metadata": {
            "tags": []
          },
          "execution_count": 140
        }
      ]
    },
    {
      "cell_type": "code",
      "metadata": {
        "id": "R4wdKhd6uWqM",
        "colab_type": "code",
        "outputId": "260467f2-a136-48ac-9894-d6eac1130ee8",
        "colab": {
          "base_uri": "https://localhost:8080/",
          "height": 151
        }
      },
      "source": [
        "# We need install numpy in order to import it \n",
        "import numpy as np \n",
        "  \n",
        "# input two matrices \n",
        "x = ([[-0.61234927, -0.52860551,  2.48884939],\n",
        "       [ 0.27694122, -0.05947791, -2.14921002],\n",
        "       [-0.80644867,  0.27000106,  2.05114224],\n",
        "       [ 0.21692715, -0.81704647, -1.02490133],\n",
        "       [-1.71352952, -1.08086386, -0.43342636],\n",
        "       [ 0.29925502, -2.30710414, -0.82023614],\n",
        "       [-1.83315086,  0.25427734, -1.0719684 ],\n",
        "       [ 1.03243741,  1.81837   , -0.00610129]]) \n",
        "y = ([[-1.00866137, -0.93622685],\n",
        "       [ 0.7739149 , -0.05289863],\n",
        "       [-0.49613763,  0.76658735]]) \n",
        "  \n",
        "# This will return dot product \n",
        "res = np.dot(x,y) \n",
        "  \n",
        "# print resulted matrix \n",
        "print(res) "
      ],
      "execution_count": 0,
      "outputs": [
        {
          "output_type": "stream",
          "text": [
            "[[-1.02625446  2.50918079]\n",
            " [ 0.74093321 -1.90369072]\n",
            " [ 0.00474261  2.31311591]\n",
            " [-0.34263836 -0.94554878]\n",
            " [ 1.10691351  1.3291694 ]\n",
            " [-1.68039923 -0.78691059]\n",
            " [ 2.57766134  0.88103672]\n",
            " [ 0.36891098 -1.06746208]]\n"
          ],
          "name": "stdout"
        }
      ]
    },
    {
      "cell_type": "code",
      "metadata": {
        "id": "PKFb90jluv9y",
        "colab_type": "code",
        "outputId": "a1f55790-45e2-4964-8023-887442025699",
        "colab": {
          "base_uri": "https://localhost:8080/",
          "height": 84
        }
      },
      "source": [
        "res.flatten()"
      ],
      "execution_count": 0,
      "outputs": [
        {
          "output_type": "execute_result",
          "data": {
            "text/plain": [
              "array([-1.02625446,  2.50918079,  0.74093321, -1.90369072,  0.00474261,\n",
              "        2.31311591, -0.34263836, -0.94554878,  1.10691351,  1.3291694 ,\n",
              "       -1.68039923, -0.78691059,  2.57766134,  0.88103672,  0.36891098,\n",
              "       -1.06746208])"
            ]
          },
          "metadata": {
            "tags": []
          },
          "execution_count": 143
        }
      ]
    },
    {
      "cell_type": "code",
      "metadata": {
        "id": "co1YVzkXuXSX",
        "colab_type": "code",
        "outputId": "b87b2028-3cd8-4da3-ec7d-d9eec56b1f20",
        "colab": {
          "base_uri": "https://localhost:8080/",
          "height": 67
        }
      },
      "source": [
        "y=np.random.randn(3,2)\n",
        "y\n"
      ],
      "execution_count": 0,
      "outputs": [
        {
          "output_type": "execute_result",
          "data": {
            "text/plain": [
              "array([[-1.00866137, -0.93622685],\n",
              "       [ 0.7739149 , -0.05289863],\n",
              "       [-0.49613763,  0.76658735]])"
            ]
          },
          "metadata": {
            "tags": []
          },
          "execution_count": 141
        }
      ]
    },
    {
      "cell_type": "code",
      "metadata": {
        "id": "E47TG4NdwUtP",
        "colab_type": "code",
        "outputId": "2bc4030f-aac2-43cb-d061-99824661eb7e",
        "colab": {
          "base_uri": "https://localhost:8080/",
          "height": 67
        }
      },
      "source": [
        "z=np.random.randn(3,4)\n",
        "z"
      ],
      "execution_count": 0,
      "outputs": [
        {
          "output_type": "execute_result",
          "data": {
            "text/plain": [
              "array([[-0.53535331, -1.05531933, -0.08977706,  0.946931  ],\n",
              "       [-0.68859598,  0.77074928, -2.45447165, -1.15539802],\n",
              "       [ 0.88598206, -0.8930227 , -0.56815816,  0.57511049]])"
            ]
          },
          "metadata": {
            "tags": []
          },
          "execution_count": 150
        }
      ]
    },
    {
      "cell_type": "code",
      "metadata": {
        "id": "pcSMKetBwdGc",
        "colab_type": "code",
        "outputId": "4050acc4-d07f-494d-b30e-9f22068f8d5c",
        "colab": {
          "base_uri": "https://localhost:8080/",
          "height": 84
        }
      },
      "source": [
        "z.T"
      ],
      "execution_count": 0,
      "outputs": [
        {
          "output_type": "execute_result",
          "data": {
            "text/plain": [
              "array([[-0.53535331, -0.68859598,  0.88598206],\n",
              "       [-1.05531933,  0.77074928, -0.8930227 ],\n",
              "       [-0.08977706, -2.45447165, -0.56815816],\n",
              "       [ 0.946931  , -1.15539802,  0.57511049]])"
            ]
          },
          "metadata": {
            "tags": []
          },
          "execution_count": 151
        }
      ]
    },
    {
      "cell_type": "code",
      "metadata": {
        "id": "x2z0tnx1wk-S",
        "colab_type": "code",
        "outputId": "08c9141b-361c-4cea-ff1f-a620b5ab4892",
        "colab": {
          "base_uri": "https://localhost:8080/",
          "height": 34
        }
      },
      "source": [
        "z=np.arange(16)\n",
        "z"
      ],
      "execution_count": 0,
      "outputs": [
        {
          "output_type": "execute_result",
          "data": {
            "text/plain": [
              "array([ 0,  1,  2,  3,  4,  5,  6,  7,  8,  9, 10, 11, 12, 13, 14, 15])"
            ]
          },
          "metadata": {
            "tags": []
          },
          "execution_count": 153
        }
      ]
    },
    {
      "cell_type": "code",
      "metadata": {
        "id": "7DsuIK_bwrcp",
        "colab_type": "code",
        "outputId": "ff5e8344-2fc8-4601-8e00-fea3411a34ca",
        "colab": {
          "base_uri": "https://localhost:8080/",
          "height": 84
        }
      },
      "source": [
        "np.sqrt(z)"
      ],
      "execution_count": 0,
      "outputs": [
        {
          "output_type": "execute_result",
          "data": {
            "text/plain": [
              "array([0.        , 1.        , 1.41421356, 1.73205081, 2.        ,\n",
              "       2.23606798, 2.44948974, 2.64575131, 2.82842712, 3.        ,\n",
              "       3.16227766, 3.31662479, 3.46410162, 3.60555128, 3.74165739,\n",
              "       3.87298335])"
            ]
          },
          "metadata": {
            "tags": []
          },
          "execution_count": 154
        }
      ]
    },
    {
      "cell_type": "code",
      "metadata": {
        "id": "BKMnBYnMw00u",
        "colab_type": "code",
        "colab": {}
      },
      "source": [
        "arr=np.random.randn(7)*5"
      ],
      "execution_count": 0,
      "outputs": []
    },
    {
      "cell_type": "code",
      "metadata": {
        "id": "OXnu29sexGw2",
        "colab_type": "code",
        "outputId": "49b32a1b-feff-48fa-f21c-cafd58768a6b",
        "colab": {
          "base_uri": "https://localhost:8080/",
          "height": 50
        }
      },
      "source": [
        "arr"
      ],
      "execution_count": 0,
      "outputs": [
        {
          "output_type": "execute_result",
          "data": {
            "text/plain": [
              "array([ 0.2182991 ,  3.16870133, -1.3112656 ,  2.65382176, -2.98275199,\n",
              "        9.35468538, -7.90807822])"
            ]
          },
          "metadata": {
            "tags": []
          },
          "execution_count": 156
        }
      ]
    },
    {
      "cell_type": "code",
      "metadata": {
        "id": "FkbPXovcxJXS",
        "colab_type": "code",
        "outputId": "ae3c4e1a-3456-4001-cfd1-65009cfebb28",
        "colab": {
          "base_uri": "https://localhost:8080/",
          "height": 50
        }
      },
      "source": [
        "np.square(z)"
      ],
      "execution_count": 0,
      "outputs": [
        {
          "output_type": "execute_result",
          "data": {
            "text/plain": [
              "array([  0,   1,   4,   9,  16,  25,  36,  49,  64,  81, 100, 121, 144,\n",
              "       169, 196, 225])"
            ]
          },
          "metadata": {
            "tags": []
          },
          "execution_count": 158
        }
      ]
    },
    {
      "cell_type": "code",
      "metadata": {
        "id": "27iq2b4Sxo_P",
        "colab_type": "code",
        "outputId": "170cfec4-960a-4f20-a9cc-d51df746b2c7",
        "colab": {
          "base_uri": "https://localhost:8080/",
          "height": 34
        }
      },
      "source": [
        "np.add(z,z)"
      ],
      "execution_count": 0,
      "outputs": [
        {
          "output_type": "execute_result",
          "data": {
            "text/plain": [
              "array([ 0,  2,  4,  6,  8, 10, 12, 14, 16, 18, 20, 22, 24, 26, 28, 30])"
            ]
          },
          "metadata": {
            "tags": []
          },
          "execution_count": 159
        }
      ]
    },
    {
      "cell_type": "code",
      "metadata": {
        "id": "42qYrxdixzcN",
        "colab_type": "code",
        "outputId": "9ed686e7-8a9a-4831-a9ad-de890b69483c",
        "colab": {
          "base_uri": "https://localhost:8080/",
          "height": 84
        }
      },
      "source": [
        "np.exp(z)"
      ],
      "execution_count": 0,
      "outputs": [
        {
          "output_type": "execute_result",
          "data": {
            "text/plain": [
              "array([1.00000000e+00, 2.71828183e+00, 7.38905610e+00, 2.00855369e+01,\n",
              "       5.45981500e+01, 1.48413159e+02, 4.03428793e+02, 1.09663316e+03,\n",
              "       2.98095799e+03, 8.10308393e+03, 2.20264658e+04, 5.98741417e+04,\n",
              "       1.62754791e+05, 4.42413392e+05, 1.20260428e+06, 3.26901737e+06])"
            ]
          },
          "metadata": {
            "tags": []
          },
          "execution_count": 160
        }
      ]
    },
    {
      "cell_type": "code",
      "metadata": {
        "id": "BOUM8rJ2x1hS",
        "colab_type": "code",
        "outputId": "1cb57b22-5144-4c96-dbcf-5668c9f3b556",
        "colab": {
          "base_uri": "https://localhost:8080/",
          "height": 118
        }
      },
      "source": [
        "np.log(z)"
      ],
      "execution_count": 0,
      "outputs": [
        {
          "output_type": "stream",
          "text": [
            "/usr/local/lib/python3.6/dist-packages/ipykernel_launcher.py:1: RuntimeWarning: divide by zero encountered in log\n",
            "  \"\"\"Entry point for launching an IPython kernel.\n"
          ],
          "name": "stderr"
        },
        {
          "output_type": "execute_result",
          "data": {
            "text/plain": [
              "array([      -inf, 0.        , 0.69314718, 1.09861229, 1.38629436,\n",
              "       1.60943791, 1.79175947, 1.94591015, 2.07944154, 2.19722458,\n",
              "       2.30258509, 2.39789527, 2.48490665, 2.56494936, 2.63905733,\n",
              "       2.7080502 ])"
            ]
          },
          "metadata": {
            "tags": []
          },
          "execution_count": 161
        }
      ]
    },
    {
      "cell_type": "code",
      "metadata": {
        "id": "3T9O3bngx7QG",
        "colab_type": "code",
        "outputId": "64143ce5-a3ce-4478-eb71-ce76a7677355",
        "colab": {
          "base_uri": "https://localhost:8080/",
          "height": 34
        }
      },
      "source": [
        "np.sign(z)"
      ],
      "execution_count": 0,
      "outputs": [
        {
          "output_type": "execute_result",
          "data": {
            "text/plain": [
              "array([0, 1, 1, 1, 1, 1, 1, 1, 1, 1, 1, 1, 1, 1, 1, 1])"
            ]
          },
          "metadata": {
            "tags": []
          },
          "execution_count": 162
        }
      ]
    },
    {
      "cell_type": "code",
      "metadata": {
        "id": "Tn94Ly6NyACt",
        "colab_type": "code",
        "outputId": "5af181ac-b8d7-4977-93b5-13cbcd2ed634",
        "colab": {
          "base_uri": "https://localhost:8080/",
          "height": 84
        }
      },
      "source": [
        "np.cos(z)"
      ],
      "execution_count": 0,
      "outputs": [
        {
          "output_type": "execute_result",
          "data": {
            "text/plain": [
              "array([ 1.        ,  0.54030231, -0.41614684, -0.9899925 , -0.65364362,\n",
              "        0.28366219,  0.96017029,  0.75390225, -0.14550003, -0.91113026,\n",
              "       -0.83907153,  0.0044257 ,  0.84385396,  0.90744678,  0.13673722,\n",
              "       -0.75968791])"
            ]
          },
          "metadata": {
            "tags": []
          },
          "execution_count": 164
        }
      ]
    },
    {
      "cell_type": "code",
      "metadata": {
        "id": "CRe6rqJNyE64",
        "colab_type": "code",
        "outputId": "09de2ae9-fb35-4f6b-d1a3-13c1ddc82b72",
        "colab": {
          "base_uri": "https://localhost:8080/",
          "height": 84
        }
      },
      "source": [
        "np.sin(z)"
      ],
      "execution_count": 0,
      "outputs": [
        {
          "output_type": "execute_result",
          "data": {
            "text/plain": [
              "array([ 0.        ,  0.84147098,  0.90929743,  0.14112001, -0.7568025 ,\n",
              "       -0.95892427, -0.2794155 ,  0.6569866 ,  0.98935825,  0.41211849,\n",
              "       -0.54402111, -0.99999021, -0.53657292,  0.42016704,  0.99060736,\n",
              "        0.65028784])"
            ]
          },
          "metadata": {
            "tags": []
          },
          "execution_count": 165
        }
      ]
    },
    {
      "cell_type": "code",
      "metadata": {
        "id": "hJgqD118yMoP",
        "colab_type": "code",
        "outputId": "d0841836-0eea-4153-d0a2-4ea06655e0d4",
        "colab": {
          "base_uri": "https://localhost:8080/",
          "height": 50
        }
      },
      "source": [
        "np.power(z,2)"
      ],
      "execution_count": 0,
      "outputs": [
        {
          "output_type": "execute_result",
          "data": {
            "text/plain": [
              "array([  0,   1,   4,   9,  16,  25,  36,  49,  64,  81, 100, 121, 144,\n",
              "       169, 196, 225])"
            ]
          },
          "metadata": {
            "tags": []
          },
          "execution_count": 167
        }
      ]
    },
    {
      "cell_type": "code",
      "metadata": {
        "id": "uKMpSTJlySTN",
        "colab_type": "code",
        "outputId": "74870373-b269-46bf-e2c4-ca224c466a84",
        "colab": {
          "base_uri": "https://localhost:8080/",
          "height": 84
        }
      },
      "source": [
        "np.power(z,9)"
      ],
      "execution_count": 0,
      "outputs": [
        {
          "output_type": "execute_result",
          "data": {
            "text/plain": [
              "array([          0,           1,         512,       19683,      262144,\n",
              "           1953125,    10077696,    40353607,   134217728,   387420489,\n",
              "        1000000000,  2357947691,  5159780352, 10604499373, 20661046784,\n",
              "       38443359375])"
            ]
          },
          "metadata": {
            "tags": []
          },
          "execution_count": 168
        }
      ]
    },
    {
      "cell_type": "code",
      "metadata": {
        "id": "ZkCPHvRayYal",
        "colab_type": "code",
        "outputId": "d5fb551a-d625-4ca2-92f0-e67d3c354744",
        "colab": {
          "base_uri": "https://localhost:8080/",
          "height": 50
        }
      },
      "source": [
        "np.logical_or(z,z)"
      ],
      "execution_count": 0,
      "outputs": [
        {
          "output_type": "execute_result",
          "data": {
            "text/plain": [
              "array([False,  True,  True,  True,  True,  True,  True,  True,  True,\n",
              "        True,  True,  True,  True,  True,  True,  True])"
            ]
          },
          "metadata": {
            "tags": []
          },
          "execution_count": 171
        }
      ]
    },
    {
      "cell_type": "code",
      "metadata": {
        "id": "TmPDAeSoyq-G",
        "colab_type": "code",
        "colab": {}
      },
      "source": [
        "def MonteCarloPi(maxIterations):\n",
        "#Draw a square and a circle to frame out simulation\n",
        "    squareX = [1,-1,-1,1,1]\n",
        "    squareY = [1,1,-1,-1,1]\n",
        "    circleX,circleY = [],[]\n",
        "    \n",
        "    for i in range(361):\n",
        "        circleX.append(np.cos(np.pi*i/180))\n",
        "        circleY.append(np.sin(np.pi*i/180))\n",
        "\n",
        "#Start keeping track of values we're interested in\n",
        "    insideX,insideY,outsideX,outsideY,Iteration,CurrentPi = [],[],[],[],[],[]\n",
        "    insideCounter = 0\n",
        "\n",
        "#Generate a bunch of values of x and y between -1 and 1, then assess their combined radius on an xy plane\n",
        "    for i in range(maxIterations):\n",
        "        x = 2*(random()-0.5)\n",
        "        y = 2*(random()-0.5)\n",
        "        r = np.sqrt(x**2+y**2)\n",
        "        Iteration.append(i)\n",
        "        if r <= 1:\n",
        "            insideCounter +=1\n",
        "            insideX.append(x)\n",
        "            insideY.append(y)\n",
        "        else:\n",
        "            outsideX.append(x)\n",
        "            outsideY.append(y)\n",
        "        CurrentPi.append(4*insideCounter/(i+1))\n",
        "\n",
        "    piValue = 4*insideCounter / maxIterations\n",
        "    piError = round(100*((piValue-pi)/pi),4)\n",
        "\n",
        "#Draw a 2D plot of where our iterations landed compared to the square and circle\n",
        "    rcParams['figure.figsize'] = 5, 5\n",
        "    plt.plot(squareX,squareY,color='#000000')\n",
        "    plt.plot(circleX,circleY,color='#0000CC')\n",
        "    plt.scatter(insideX,insideY,color='#00CC00',marker=\".\")\n",
        "    plt.scatter(outsideX,outsideY,color='#CC0000',marker=\".\")\n",
        "    plt.xlabel('x')\n",
        "    plt.ylabel('y')\n",
        "    plt.show()\n",
        "    \n",
        "#Draw a psuedo-time series plot of current estimate of pi vs. iteration number\n",
        "    plt.plot(Iteration,CurrentPi,color='#009900')\n",
        "    plt.axhline(y=pi,color='#0F0F0F',ls='--')\n",
        "    plt.axis([0,maxIterations,0,4.1])\n",
        "    plt.xlabel('Iteration Number')\n",
        "    plt.ylabel('Estimate for pi')\n",
        "    plt.show()\n",
        "\n",
        "#print out our final estimate and how it compares to the true value\n",
        "    print('\\n' + f'Pi is approximately {piValue}\\n')\n",
        "    print(f'This is {piError}% off the true value.\\n')\n"
      ],
      "execution_count": 0,
      "outputs": []
    },
    {
      "cell_type": "code",
      "metadata": {
        "id": "XKv3O5ig0o3f",
        "colab_type": "code",
        "outputId": "e5b7fc93-08c7-4248-d755-d85d37d0e1bc",
        "colab": {
          "base_uri": "https://localhost:8080/",
          "height": 128
        }
      },
      "source": [
        "def pClosest(points, K): \n",
        "  \n",
        "    points.sort(key = lambda K: K[0]**2 + K[1]**2) \n",
        "  \n",
        "    return points[:K] \n",
        "  \n",
        "# Driver program \n",
        "points = [-0.36337495, -0.19121804],[1.61115322, -0.5416413] ,\n",
        "         [-1.17096857,  0.42248754, -0.73910971,  1.33971843],\n",
        "        [ 0.67446905,  0.63638934,  1.29883749,  0.66926649,\n",
        "          1.40051026,  1.24630695,  0.53883581, -0.64360128],\n",
        "        [ 0.84893186, -1.75729613,  0.00456386, -0.94778073,\n",
        "          0.4914105 ,  0.87525777,  0.09446645, -1.05684084],\n",
        "        [ 0.36356378,  1.06718518, -0.30516134,  1.12096088,\n",
        "          0.35108312,  0.42251646,  0.31367575, -0.57419381],\n",
        "        [ 0.44024233,  1.07753417, -1.07128983, -0.55406848,\n",
        "         -0.42398774,  0.05950704,  0.56167223, -1.00860758],\n",
        "        [ 0.26309463,  0.4975868 ,  0.823931  , -0.13616535,\n",
        "         -0.72072876,  0.64677019,  0.34625452, -0.23428083],\n",
        "        [-0.52098461,  1.54875979,  0.0611088 , -0.67940978,\n",
        "          0.26484372,  1.0403459 ,  0.11415177,  0.93787246],\n",
        "        [ 0.40247483,  1.03597266,  0.79376553, -1.40136672,\n",
        "          0.24213856,  0.04860006,  1.18331952,  1.94485739]],\n",
        "\n",
        "       [[-0.9999224 ,  1.17590429,  1.58384074, -1.88016542,\n",
        "          0.55834079, -0.89949773, -2.1953908 , -1.25755975],\n",
        "        [ 0.81471034,  1.41554604, -1.16331935, -0.31705147,\n",
        "         -1.3345472 , -0.7479962 ,  0.49671964,  0.11692332],\n",
        "        [ 0.29044969,  0.88502348,  0.70158126,  0.30112693,\n",
        "         -0.09875765,  2.00822099, -0.82441293,  0.79159882],\n",
        "        [-3.25276871,  2.35901762,  1.02167002,  1.89077767,\n",
        "         -0.17283299, -0.70853195, -1.57593459, -1.11076945],\n",
        "        [ 2.43040943,  1.98874102,  1.77740184,  0.31471795,\n",
        "          1.70149606, -1.52641823, -0.08731125, -0.4693424 ],\n",
        "        [-0.42270016,  0.87498303, -0.24808544, -0.6524692 ,\n",
        "          0.07342193,  0.00586369,  0.51512488, -0.40980525],\n",
        "        [-0.05019831,  1.0235694 ,  0.72601163, -0.73969414,\n",
        "         -1.7537552 , -1.78267144,  1.69978399,  0.16633242],\n",
        "        [-0.21791978,  1.26224101, -1.84870898, -0.09361026,\n",
        "         -2.21959579, -0.7076975 ,  0.87148664,  0.26469188]],\n",
        "\n",
        "       [[-0.07765079,  0.0345471 , -0.85472517,  1.450707  ,\n",
        "          0.73630804,  0.10912708, -0.17397987,  1.58404021],\n",
        "        [ 0.01652522, -0.60639438, -0.64193368,  0.25942132,\n",
        "         -0.66659278, -0.47110043,  0.57679756,  0.05724659],\n",
        "        [ 1.76553668,  0.42336351, -0.77268396,  1.09818686,\n",
        "          0.05368668, -0.79096824,  0.35891104, -1.20128779],\n",
        "        [ 1.91025799,  0.58830534,  1.0309888 ,  0.7834406 ,\n",
        "         -0.33897052, -1.59642927, -1.1215477 , -1.20230036],\n",
        "        [ 0.22853806, -0.08813633, -2.02840457,  0.8137258 ,\n",
        "          0.33627294, -1.02056063,  0.09155003,  3.08886513],\n",
        "        [ 0.48954752, -1.00011911, -1.65739184,  0.60533885,\n",
        "         -0.17938676,  1.19744564, -0.05179905,  1.11401143],\n",
        "        [-0.50746205, -0.83929431, -1.24447907,  0.60720431,\n",
        "         -0.35608491,  0.27803339,  1.45075673,  1.05029458],\n",
        "        [-0.73695754,  0.26796357, -0.38696815, -0.16587332,\n",
        "          0.40489049,  0.88248063,  0.13880528, -0.60322656]],\n",
        "\n",
        "       [[ 1.55279804, -0.28391667, -0.46668277,  0.70527379,\n",
        "          0.33729411, -0.20748492,  2.6305343 ,  2.1886117 ],\n",
        "        [ 0.56110228,  0.34450235, -0.7680492 ,  0.27979905,\n",
        "         -0.3610866 ,  1.772109  , -1.63381594, -0.95618371],\n",
        "        [ 1.1054027 , -0.07542821, -0.10850534,  0.22033672,\n",
        "         -0.02651276,  1.21851074, -0.91445025, -0.86040433],\n",
        "        [-1.13213743,  1.72494032, -0.23604904,  1.22000578,\n",
        "          0.15306064,  1.23443046,  0.25061267,  0.35455878],\n",
        "        [-0.73494846, -0.47288589,  0.49817005,  0.70544569,\n",
        "         -0.1678933 , -0.91120997, -0.64866917,  1.8707832 ],\n",
        "        [ 0.81543354, -0.41616178, -0.70779625,  0.46885584,\n",
        "          0.57509448, -0.87186731, -0.69040733,  1.89436534],\n",
        "        [ 0.71843776, -0.00479409,  1.52846396, -0.62702111,\n",
        "          1.65393707, -0.06921595, -0.48749483, -0.76496497],\n",
        "        [-1.19186012,  0.64133005,  0.57110375, -1.41238558,\n",
        "         -0.20194892,  0.86534528, -0.44820377, -1.03157782]],\n",
        "\n",
        "       [[-0.37169487, -0.60670082, -0.08217115,  2.13978352,\n",
        "         -0.66776766,  0.3096136 , -0.17640316,  0.75972311],\n",
        "        [ 0.68803158, -0.01749208, -1.09546578, -0.09923184,\n",
        "         -0.81965673, -0.40953328,  0.88487127,  0.42671478],\n",
        "        [-0.68485856, -0.63549841,  0.39631292, -0.43309704,\n",
        "         -1.48669892, -0.43769912, -0.21168882,  0.42814002],\n",
        "        [ 0.51748683,  0.59524486, -0.68714554,  2.20128565,\n",
        "          0.44015893, -0.09445714,  0.7040363 ,  0.23659022],\n",
        "        [-2.29931124,  1.18426827, -0.21885241, -1.47192856,\n",
        "          0.03409908,  0.67508248,  1.62303855,  0.99415627],\n",
        "        [ 0.66801546,  0.66965841,  1.09986398, -2.59776937,\n",
        "          1.23635842, -0.18333878,  0.10265375,  0.69760225],\n",
        "        [ 0.38795999,  0.9464399 ,  1.52599296,  0.77788031,\n",
        "         -0.06586459, -1.65681846, -0.0908898 ,  0.88940213],\n",
        "        [-2.00502436, -0.10922257,  0.50868888,  0.86469114,\n",
        "          1.17830511,  1.18964849,  0.1169976 , -0.21275078]],\n",
        "\n",
        "       [[ 0.01767338, -0.81945681, -0.40892072, -0.53749856,\n",
        "          0.08168593, -0.89171152,  2.37348366,  0.04409203],\n",
        "        [ 0.13913591,  0.51321328, -1.08376693,  0.33096317,\n",
        "         -1.14103887, -2.01325719,  0.51668939, -2.84832889],\n",
        "        [ 1.4129704 , -0.92525347, -0.6453766 ,  0.68522758,\n",
        "          0.03131367, -0.46162143, -1.27124744,  0.4153572 ],\n",
        "        [ 1.23381012,  1.6863634 , -0.15390508,  0.10693391,\n",
        "         -2.14823988,  0.77199668,  0.55110515, -0.11387667],\n",
        "        [ 0.31687054, -0.81740667, -0.96464585,  0.71527462,\n",
        "          0.89933803, -0.48189178, -0.48778638,  1.06112923],\n",
        "        [ 0.14866407,  2.36802607,  0.82435356, -0.70566229,\n",
        "          0.02882325, -0.36668337,  0.09833968,  0.48514864],\n",
        "        [-1.03096173, -0.62335341,  0.07595689,  0.49099691,\n",
        "         -0.89083478, -2.13574804,  0.64916785, -0.21457675],\n",
        "        [ 0.94125089, -0.55449324, -0.19988925,  0.97279036,\n",
        "          1.94446016,  0.72757272, -0.36140076,  0.95048376]],\n",
        "\n",
        "       [[ 1.08464023, -1.43503022, -0.79268175,  0.15833147,\n",
        "         -1.00942184, -0.20671899,  3.02758132, -0.77227674],\n",
        "        [-0.16117183, -2.26982722, -0.80643034,  0.44940424,\n",
        "         -0.28004538, -1.9367436 ,  1.29504237,  0.80607537],\n",
        "        [-0.31447784, -1.86829879, -0.57359464, -0.36466995,\n",
        "          0.44944582,  1.1431109 ,  0.87503997, -0.69844446],\n",
        "        [-0.28845718,  0.48023546,  0.46116078,  0.04303454,\n",
        "          0.08851692,  0.70143801, -2.12962006,  0.0483929 ],\n",
        "        [-0.01298483, -0.42451359, -0.34897219, -0.40097738,\n",
        "          2.48541712,  0.217042  , -0.4066374 , -0.94632225],\n",
        "        [-0.08000587, -0.24372851,  0.01553562,  0.13007874,\n",
        "          0.85210397,  0.15591757,  0.40225916,  1.69046415],\n",
        "        [-0.16962411,  1.6228357 , -0.00882255, -1.15471855,\n",
        "          0.47547434,  0.76355535,  1.6454398 , -0.44044622],\n",
        "        [-0.46917485, -0.30881452,  0.51917242,  0.62891035,\n",
        "          0.43171502, -1.17627572,  0.54626833,  1.54324932]],\n",
        "\n",
        "       [[ 0.2631188 , -2.10952914, -0.59939373,  0.99869393,\n",
        "          1.96251543,  1.19640179, -0.52179783, -0.64003623],\n",
        "        [ 0.59314603,  0.71623818,  0.26067409, -1.07240095,\n",
        "         -1.10854336, -0.50157224,  0.53363211,  0.32696387],\n",
        "        [-2.4429711 , -0.33434927,  0.35477733, -0.2799178 ,\n",
        "         -1.83213787, -1.05275551,  0.45385477, -0.84172092],\n",
        "        [-0.90037698,  2.61832794,  0.96116408,  0.00863791,\n",
        "          0.44594695, -0.10289984, -1.11961556,  0.61325739],\n",
        "        [-0.19511801,  1.56005075, -1.10266249, -2.06639657,\n",
        "          0.74513269, -0.06719751, -1.67425664, -0.27470891],\n",
        "        [ 0.24131049,  0.32691232, -0.95188948,  2.33751429,\n",
        "          0.61678244,  0.30155079,  0.65149343, -0.69018639],\n",
        "        [ 1.05807557,  2.11345856, -0.29919458,  0.06942353,\n",
        "          1.2342043 ,  1.59519001,  0.38052   , -0.4358339 ],\n",
        "        [-0.54211133, -0.13275926, -0.68634396, -0.5897906 ,\n",
        "          0.33063317,  1.12675884, -1.66919356, -0.78223456]]] \n",
        "  \n",
        "K = 100\n",
        "  \n",
        "print(pClosest(points, K)) "
      ],
      "execution_count": 0,
      "outputs": [
        {
          "output_type": "error",
          "ename": "SyntaxError",
          "evalue": "ignored",
          "traceback": [
            "\u001b[0;36m  File \u001b[0;32m\"<ipython-input-175-792c74a709c4>\"\u001b[0;36m, line \u001b[0;32m144\u001b[0m\n\u001b[0;31m    K = 100\u001b[0m\n\u001b[0m    ^\u001b[0m\n\u001b[0;31mSyntaxError\u001b[0m\u001b[0;31m:\u001b[0m invalid syntax\n"
          ]
        }
      ]
    },
    {
      "cell_type": "code",
      "metadata": {
        "id": "O6Aw8R4d1k0-",
        "colab_type": "code",
        "outputId": "f772d4dd-5f6d-463a-b796-9268f384c59c",
        "colab": {
          "base_uri": "https://localhost:8080/",
          "height": 1000
        }
      },
      "source": [
        "K=np.random.randn(100,1,2)\n",
        "K\n"
      ],
      "execution_count": 0,
      "outputs": [
        {
          "output_type": "execute_result",
          "data": {
            "text/plain": [
              "array([[[-1.80293691e+00,  1.24716731e+00]],\n",
              "\n",
              "       [[ 3.05318670e-01,  7.16337432e-01]],\n",
              "\n",
              "       [[-5.91554048e-01, -1.11418783e+00]],\n",
              "\n",
              "       [[-2.42128471e+00, -2.06293834e+00]],\n",
              "\n",
              "       [[ 4.59722272e-01,  6.24186001e-01]],\n",
              "\n",
              "       [[ 2.82653674e-01,  1.70384912e+00]],\n",
              "\n",
              "       [[ 2.20342815e+00,  1.63814892e+00]],\n",
              "\n",
              "       [[ 7.49307238e-01, -8.41790068e-02]],\n",
              "\n",
              "       [[-2.60799795e-01, -1.61088166e+00]],\n",
              "\n",
              "       [[ 1.59440720e-01,  6.64768550e-02]],\n",
              "\n",
              "       [[-6.98888241e-01, -5.80346674e-01]],\n",
              "\n",
              "       [[-8.37992030e-02, -3.97487762e-01]],\n",
              "\n",
              "       [[ 1.27720977e+00,  1.69140772e+00]],\n",
              "\n",
              "       [[-1.96602159e+00,  6.03078893e-01]],\n",
              "\n",
              "       [[ 4.13921445e-01, -4.77456849e-01]],\n",
              "\n",
              "       [[-4.76093260e-01, -6.45250581e-03]],\n",
              "\n",
              "       [[ 4.48988730e-01, -2.16397167e-01]],\n",
              "\n",
              "       [[ 1.90064492e+00,  1.61300326e-01]],\n",
              "\n",
              "       [[ 1.84157457e+00,  3.17623965e-01]],\n",
              "\n",
              "       [[-1.62822703e-01,  1.03076642e+00]],\n",
              "\n",
              "       [[ 1.58925290e+00, -1.42011780e-01]],\n",
              "\n",
              "       [[ 3.48362795e-01, -5.36890144e-01]],\n",
              "\n",
              "       [[-2.24449390e-01,  2.16130951e+00]],\n",
              "\n",
              "       [[-3.22589157e-01, -8.80395338e-01]],\n",
              "\n",
              "       [[ 5.69130957e-01, -9.19023051e-01]],\n",
              "\n",
              "       [[-1.39867824e+00,  9.71043605e-01]],\n",
              "\n",
              "       [[ 2.70899366e-02, -1.73591161e-01]],\n",
              "\n",
              "       [[ 4.85933511e-01, -1.23801646e+00]],\n",
              "\n",
              "       [[ 1.17561871e+00,  1.40536172e+00]],\n",
              "\n",
              "       [[ 2.18254782e+00, -1.31003096e-01]],\n",
              "\n",
              "       [[ 1.42857122e+00,  7.23121244e-01]],\n",
              "\n",
              "       [[ 4.00412867e-01,  5.91429486e-01]],\n",
              "\n",
              "       [[-6.82847472e-01,  3.25373695e-01]],\n",
              "\n",
              "       [[-6.49493954e-01,  1.44901889e+00]],\n",
              "\n",
              "       [[ 3.10379439e-01, -1.95401580e-01]],\n",
              "\n",
              "       [[-1.38344188e+00,  3.52189556e-01]],\n",
              "\n",
              "       [[ 1.16463579e+00, -4.42174616e-01]],\n",
              "\n",
              "       [[-5.10535280e-01,  8.66375068e-02]],\n",
              "\n",
              "       [[ 1.23765433e+00,  1.05872055e+00]],\n",
              "\n",
              "       [[-1.57811351e+00,  1.34648036e+00]],\n",
              "\n",
              "       [[ 1.10364495e+00,  1.03579976e+00]],\n",
              "\n",
              "       [[ 2.17117281e+00, -4.60240740e-01]],\n",
              "\n",
              "       [[ 1.32081410e-01, -2.62792249e-01]],\n",
              "\n",
              "       [[ 1.20278627e+00, -1.28750140e+00]],\n",
              "\n",
              "       [[ 6.20720238e-01, -6.99230333e-01]],\n",
              "\n",
              "       [[-1.14731446e+00,  3.54343559e-01]],\n",
              "\n",
              "       [[ 3.65776318e-01, -6.37775634e-02]],\n",
              "\n",
              "       [[ 5.69421968e-01,  6.62785119e-01]],\n",
              "\n",
              "       [[-3.34829140e-02, -7.91169662e-02]],\n",
              "\n",
              "       [[ 7.27929568e-01, -1.13605484e+00]],\n",
              "\n",
              "       [[-6.22858986e-01, -1.85372618e-01]],\n",
              "\n",
              "       [[-4.80096692e-01, -4.88517572e-01]],\n",
              "\n",
              "       [[-1.55700209e-01,  5.34356764e-01]],\n",
              "\n",
              "       [[-2.41215791e-02, -4.01314632e-01]],\n",
              "\n",
              "       [[ 9.60965706e-01,  2.86932774e-01]],\n",
              "\n",
              "       [[ 3.93016816e-02,  1.23291059e-01]],\n",
              "\n",
              "       [[ 9.20152464e-01, -3.50348908e-01]],\n",
              "\n",
              "       [[ 1.19440430e+00, -2.62463565e+00]],\n",
              "\n",
              "       [[ 1.61226106e+00,  3.16785042e-01]],\n",
              "\n",
              "       [[-2.28395127e+00,  4.78964096e-01]],\n",
              "\n",
              "       [[ 4.43319291e-01, -4.70291597e-01]],\n",
              "\n",
              "       [[-1.97094986e+00, -2.97952533e+00]],\n",
              "\n",
              "       [[ 1.63454927e+00,  1.20270967e+00]],\n",
              "\n",
              "       [[ 6.82835475e-01, -2.97524623e-01]],\n",
              "\n",
              "       [[-1.08139655e+00, -1.24399520e+00]],\n",
              "\n",
              "       [[ 2.75092907e-01,  7.69865659e-01]],\n",
              "\n",
              "       [[ 1.73487231e+00, -6.93693481e-04]],\n",
              "\n",
              "       [[ 1.35942025e+00, -2.24366093e-01]],\n",
              "\n",
              "       [[ 1.02928625e+00,  1.28617468e+00]],\n",
              "\n",
              "       [[-3.04447697e-01, -1.74364384e+00]],\n",
              "\n",
              "       [[ 1.92013083e-01,  7.24898663e-01]],\n",
              "\n",
              "       [[ 2.10055636e+00,  8.01655372e-02]],\n",
              "\n",
              "       [[ 8.62162148e-01,  9.48569934e-01]],\n",
              "\n",
              "       [[-1.04653775e+00, -1.47871504e+00]],\n",
              "\n",
              "       [[-7.73382037e-01,  1.39569378e+00]],\n",
              "\n",
              "       [[-8.46832601e-01,  5.51399467e-01]],\n",
              "\n",
              "       [[-1.67033098e+00, -1.68154298e-01]],\n",
              "\n",
              "       [[ 7.17712515e-02, -3.85918649e-01]],\n",
              "\n",
              "       [[ 8.65519260e-01, -1.94648344e-01]],\n",
              "\n",
              "       [[ 1.26769747e+00, -3.53403517e-01]],\n",
              "\n",
              "       [[-4.94843680e-01, -3.47315689e-01]],\n",
              "\n",
              "       [[-2.63493960e-01, -1.79584408e+00]],\n",
              "\n",
              "       [[-4.06639832e-01,  2.38450352e-01]],\n",
              "\n",
              "       [[ 1.66755106e+00, -4.45009063e-01]],\n",
              "\n",
              "       [[ 5.65070985e-02, -8.50229974e-01]],\n",
              "\n",
              "       [[ 3.98285683e-01, -1.13640496e+00]],\n",
              "\n",
              "       [[-1.52914222e-01,  1.69946141e+00]],\n",
              "\n",
              "       [[ 2.81856349e-02, -8.03472766e-01]],\n",
              "\n",
              "       [[-3.45323795e-01, -7.02095819e-02]],\n",
              "\n",
              "       [[-1.00587301e+00,  1.66110849e+00]],\n",
              "\n",
              "       [[ 1.29669873e-01, -9.10094272e-01]],\n",
              "\n",
              "       [[ 1.13381218e+00,  2.07429727e+00]],\n",
              "\n",
              "       [[-6.60063330e-01, -1.48621988e+00]],\n",
              "\n",
              "       [[ 1.22782814e+00, -1.28803247e-01]],\n",
              "\n",
              "       [[-5.79219496e-01,  1.94550346e-03]],\n",
              "\n",
              "       [[ 8.71741164e-01, -7.15761187e-03]],\n",
              "\n",
              "       [[ 1.11642832e+00,  3.36756674e-01]],\n",
              "\n",
              "       [[ 3.36891049e-01,  3.69017537e-01]],\n",
              "\n",
              "       [[-2.86455311e-02, -6.03617681e-02]],\n",
              "\n",
              "       [[-1.00488769e+00, -3.50560265e-01]]])"
            ]
          },
          "metadata": {
            "tags": []
          },
          "execution_count": 190
        }
      ]
    },
    {
      "cell_type": "code",
      "metadata": {
        "id": "O-oRLTUz5pJP",
        "colab_type": "code",
        "outputId": "8fe8f31e-93cd-4025-be2c-57ad95e0c1d8",
        "colab": {
          "base_uri": "https://localhost:8080/",
          "height": 185
        }
      },
      "source": [
        "a=np.random.randn(50,2)\n",
        "a\n",
        "b=(a*a).copy()\n",
        "b\n",
        "t=np.empty((50),float)\n",
        "t[:]=b.sum(axis=1)\n",
        "d=np.argsort(t)\n",
        "d[40:50]\n",
        "print(a[d[40:50]])"
      ],
      "execution_count": 0,
      "outputs": [
        {
          "output_type": "stream",
          "text": [
            "[[-1.59887716  0.48802779]\n",
            " [ 0.87328994  1.46595691]\n",
            " [-1.33570712 -1.15330872]\n",
            " [ 1.81926167  0.09005409]\n",
            " [ 0.68637184  1.70132978]\n",
            " [ 0.97890683 -1.58266441]\n",
            " [ 1.96617634  0.63578193]\n",
            " [-1.91849358 -0.95028605]\n",
            " [ 2.16777733 -0.52181328]\n",
            " [-1.63725931  1.78503636]]\n"
          ],
          "name": "stdout"
        }
      ]
    },
    {
      "cell_type": "code",
      "metadata": {
        "id": "eC1UpVwHKmG6",
        "colab_type": "code",
        "colab": {}
      },
      "source": [
        ""
      ],
      "execution_count": 0,
      "outputs": []
    },
    {
      "cell_type": "code",
      "metadata": {
        "id": "U8y-yvMuF9Pj",
        "colab_type": "code",
        "colab": {}
      },
      "source": [
        "m=np.random.randn(8,8,8)\n",
        "m\n"
      ],
      "execution_count": 0,
      "outputs": []
    },
    {
      "cell_type": "code",
      "metadata": {
        "id": "YDuDArr2FkWA",
        "colab_type": "code",
        "outputId": "1c4c7e5c-2fb6-43ed-b444-b9454ae9bec6",
        "colab": {
          "base_uri": "https://localhost:8080/",
          "height": 162
        }
      },
      "source": [
        "type()"
      ],
      "execution_count": 0,
      "outputs": [
        {
          "output_type": "error",
          "ename": "TypeError",
          "evalue": "ignored",
          "traceback": [
            "\u001b[0;31m---------------------------------------------------------------------------\u001b[0m",
            "\u001b[0;31mTypeError\u001b[0m                                 Traceback (most recent call last)",
            "\u001b[0;32m<ipython-input-195-ff6dcb82abed>\u001b[0m in \u001b[0;36m<module>\u001b[0;34m()\u001b[0m\n\u001b[0;32m----> 1\u001b[0;31m \u001b[0mtype\u001b[0m\u001b[0;34m(\u001b[0m\u001b[0;34m)\u001b[0m\u001b[0;34m\u001b[0m\u001b[0;34m\u001b[0m\u001b[0m\n\u001b[0m",
            "\u001b[0;31mTypeError\u001b[0m: type() takes 1 or 3 arguments"
          ]
        }
      ]
    },
    {
      "cell_type": "code",
      "metadata": {
        "id": "nnpvVYOm25Jh",
        "colab_type": "code",
        "outputId": "20d12c25-765d-406c-f3c0-3e9ca58dcf57",
        "colab": {
          "base_uri": "https://localhost:8080/",
          "height": 337
        }
      },
      "source": [
        "def pClosest(points, K): \n",
        "  \n",
        "    points.sort(key = lambda K: K[0]**2 + K[1]**2) \n",
        "  \n",
        "    return points[:K] \n",
        "  \n",
        "# Driver program \n",
        "points = [[[[-0.92021415,  0.80038559]],\n",
        "\n",
        "       [[-1.90271923, -1.03938641]],\n",
        "\n",
        "       [[-1.64984987,  0.49626057]],\n",
        "\n",
        "       ...,\n",
        "\n",
        "       [[-1.30709478, -0.61901144]],\n",
        "\n",
        "       [[-0.36520091, -0.64695998]],\n",
        "\n",
        "       [[-1.49913979, -0.04305217]]]] \n",
        "  \n",
        "K = 100\n",
        "  \n",
        "print(pClosest(points, K)) "
      ],
      "execution_count": 0,
      "outputs": [
        {
          "output_type": "error",
          "ename": "TypeError",
          "evalue": "ignored",
          "traceback": [
            "\u001b[0;31m---------------------------------------------------------------------------\u001b[0m",
            "\u001b[0;31mTypeError\u001b[0m                                 Traceback (most recent call last)",
            "\u001b[0;32m<ipython-input-188-34befc547e8a>\u001b[0m in \u001b[0;36m<module>\u001b[0;34m()\u001b[0m\n\u001b[1;32m     22\u001b[0m \u001b[0mK\u001b[0m \u001b[0;34m=\u001b[0m \u001b[0;36m100\u001b[0m\u001b[0;34m\u001b[0m\u001b[0;34m\u001b[0m\u001b[0m\n\u001b[1;32m     23\u001b[0m \u001b[0;34m\u001b[0m\u001b[0m\n\u001b[0;32m---> 24\u001b[0;31m \u001b[0mprint\u001b[0m\u001b[0;34m(\u001b[0m\u001b[0mpClosest\u001b[0m\u001b[0;34m(\u001b[0m\u001b[0mpoints\u001b[0m\u001b[0;34m,\u001b[0m \u001b[0mK\u001b[0m\u001b[0;34m)\u001b[0m\u001b[0;34m)\u001b[0m\u001b[0;34m\u001b[0m\u001b[0;34m\u001b[0m\u001b[0m\n\u001b[0m",
            "\u001b[0;32m<ipython-input-188-34befc547e8a>\u001b[0m in \u001b[0;36mpClosest\u001b[0;34m(points, K)\u001b[0m\n\u001b[1;32m      1\u001b[0m \u001b[0;32mdef\u001b[0m \u001b[0mpClosest\u001b[0m\u001b[0;34m(\u001b[0m\u001b[0mpoints\u001b[0m\u001b[0;34m,\u001b[0m \u001b[0mK\u001b[0m\u001b[0;34m)\u001b[0m\u001b[0;34m:\u001b[0m\u001b[0;34m\u001b[0m\u001b[0;34m\u001b[0m\u001b[0m\n\u001b[1;32m      2\u001b[0m \u001b[0;34m\u001b[0m\u001b[0m\n\u001b[0;32m----> 3\u001b[0;31m     \u001b[0mpoints\u001b[0m\u001b[0;34m.\u001b[0m\u001b[0msort\u001b[0m\u001b[0;34m(\u001b[0m\u001b[0mkey\u001b[0m \u001b[0;34m=\u001b[0m \u001b[0;32mlambda\u001b[0m \u001b[0mK\u001b[0m\u001b[0;34m:\u001b[0m \u001b[0mK\u001b[0m\u001b[0;34m[\u001b[0m\u001b[0;36m0\u001b[0m\u001b[0;34m]\u001b[0m\u001b[0;34m**\u001b[0m\u001b[0;36m2\u001b[0m \u001b[0;34m+\u001b[0m \u001b[0mK\u001b[0m\u001b[0;34m[\u001b[0m\u001b[0;36m1\u001b[0m\u001b[0;34m]\u001b[0m\u001b[0;34m**\u001b[0m\u001b[0;36m2\u001b[0m\u001b[0;34m)\u001b[0m\u001b[0;34m\u001b[0m\u001b[0;34m\u001b[0m\u001b[0m\n\u001b[0m\u001b[1;32m      4\u001b[0m \u001b[0;34m\u001b[0m\u001b[0m\n\u001b[1;32m      5\u001b[0m     \u001b[0;32mreturn\u001b[0m \u001b[0mpoints\u001b[0m\u001b[0;34m[\u001b[0m\u001b[0;34m:\u001b[0m\u001b[0mK\u001b[0m\u001b[0;34m]\u001b[0m\u001b[0;34m\u001b[0m\u001b[0;34m\u001b[0m\u001b[0m\n",
            "\u001b[0;32m<ipython-input-188-34befc547e8a>\u001b[0m in \u001b[0;36m<lambda>\u001b[0;34m(K)\u001b[0m\n\u001b[1;32m      1\u001b[0m \u001b[0;32mdef\u001b[0m \u001b[0mpClosest\u001b[0m\u001b[0;34m(\u001b[0m\u001b[0mpoints\u001b[0m\u001b[0;34m,\u001b[0m \u001b[0mK\u001b[0m\u001b[0;34m)\u001b[0m\u001b[0;34m:\u001b[0m\u001b[0;34m\u001b[0m\u001b[0;34m\u001b[0m\u001b[0m\n\u001b[1;32m      2\u001b[0m \u001b[0;34m\u001b[0m\u001b[0m\n\u001b[0;32m----> 3\u001b[0;31m     \u001b[0mpoints\u001b[0m\u001b[0;34m.\u001b[0m\u001b[0msort\u001b[0m\u001b[0;34m(\u001b[0m\u001b[0mkey\u001b[0m \u001b[0;34m=\u001b[0m \u001b[0;32mlambda\u001b[0m \u001b[0mK\u001b[0m\u001b[0;34m:\u001b[0m \u001b[0mK\u001b[0m\u001b[0;34m[\u001b[0m\u001b[0;36m0\u001b[0m\u001b[0;34m]\u001b[0m\u001b[0;34m**\u001b[0m\u001b[0;36m2\u001b[0m \u001b[0;34m+\u001b[0m \u001b[0mK\u001b[0m\u001b[0;34m[\u001b[0m\u001b[0;36m1\u001b[0m\u001b[0;34m]\u001b[0m\u001b[0;34m**\u001b[0m\u001b[0;36m2\u001b[0m\u001b[0;34m)\u001b[0m\u001b[0;34m\u001b[0m\u001b[0;34m\u001b[0m\u001b[0m\n\u001b[0m\u001b[1;32m      4\u001b[0m \u001b[0;34m\u001b[0m\u001b[0m\n\u001b[1;32m      5\u001b[0m     \u001b[0;32mreturn\u001b[0m \u001b[0mpoints\u001b[0m\u001b[0;34m[\u001b[0m\u001b[0;34m:\u001b[0m\u001b[0mK\u001b[0m\u001b[0;34m]\u001b[0m\u001b[0;34m\u001b[0m\u001b[0;34m\u001b[0m\u001b[0m\n",
            "\u001b[0;31mTypeError\u001b[0m: unsupported operand type(s) for ** or pow(): 'list' and 'int'"
          ]
        }
      ]
    },
    {
      "cell_type": "code",
      "metadata": {
        "id": "je2S2F_74J3d",
        "colab_type": "code",
        "colab": {}
      },
      "source": [
        "def pClosest(points, K): \n",
        "  \n",
        "    points.sort(key = lambda K: K[0]**2 + K[1]**2) \n",
        "  \n",
        "    return points[:K] \n",
        "  \n",
        "# Driver program \n",
        "points = [[3, 3], [5, -1], [-2, 4]] \n",
        "  \n",
        "K = 2\n",
        "  \n",
        "print(pClosest(points, K)) "
      ],
      "execution_count": 0,
      "outputs": []
    },
    {
      "cell_type": "code",
      "metadata": {
        "id": "U2Caau3uM22r",
        "colab_type": "code",
        "colab": {}
      },
      "source": [
        "point=np.random.randn(100,2)"
      ],
      "execution_count": 0,
      "outputs": []
    },
    {
      "cell_type": "code",
      "metadata": {
        "id": "jU_UaGx9Q7VO",
        "colab_type": "code",
        "outputId": "66c099fe-8d32-43b4-9e06-b1377ab4fc24",
        "colab": {
          "base_uri": "https://localhost:8080/",
          "height": 185
        }
      },
      "source": [
        "import numpy as np\n",
        "point=np.random.randn(100,2)\n",
        "origin=np.sqrt(np.sum(point*point, axis=1))\n",
        "point[origin.argsort()][:10]"
      ],
      "execution_count": 0,
      "outputs": [
        {
          "output_type": "execute_result",
          "data": {
            "text/plain": [
              "array([[ 0.14277201, -0.02344243],\n",
              "       [-0.12371133, -0.0753815 ],\n",
              "       [ 0.06778155,  0.1647291 ],\n",
              "       [ 0.06182762,  0.20529308],\n",
              "       [-0.21728527,  0.0827856 ],\n",
              "       [ 0.17357773,  0.15600036],\n",
              "       [ 0.3561115 , -0.07278324],\n",
              "       [-0.40713351, -0.12066428],\n",
              "       [ 0.51982134, -0.02210713],\n",
              "       [ 0.19730868, -0.50979897]])"
            ]
          },
          "metadata": {
            "tags": []
          },
          "execution_count": 213
        }
      ]
    },
    {
      "cell_type": "code",
      "metadata": {
        "id": "E8v0CNb4S-j9",
        "colab_type": "code",
        "colab": {}
      },
      "source": [
        "mask=origin<=1"
      ],
      "execution_count": 0,
      "outputs": []
    },
    {
      "cell_type": "code",
      "metadata": {
        "id": "zhTbueaPTCOh",
        "colab_type": "code",
        "outputId": "24230ecd-8ee1-4214-c75f-f3b1bf1c1b6a",
        "colab": {
          "base_uri": "https://localhost:8080/",
          "height": 672
        }
      },
      "source": [
        "point[mask]"
      ],
      "execution_count": 0,
      "outputs": [
        {
          "output_type": "execute_result",
          "data": {
            "text/plain": [
              "array([[ 0.14710114,  0.84389575],\n",
              "       [ 0.19730868, -0.50979897],\n",
              "       [-0.24302676,  0.66488067],\n",
              "       [ 0.78902652, -0.45260872],\n",
              "       [-0.83089409, -0.2671523 ],\n",
              "       [ 0.06778155,  0.1647291 ],\n",
              "       [ 0.14277201, -0.02344243],\n",
              "       [-0.79157762, -0.40075056],\n",
              "       [-0.5451628 , -0.20543087],\n",
              "       [ 0.60457149, -0.34503988],\n",
              "       [-0.7235675 ,  0.60651313],\n",
              "       [-0.73855194, -0.6266347 ],\n",
              "       [-0.37470958, -0.52715596],\n",
              "       [ 0.51982134, -0.02210713],\n",
              "       [ 0.91668875,  0.1003422 ],\n",
              "       [-0.59060919,  0.60207473],\n",
              "       [-0.64297843, -0.67977628],\n",
              "       [-0.36349592, -0.90801218],\n",
              "       [-0.38109039, -0.81119811],\n",
              "       [ 0.27260412, -0.62192503],\n",
              "       [-0.5554224 ,  0.14258539],\n",
              "       [-0.15751763, -0.7750681 ],\n",
              "       [ 0.20131212, -0.61916369],\n",
              "       [-0.21728527,  0.0827856 ],\n",
              "       [-0.84256524, -0.37546741],\n",
              "       [-0.2665685 ,  0.77184473],\n",
              "       [-0.01469565, -0.85954011],\n",
              "       [ 0.35276172, -0.47746711],\n",
              "       [ 0.77524737,  0.00499143],\n",
              "       [-0.68028409,  0.18875343],\n",
              "       [ 0.3561115 , -0.07278324],\n",
              "       [ 0.06182762,  0.20529308],\n",
              "       [ 0.47061087, -0.59207383],\n",
              "       [ 0.17357773,  0.15600036],\n",
              "       [-0.40713351, -0.12066428],\n",
              "       [-0.12371133, -0.0753815 ],\n",
              "       [-0.61860396,  0.05744389],\n",
              "       [-0.06464017,  0.57934217],\n",
              "       [-0.6892682 ,  0.48361109]])"
            ]
          },
          "metadata": {
            "tags": []
          },
          "execution_count": 215
        }
      ]
    },
    {
      "cell_type": "code",
      "metadata": {
        "id": "Mr1MPJ3gTHeC",
        "colab_type": "code",
        "outputId": "7f0a74f0-748f-406d-f88d-c14f7da19f80",
        "colab": {
          "base_uri": "https://localhost:8080/",
          "height": 34
        }
      },
      "source": [
        "point[mask].shape"
      ],
      "execution_count": 0,
      "outputs": [
        {
          "output_type": "execute_result",
          "data": {
            "text/plain": [
              "(39, 2)"
            ]
          },
          "metadata": {
            "tags": []
          },
          "execution_count": 216
        }
      ]
    },
    {
      "cell_type": "code",
      "metadata": {
        "id": "ViDNmDgtTMRh",
        "colab_type": "code",
        "outputId": "ec53a954-e56a-4666-b1ba-c021b44c7b9c",
        "colab": {
          "base_uri": "https://localhost:8080/",
          "height": 218
        }
      },
      "source": [
        "mask"
      ],
      "execution_count": 0,
      "outputs": [
        {
          "output_type": "execute_result",
          "data": {
            "text/plain": [
              "array([False, False,  True, False,  True, False, False,  True, False,\n",
              "        True, False,  True,  True,  True,  True, False, False,  True,\n",
              "       False, False, False,  True,  True, False, False,  True,  True,\n",
              "       False, False, False,  True,  True,  True,  True, False, False,\n",
              "        True,  True, False, False, False, False, False, False, False,\n",
              "       False,  True, False,  True,  True,  True, False, False,  True,\n",
              "       False, False, False, False,  True,  True, False, False,  True,\n",
              "       False, False, False,  True, False, False, False, False, False,\n",
              "       False, False,  True,  True, False,  True, False, False, False,\n",
              "        True, False,  True, False,  True,  True, False, False, False,\n",
              "       False, False,  True,  True, False,  True, False, False,  True,\n",
              "       False])"
            ]
          },
          "metadata": {
            "tags": []
          },
          "execution_count": 217
        }
      ]
    },
    {
      "cell_type": "code",
      "metadata": {
        "id": "xo_q1zm6TRMg",
        "colab_type": "code",
        "colab": {}
      },
      "source": [
        "point=np.random.uniform(-1,1,(100,2))"
      ],
      "execution_count": 0,
      "outputs": []
    },
    {
      "cell_type": "code",
      "metadata": {
        "id": "uKt-LNtNTpcU",
        "colab_type": "code",
        "colab": {}
      },
      "source": [
        "origin=np.sqrt(np.sum(point*point,axis=1))"
      ],
      "execution_count": 0,
      "outputs": []
    },
    {
      "cell_type": "code",
      "metadata": {
        "id": "IbudtjD8T2Ot",
        "colab_type": "code",
        "colab": {}
      },
      "source": [
        "mask=origin<=1"
      ],
      "execution_count": 0,
      "outputs": []
    },
    {
      "cell_type": "code",
      "metadata": {
        "id": "TKQ--dboT5B1",
        "colab_type": "code",
        "outputId": "2a538079-b75e-48c6-ea9b-dc3cc0b67246",
        "colab": {
          "base_uri": "https://localhost:8080/",
          "height": 34
        }
      },
      "source": [
        "point[mask].shape[0]"
      ],
      "execution_count": 0,
      "outputs": [
        {
          "output_type": "execute_result",
          "data": {
            "text/plain": [
              "81"
            ]
          },
          "metadata": {
            "tags": []
          },
          "execution_count": 221
        }
      ]
    },
    {
      "cell_type": "code",
      "metadata": {
        "id": "gB3P8jX4T8Mg",
        "colab_type": "code",
        "outputId": "f6381f91-71b1-4a56-92cf-46d71cae8edf",
        "colab": {
          "base_uri": "https://localhost:8080/",
          "height": 34
        }
      },
      "source": [
        "81/100*4"
      ],
      "execution_count": 0,
      "outputs": [
        {
          "output_type": "execute_result",
          "data": {
            "text/plain": [
              "3.24"
            ]
          },
          "metadata": {
            "tags": []
          },
          "execution_count": 222
        }
      ]
    },
    {
      "cell_type": "code",
      "metadata": {
        "id": "-6yf1v4IT_VE",
        "colab_type": "code",
        "outputId": "351f0257-1fb5-43d9-bdea-84331cde7f6c",
        "colab": {
          "base_uri": "https://localhost:8080/",
          "height": 162
        }
      },
      "source": [
        "point=np.random.uniform(-1,1(1000,2))\n"
      ],
      "execution_count": 0,
      "outputs": [
        {
          "output_type": "error",
          "ename": "TypeError",
          "evalue": "ignored",
          "traceback": [
            "\u001b[0;31m---------------------------------------------------------------------------\u001b[0m",
            "\u001b[0;31mTypeError\u001b[0m                                 Traceback (most recent call last)",
            "\u001b[0;32m<ipython-input-223-9d872d721287>\u001b[0m in \u001b[0;36m<module>\u001b[0;34m()\u001b[0m\n\u001b[0;32m----> 1\u001b[0;31m \u001b[0mpoint\u001b[0m\u001b[0;34m=\u001b[0m\u001b[0mnp\u001b[0m\u001b[0;34m.\u001b[0m\u001b[0mrandom\u001b[0m\u001b[0;34m.\u001b[0m\u001b[0muniform\u001b[0m\u001b[0;34m(\u001b[0m\u001b[0;34m-\u001b[0m\u001b[0;36m1\u001b[0m\u001b[0;34m,\u001b[0m\u001b[0;36m1\u001b[0m\u001b[0;34m(\u001b[0m\u001b[0;36m1000\u001b[0m\u001b[0;34m,\u001b[0m\u001b[0;36m2\u001b[0m\u001b[0;34m)\u001b[0m\u001b[0;34m)\u001b[0m\u001b[0;34m\u001b[0m\u001b[0;34m\u001b[0m\u001b[0m\n\u001b[0m",
            "\u001b[0;31mTypeError\u001b[0m: 'int' object is not callable"
          ]
        }
      ]
    },
    {
      "cell_type": "code",
      "metadata": {
        "id": "jlr8VyEvUPBw",
        "colab_type": "code",
        "outputId": "2348445b-227a-4f9f-a6e5-18c640868d4b",
        "colab": {
          "base_uri": "https://localhost:8080/",
          "height": 1000
        }
      },
      "source": [
        "m=np.random.randint(5,9, (8,8,8))\n",
        "m"
      ],
      "execution_count": 0,
      "outputs": [
        {
          "output_type": "execute_result",
          "data": {
            "text/plain": [
              "array([[[7, 5, 7, 7, 6, 6, 6, 5],\n",
              "        [6, 7, 6, 8, 5, 5, 5, 5],\n",
              "        [7, 5, 8, 6, 8, 8, 7, 5],\n",
              "        [6, 5, 5, 6, 6, 7, 6, 6],\n",
              "        [7, 7, 5, 5, 8, 7, 7, 8],\n",
              "        [8, 5, 7, 5, 5, 5, 8, 6],\n",
              "        [8, 8, 5, 8, 8, 6, 8, 5],\n",
              "        [7, 7, 7, 6, 8, 6, 6, 7]],\n",
              "\n",
              "       [[5, 5, 8, 8, 7, 6, 8, 7],\n",
              "        [8, 5, 5, 8, 7, 5, 8, 8],\n",
              "        [8, 8, 6, 6, 5, 6, 5, 8],\n",
              "        [7, 8, 7, 6, 6, 6, 5, 6],\n",
              "        [8, 6, 6, 6, 6, 5, 8, 5],\n",
              "        [8, 7, 7, 8, 6, 8, 6, 5],\n",
              "        [5, 6, 5, 7, 5, 6, 7, 5],\n",
              "        [7, 8, 8, 8, 8, 6, 7, 5]],\n",
              "\n",
              "       [[7, 6, 6, 6, 8, 7, 6, 7],\n",
              "        [5, 6, 5, 8, 7, 5, 5, 8],\n",
              "        [5, 5, 6, 6, 6, 6, 7, 7],\n",
              "        [6, 8, 6, 7, 6, 5, 8, 7],\n",
              "        [8, 5, 5, 7, 6, 5, 7, 6],\n",
              "        [7, 7, 8, 5, 8, 5, 5, 8],\n",
              "        [7, 6, 5, 6, 5, 7, 7, 7],\n",
              "        [6, 8, 8, 7, 8, 8, 5, 7]],\n",
              "\n",
              "       [[6, 7, 6, 7, 7, 7, 5, 6],\n",
              "        [5, 5, 6, 6, 7, 8, 5, 6],\n",
              "        [7, 7, 7, 5, 7, 6, 7, 6],\n",
              "        [6, 5, 8, 7, 7, 6, 5, 7],\n",
              "        [8, 8, 6, 7, 7, 8, 5, 7],\n",
              "        [5, 8, 7, 7, 6, 8, 8, 6],\n",
              "        [5, 7, 7, 7, 5, 8, 6, 5],\n",
              "        [7, 8, 8, 5, 6, 6, 7, 6]],\n",
              "\n",
              "       [[8, 8, 6, 5, 7, 5, 7, 5],\n",
              "        [8, 6, 5, 5, 5, 6, 8, 8],\n",
              "        [6, 6, 6, 5, 6, 8, 6, 7],\n",
              "        [5, 6, 7, 5, 7, 7, 5, 5],\n",
              "        [5, 8, 8, 8, 8, 6, 5, 8],\n",
              "        [7, 5, 7, 6, 7, 7, 5, 5],\n",
              "        [8, 5, 8, 7, 5, 8, 6, 5],\n",
              "        [5, 6, 8, 6, 7, 5, 7, 7]],\n",
              "\n",
              "       [[5, 8, 6, 8, 5, 6, 6, 6],\n",
              "        [8, 6, 5, 5, 8, 5, 8, 6],\n",
              "        [5, 8, 6, 8, 5, 7, 8, 5],\n",
              "        [8, 7, 5, 8, 5, 7, 8, 7],\n",
              "        [5, 8, 6, 7, 6, 6, 5, 6],\n",
              "        [7, 7, 6, 8, 7, 5, 8, 6],\n",
              "        [5, 8, 7, 5, 6, 8, 5, 8],\n",
              "        [7, 7, 7, 7, 5, 7, 6, 7]],\n",
              "\n",
              "       [[7, 7, 7, 8, 5, 7, 6, 5],\n",
              "        [8, 6, 7, 5, 5, 8, 5, 5],\n",
              "        [6, 7, 5, 8, 5, 6, 6, 6],\n",
              "        [5, 8, 5, 7, 5, 6, 7, 7],\n",
              "        [8, 7, 5, 6, 6, 5, 5, 8],\n",
              "        [6, 6, 5, 8, 6, 8, 7, 6],\n",
              "        [8, 6, 6, 7, 8, 6, 8, 7],\n",
              "        [8, 7, 6, 5, 7, 7, 5, 8]],\n",
              "\n",
              "       [[5, 6, 7, 8, 8, 5, 8, 7],\n",
              "        [7, 7, 8, 5, 8, 5, 7, 8],\n",
              "        [8, 8, 5, 6, 6, 6, 7, 6],\n",
              "        [8, 8, 6, 6, 7, 5, 8, 6],\n",
              "        [6, 8, 7, 5, 5, 7, 8, 6],\n",
              "        [5, 6, 6, 8, 6, 5, 7, 7],\n",
              "        [8, 6, 7, 5, 8, 8, 8, 5],\n",
              "        [7, 7, 5, 5, 8, 6, 5, 5]]])"
            ]
          },
          "metadata": {
            "tags": []
          },
          "execution_count": 227
        }
      ]
    },
    {
      "cell_type": "code",
      "metadata": {
        "id": "hE4gT0HhXxC7",
        "colab_type": "code",
        "outputId": "c317626d-11da-4240-e6f0-79cf423f951f",
        "colab": {
          "base_uri": "https://localhost:8080/",
          "height": 102
        }
      },
      "source": [
        "g=np.random.randint(0,5, (5,5))\n",
        "h=np.random.randint(0,5, (5,5))\n",
        "i=np.dot(g,h)\n",
        "i"
      ],
      "execution_count": 0,
      "outputs": [
        {
          "output_type": "execute_result",
          "data": {
            "text/plain": [
              "array([[23, 43, 37, 39, 16],\n",
              "       [14, 31, 24, 28, 11],\n",
              "       [15, 21, 16, 10, 12],\n",
              "       [20, 37, 34, 26, 19],\n",
              "       [14, 25, 18, 18, 11]])"
            ]
          },
          "metadata": {
            "tags": []
          },
          "execution_count": 231
        }
      ]
    },
    {
      "cell_type": "code",
      "metadata": {
        "id": "bJlMZ0EWYH-j",
        "colab_type": "code",
        "outputId": "fc7e9339-2fd7-4a1b-ed9d-616682bf1f7b",
        "colab": {
          "base_uri": "https://localhost:8080/",
          "height": 34
        }
      },
      "source": [
        "np.diag(i)"
      ],
      "execution_count": 0,
      "outputs": [
        {
          "output_type": "execute_result",
          "data": {
            "text/plain": [
              "array([23, 31, 16, 26, 11])"
            ]
          },
          "metadata": {
            "tags": []
          },
          "execution_count": 232
        }
      ]
    },
    {
      "cell_type": "code",
      "metadata": {
        "id": "ZGE3jX_0YPiF",
        "colab_type": "code",
        "outputId": "357ae6f2-2964-4986-a178-dba9237809c8",
        "colab": {
          "base_uri": "https://localhost:8080/",
          "height": 238
        }
      },
      "source": [
        "q=np.random.randint(0,9,(3,3))\n",
        "q\n",
        "mask=z>5\n",
        "mask"
      ],
      "execution_count": 0,
      "outputs": [
        {
          "output_type": "execute_result",
          "data": {
            "text/plain": [
              "array([[[False, False]],\n",
              "\n",
              "       [[False, False]],\n",
              "\n",
              "       [[False, False]],\n",
              "\n",
              "       ...,\n",
              "\n",
              "       [[False, False]],\n",
              "\n",
              "       [[False, False]],\n",
              "\n",
              "       [[False, False]]])"
            ]
          },
          "metadata": {
            "tags": []
          },
          "execution_count": 235
        }
      ]
    },
    {
      "cell_type": "code",
      "metadata": {
        "id": "Lyukk3VeZgQE",
        "colab_type": "code",
        "outputId": "66a330a2-7051-4f52-9332-46d4c6ed7509",
        "colab": {
          "base_uri": "https://localhost:8080/",
          "height": 238
        }
      },
      "source": [
        "np.logical_not(mask,mask)"
      ],
      "execution_count": 0,
      "outputs": [
        {
          "output_type": "execute_result",
          "data": {
            "text/plain": [
              "array([[[ True,  True]],\n",
              "\n",
              "       [[ True,  True]],\n",
              "\n",
              "       [[ True,  True]],\n",
              "\n",
              "       ...,\n",
              "\n",
              "       [[ True,  True]],\n",
              "\n",
              "       [[ True,  True]],\n",
              "\n",
              "       [[ True,  True]]])"
            ]
          },
          "metadata": {
            "tags": []
          },
          "execution_count": 237
        }
      ]
    },
    {
      "cell_type": "code",
      "metadata": {
        "id": "bsXu1QPmZ7BR",
        "colab_type": "code",
        "colab": {}
      },
      "source": [
        "arr1=np.random.randn(4,4)"
      ],
      "execution_count": 0,
      "outputs": []
    },
    {
      "cell_type": "code",
      "metadata": {
        "id": "sglpMiOYZ_S0",
        "colab_type": "code",
        "outputId": "dffb91db-3141-41ed-ccc2-63d9e5b6f6f6",
        "colab": {
          "base_uri": "https://localhost:8080/",
          "height": 85
        }
      },
      "source": [
        "arr1"
      ],
      "execution_count": 0,
      "outputs": [
        {
          "output_type": "execute_result",
          "data": {
            "text/plain": [
              "array([[-2.27897459, -0.14411204,  1.06828422,  0.59030218],\n",
              "       [-0.14558005, -0.21117647, -0.85033275,  0.02771565],\n",
              "       [ 0.56327487,  1.06449673, -0.88350339, -0.50516618],\n",
              "       [-0.10895324,  0.37304903, -0.20641733, -1.84854332]])"
            ]
          },
          "metadata": {
            "tags": []
          },
          "execution_count": 239
        }
      ]
    },
    {
      "cell_type": "code",
      "metadata": {
        "id": "yqqybByxaBA0",
        "colab_type": "code",
        "outputId": "d80379e4-be79-4df9-914f-75e80475d618",
        "colab": {
          "base_uri": "https://localhost:8080/",
          "height": 85
        }
      },
      "source": [
        "np.where(arr1>0, 2, -2)"
      ],
      "execution_count": 0,
      "outputs": [
        {
          "output_type": "execute_result",
          "data": {
            "text/plain": [
              "array([[-2, -2,  2,  2],\n",
              "       [-2, -2, -2,  2],\n",
              "       [ 2,  2, -2, -2],\n",
              "       [-2,  2, -2, -2]])"
            ]
          },
          "metadata": {
            "tags": []
          },
          "execution_count": 242
        }
      ]
    },
    {
      "cell_type": "code",
      "metadata": {
        "id": "v8-qDyuLaY4l",
        "colab_type": "code",
        "outputId": "a5d13647-b43c-4955-9e83-2d790e935748",
        "colab": {
          "base_uri": "https://localhost:8080/",
          "height": 85
        }
      },
      "source": [
        "np.where(arr1>0, 'rofl', 'lol')"
      ],
      "execution_count": 0,
      "outputs": [
        {
          "output_type": "execute_result",
          "data": {
            "text/plain": [
              "array([['lol', 'lol', 'rofl', 'rofl'],\n",
              "       ['lol', 'lol', 'lol', 'rofl'],\n",
              "       ['rofl', 'rofl', 'lol', 'lol'],\n",
              "       ['lol', 'rofl', 'lol', 'lol']], dtype='<U4')"
            ]
          },
          "metadata": {
            "tags": []
          },
          "execution_count": 245
        }
      ]
    },
    {
      "cell_type": "code",
      "metadata": {
        "id": "NUrAaS-QbMZE",
        "colab_type": "code",
        "colab": {}
      },
      "source": [
        "w=np.random.randint(0,9, (5,5,5))\n"
      ],
      "execution_count": 0,
      "outputs": []
    },
    {
      "cell_type": "code",
      "metadata": {
        "id": "KL0qgQkxbtxv",
        "colab_type": "code",
        "outputId": "71e4d82c-cf34-4510-8ac4-d75cb650569f",
        "colab": {
          "base_uri": "https://localhost:8080/",
          "height": 102
        }
      },
      "source": [
        "np.sum(w,axis=1)"
      ],
      "execution_count": 0,
      "outputs": [
        {
          "output_type": "execute_result",
          "data": {
            "text/plain": [
              "array([[17, 22, 21, 13, 10],\n",
              "       [18, 20, 22, 17, 19],\n",
              "       [13, 30, 18, 19, 20],\n",
              "       [21, 21, 23, 21, 27],\n",
              "       [24, 12, 21, 12, 12]])"
            ]
          },
          "metadata": {
            "tags": []
          },
          "execution_count": 249
        }
      ]
    },
    {
      "cell_type": "code",
      "metadata": {
        "id": "QImhDx0acR0x",
        "colab_type": "code",
        "outputId": "eb39d840-d526-44a0-8fcb-3934f02c8347",
        "colab": {
          "base_uri": "https://localhost:8080/",
          "height": 102
        }
      },
      "source": [
        "np.sum(w,axis=2)"
      ],
      "execution_count": 0,
      "outputs": [
        {
          "output_type": "execute_result",
          "data": {
            "text/plain": [
              "array([[17, 13, 19, 16, 18],\n",
              "       [22, 10, 18, 15, 31],\n",
              "       [16, 17, 22, 20, 25],\n",
              "       [25, 22, 25, 14, 27],\n",
              "       [17, 15, 14, 14, 21]])"
            ]
          },
          "metadata": {
            "tags": []
          },
          "execution_count": 251
        }
      ]
    },
    {
      "cell_type": "code",
      "metadata": {
        "id": "ObroAl_jcV_z",
        "colab_type": "code",
        "outputId": "48d186a6-0e5d-4736-96ba-061406b79909",
        "colab": {
          "base_uri": "https://localhost:8080/",
          "height": 34
        }
      },
      "source": [
        "np.mean(w)"
      ],
      "execution_count": 0,
      "outputs": [
        {
          "output_type": "execute_result",
          "data": {
            "text/plain": [
              "3.784"
            ]
          },
          "metadata": {
            "tags": []
          },
          "execution_count": 252
        }
      ]
    },
    {
      "cell_type": "code",
      "metadata": {
        "id": "ctPNM4fNcbxf",
        "colab_type": "code",
        "outputId": "1175241d-d5ba-48d4-858c-c08e8804a815",
        "colab": {
          "base_uri": "https://localhost:8080/",
          "height": 510
        }
      },
      "source": [
        "np.sort(w)"
      ],
      "execution_count": 0,
      "outputs": [
        {
          "output_type": "execute_result",
          "data": {
            "text/plain": [
              "array([[[0, 1, 3, 5, 8],\n",
              "        [0, 1, 2, 5, 5],\n",
              "        [2, 3, 4, 4, 6],\n",
              "        [1, 2, 2, 3, 8],\n",
              "        [0, 2, 4, 5, 7]],\n",
              "\n",
              "       [[1, 2, 5, 6, 8],\n",
              "        [0, 0, 1, 4, 5],\n",
              "        [0, 0, 5, 6, 7],\n",
              "        [1, 1, 2, 5, 6],\n",
              "        [4, 5, 7, 7, 8]],\n",
              "\n",
              "       [[1, 1, 4, 5, 5],\n",
              "        [0, 0, 3, 7, 7],\n",
              "        [2, 2, 4, 7, 7],\n",
              "        [0, 1, 5, 7, 7],\n",
              "        [1, 4, 5, 7, 8]],\n",
              "\n",
              "       [[1, 5, 5, 7, 7],\n",
              "        [1, 3, 4, 7, 7],\n",
              "        [3, 4, 4, 7, 7],\n",
              "        [1, 1, 2, 3, 7],\n",
              "        [4, 4, 5, 6, 8]],\n",
              "\n",
              "       [[1, 2, 3, 4, 7],\n",
              "        [1, 1, 4, 4, 5],\n",
              "        [0, 0, 2, 4, 8],\n",
              "        [1, 2, 2, 2, 7],\n",
              "        [1, 2, 4, 7, 7]]])"
            ]
          },
          "metadata": {
            "tags": []
          },
          "execution_count": 254
        }
      ]
    },
    {
      "cell_type": "code",
      "metadata": {
        "id": "R_ItGEVfcjfz",
        "colab_type": "code",
        "colab": {}
      },
      "source": [
        "r=np.random.randint(0,9, (5,5))"
      ],
      "execution_count": 0,
      "outputs": []
    },
    {
      "cell_type": "code",
      "metadata": {
        "id": "3Z5l55QYdKSx",
        "colab_type": "code",
        "outputId": "ce207ef5-c714-464c-f1bd-6aee926624fd",
        "colab": {
          "base_uri": "https://localhost:8080/",
          "height": 102
        }
      },
      "source": [
        "np.sort(r)"
      ],
      "execution_count": 0,
      "outputs": [
        {
          "output_type": "execute_result",
          "data": {
            "text/plain": [
              "array([[2, 2, 2, 5, 8],\n",
              "       [0, 0, 1, 2, 4],\n",
              "       [0, 0, 5, 6, 7],\n",
              "       [0, 2, 6, 7, 8],\n",
              "       [0, 1, 7, 8, 8]])"
            ]
          },
          "metadata": {
            "tags": []
          },
          "execution_count": 256
        }
      ]
    },
    {
      "cell_type": "code",
      "metadata": {
        "id": "e4Y0Yoz5dQEi",
        "colab_type": "code",
        "outputId": "cd5e0733-7587-4881-d7c0-bdcfae01587b",
        "colab": {
          "base_uri": "https://localhost:8080/",
          "height": 102
        }
      },
      "source": [
        "r.sort(0)\n",
        "r"
      ],
      "execution_count": 0,
      "outputs": [
        {
          "output_type": "execute_result",
          "data": {
            "text/plain": [
              "array([[0, 0, 0, 2, 0],\n",
              "       [1, 0, 0, 2, 1],\n",
              "       [2, 2, 6, 4, 2],\n",
              "       [7, 7, 6, 5, 5],\n",
              "       [8, 8, 8, 7, 8]])"
            ]
          },
          "metadata": {
            "tags": []
          },
          "execution_count": 258
        }
      ]
    },
    {
      "cell_type": "code",
      "metadata": {
        "id": "ZvWE5LWedYhI",
        "colab_type": "code",
        "outputId": "97487d7b-3c4e-4d05-c1e9-5b9c891459df",
        "colab": {
          "base_uri": "https://localhost:8080/",
          "height": 34
        }
      },
      "source": [
        "np.unique(r)"
      ],
      "execution_count": 0,
      "outputs": [
        {
          "output_type": "execute_result",
          "data": {
            "text/plain": [
              "array([0, 1, 2, 4, 5, 6, 7, 8])"
            ]
          },
          "metadata": {
            "tags": []
          },
          "execution_count": 259
        }
      ]
    },
    {
      "cell_type": "code",
      "metadata": {
        "id": "nbo9oxInda2d",
        "colab_type": "code",
        "outputId": "0af41b0b-028c-424d-bb1c-e093effba8cc",
        "colab": {
          "base_uri": "https://localhost:8080/",
          "height": 34
        }
      },
      "source": [
        "np.intersect1d(z,r)"
      ],
      "execution_count": 0,
      "outputs": [
        {
          "output_type": "execute_result",
          "data": {
            "text/plain": [
              "array([], dtype=float64)"
            ]
          },
          "metadata": {
            "tags": []
          },
          "execution_count": 260
        }
      ]
    },
    {
      "cell_type": "code",
      "metadata": {
        "id": "KEG_GVnJdgXc",
        "colab_type": "code",
        "outputId": "41f0f7db-6b21-415a-dc30-59f1eb329af4",
        "colab": {
          "base_uri": "https://localhost:8080/",
          "height": 51
        }
      },
      "source": [
        "np.union1d(z,r)"
      ],
      "execution_count": 0,
      "outputs": [
        {
          "output_type": "execute_result",
          "data": {
            "text/plain": [
              "array([-3.20426302, -3.1992962 , -2.90813344, ...,  6.        ,\n",
              "        7.        ,  8.        ])"
            ]
          },
          "metadata": {
            "tags": []
          },
          "execution_count": 261
        }
      ]
    },
    {
      "cell_type": "code",
      "metadata": {
        "id": "c8ScFWv6dmQq",
        "colab_type": "code",
        "colab": {}
      },
      "source": [
        "np.save('iitk_pydata_RajatVerma_Day_03.py',w)"
      ],
      "execution_count": 0,
      "outputs": []
    },
    {
      "cell_type": "code",
      "metadata": {
        "id": "mAZmJdW4d4ce",
        "colab_type": "code",
        "outputId": "ec53b954-a0bd-4609-e847-3bbd69e5b124",
        "colab": {
          "base_uri": "https://localhost:8080/",
          "height": 282
        }
      },
      "source": [
        "np.load('iitk_pydata_RajatVerma_Day_03.py',w)"
      ],
      "execution_count": 0,
      "outputs": [
        {
          "output_type": "error",
          "ename": "FileNotFoundError",
          "evalue": "ignored",
          "traceback": [
            "\u001b[0;31m---------------------------------------------------------------------------\u001b[0m",
            "\u001b[0;31mFileNotFoundError\u001b[0m                         Traceback (most recent call last)",
            "\u001b[0;32m<ipython-input-264-94977fc60994>\u001b[0m in \u001b[0;36m<module>\u001b[0;34m()\u001b[0m\n\u001b[0;32m----> 1\u001b[0;31m \u001b[0mnp\u001b[0m\u001b[0;34m.\u001b[0m\u001b[0mload\u001b[0m\u001b[0;34m(\u001b[0m\u001b[0;34m'iitk_pydata_RajatVerma_Day_03.py'\u001b[0m\u001b[0;34m,\u001b[0m\u001b[0mw\u001b[0m\u001b[0;34m)\u001b[0m\u001b[0;34m\u001b[0m\u001b[0;34m\u001b[0m\u001b[0m\n\u001b[0m",
            "\u001b[0;32m/usr/local/lib/python3.6/dist-packages/numpy/lib/npyio.py\u001b[0m in \u001b[0;36mload\u001b[0;34m(file, mmap_mode, allow_pickle, fix_imports, encoding)\u001b[0m\n\u001b[1;32m    420\u001b[0m         \u001b[0mown_fid\u001b[0m \u001b[0;34m=\u001b[0m \u001b[0;32mFalse\u001b[0m\u001b[0;34m\u001b[0m\u001b[0;34m\u001b[0m\u001b[0m\n\u001b[1;32m    421\u001b[0m     \u001b[0;32melse\u001b[0m\u001b[0;34m:\u001b[0m\u001b[0;34m\u001b[0m\u001b[0;34m\u001b[0m\u001b[0m\n\u001b[0;32m--> 422\u001b[0;31m         \u001b[0mfid\u001b[0m \u001b[0;34m=\u001b[0m \u001b[0mopen\u001b[0m\u001b[0;34m(\u001b[0m\u001b[0mos_fspath\u001b[0m\u001b[0;34m(\u001b[0m\u001b[0mfile\u001b[0m\u001b[0;34m)\u001b[0m\u001b[0;34m,\u001b[0m \u001b[0;34m\"rb\"\u001b[0m\u001b[0;34m)\u001b[0m\u001b[0;34m\u001b[0m\u001b[0;34m\u001b[0m\u001b[0m\n\u001b[0m\u001b[1;32m    423\u001b[0m         \u001b[0mown_fid\u001b[0m \u001b[0;34m=\u001b[0m \u001b[0;32mTrue\u001b[0m\u001b[0;34m\u001b[0m\u001b[0;34m\u001b[0m\u001b[0m\n\u001b[1;32m    424\u001b[0m \u001b[0;34m\u001b[0m\u001b[0m\n",
            "\u001b[0;31mFileNotFoundError\u001b[0m: [Errno 2] No such file or directory: 'iitk_pydata_RajatVerma_Day_03.py'"
          ]
        }
      ]
    },
    {
      "cell_type": "code",
      "metadata": {
        "id": "AK6Nk6FCeB12",
        "colab_type": "code",
        "outputId": "3d2e4a53-2da1-4844-eb85-fc6e9ae27d6b",
        "colab": {
          "base_uri": "https://localhost:8080/",
          "height": 34
        }
      },
      "source": [
        "!pwd"
      ],
      "execution_count": 0,
      "outputs": [
        {
          "output_type": "stream",
          "text": [
            "/content\n"
          ],
          "name": "stdout"
        }
      ]
    },
    {
      "cell_type": "code",
      "metadata": {
        "id": "FYsBX5dfeGE8",
        "colab_type": "code",
        "colab": {}
      },
      "source": [
        "import pandas as pd #pandas as ordered dictionary"
      ],
      "execution_count": 0,
      "outputs": []
    },
    {
      "cell_type": "code",
      "metadata": {
        "id": "IL9L_VKsj4U8",
        "colab_type": "code",
        "colab": {}
      },
      "source": [
        "z=pd.Series([1,2,3,4])"
      ],
      "execution_count": 0,
      "outputs": []
    },
    {
      "cell_type": "code",
      "metadata": {
        "id": "J5_q1cDHkOl7",
        "colab_type": "code",
        "outputId": "915e601a-5e3c-459e-bccf-7665ace3846b",
        "colab": {
          "base_uri": "https://localhost:8080/",
          "height": 102
        }
      },
      "source": [
        "z*2"
      ],
      "execution_count": 0,
      "outputs": [
        {
          "output_type": "execute_result",
          "data": {
            "text/plain": [
              "0    2\n",
              "1    4\n",
              "2    6\n",
              "3    8\n",
              "dtype: int64"
            ]
          },
          "metadata": {
            "tags": []
          },
          "execution_count": 274
        }
      ]
    },
    {
      "cell_type": "code",
      "metadata": {
        "id": "FHgI9BkPkRJs",
        "colab_type": "code",
        "outputId": "c2aeca7d-8ec0-4605-8670-ea088fa52e42",
        "colab": {
          "base_uri": "https://localhost:8080/",
          "height": 102
        }
      },
      "source": [
        "np.exp(z)"
      ],
      "execution_count": 0,
      "outputs": [
        {
          "output_type": "execute_result",
          "data": {
            "text/plain": [
              "0     2.718282\n",
              "1     7.389056\n",
              "2    20.085537\n",
              "3    54.598150\n",
              "dtype: float64"
            ]
          },
          "metadata": {
            "tags": []
          },
          "execution_count": 275
        }
      ]
    },
    {
      "cell_type": "code",
      "metadata": {
        "id": "TzHE5sTFkVXc",
        "colab_type": "code",
        "outputId": "ed65d263-1a2b-46af-90fc-776b4a6b066e",
        "colab": {
          "base_uri": "https://localhost:8080/",
          "height": 68
        }
      },
      "source": [
        "z[z>2]"
      ],
      "execution_count": 0,
      "outputs": [
        {
          "output_type": "execute_result",
          "data": {
            "text/plain": [
              "2    3\n",
              "3    4\n",
              "dtype: int64"
            ]
          },
          "metadata": {
            "tags": []
          },
          "execution_count": 276
        }
      ]
    },
    {
      "cell_type": "code",
      "metadata": {
        "id": "Vps0u-U5kYXU",
        "colab_type": "code",
        "outputId": "7b8cf071-c783-4723-c22d-c612b5143fc3",
        "colab": {
          "base_uri": "https://localhost:8080/",
          "height": 34
        }
      },
      "source": [
        "1 in z"
      ],
      "execution_count": 0,
      "outputs": [
        {
          "output_type": "execute_result",
          "data": {
            "text/plain": [
              "True"
            ]
          },
          "metadata": {
            "tags": []
          },
          "execution_count": 277
        }
      ]
    },
    {
      "cell_type": "code",
      "metadata": {
        "id": "Vuuh96MIkpSn",
        "colab_type": "code",
        "outputId": "e42dd78a-60da-4325-f64e-671d05d32ba7",
        "colab": {
          "base_uri": "https://localhost:8080/",
          "height": 34
        }
      },
      "source": [
        "'x' in z"
      ],
      "execution_count": 0,
      "outputs": [
        {
          "output_type": "execute_result",
          "data": {
            "text/plain": [
              "False"
            ]
          },
          "metadata": {
            "tags": []
          },
          "execution_count": 278
        }
      ]
    },
    {
      "cell_type": "code",
      "metadata": {
        "id": "x9YQCU3Qk2Xz",
        "colab_type": "code",
        "outputId": "f2f62533-de5a-4aba-f7cb-24d415141b2a",
        "colab": {
          "base_uri": "https://localhost:8080/",
          "height": 102
        }
      },
      "source": [
        "z.isnull()"
      ],
      "execution_count": 0,
      "outputs": [
        {
          "output_type": "execute_result",
          "data": {
            "text/plain": [
              "0    False\n",
              "1    False\n",
              "2    False\n",
              "3    False\n",
              "dtype: bool"
            ]
          },
          "metadata": {
            "tags": []
          },
          "execution_count": 279
        }
      ]
    },
    {
      "cell_type": "code",
      "metadata": {
        "id": "p0DyJQNzk7mg",
        "colab_type": "code",
        "outputId": "56ded68f-62e9-498d-a863-3826d3ab38bd",
        "colab": {
          "base_uri": "https://localhost:8080/",
          "height": 102
        }
      },
      "source": [
        "z.notnull()"
      ],
      "execution_count": 0,
      "outputs": [
        {
          "output_type": "execute_result",
          "data": {
            "text/plain": [
              "0    True\n",
              "1    True\n",
              "2    True\n",
              "3    True\n",
              "dtype: bool"
            ]
          },
          "metadata": {
            "tags": []
          },
          "execution_count": 280
        }
      ]
    },
    {
      "cell_type": "code",
      "metadata": {
        "id": "rJt8cGTFlAlq",
        "colab_type": "code",
        "colab": {}
      },
      "source": [
        ""
      ],
      "execution_count": 0,
      "outputs": []
    },
    {
      "cell_type": "code",
      "metadata": {
        "id": "Ilo4BL8IlgO5",
        "colab_type": "code",
        "outputId": "801d5a4e-9c1c-4498-e5b7-9b189d2ea331",
        "colab": {
          "base_uri": "https://localhost:8080/",
          "height": 126
        }
      },
      "source": [
        "u=pd.Series([1,2,3])\n",
        "v=pd.Series([a,b,c])\n",
        "i=u+v\n",
        "i\n",
        "pip install Tkinter"
      ],
      "execution_count": 0,
      "outputs": [
        {
          "output_type": "error",
          "ename": "SyntaxError",
          "evalue": "ignored",
          "traceback": [
            "\u001b[0;36m  File \u001b[0;32m\"<ipython-input-289-bccf55f0d8c5>\"\u001b[0;36m, line \u001b[0;32m5\u001b[0m\n\u001b[0;31m    pip install Tkinter\u001b[0m\n\u001b[0m              ^\u001b[0m\n\u001b[0;31mSyntaxError\u001b[0m\u001b[0;31m:\u001b[0m invalid syntax\n"
          ]
        }
      ]
    },
    {
      "cell_type": "code",
      "metadata": {
        "id": "wMm6ymgSpLQV",
        "colab_type": "code",
        "outputId": "0b0e482d-1827-40d1-f3cf-d6a6c9599fdd",
        "colab": {
          "base_uri": "https://localhost:8080/",
          "height": 66
        }
      },
      "source": [
        "pip install Tkinter"
      ],
      "execution_count": 0,
      "outputs": [
        {
          "output_type": "stream",
          "text": [
            "Collecting Tkinter\n",
            "\u001b[31m  ERROR: Could not find a version that satisfies the requirement Tkinter (from versions: none)\u001b[0m\n",
            "\u001b[31mERROR: No matching distribution found for Tkinter\u001b[0m\n"
          ],
          "name": "stdout"
        }
      ]
    },
    {
      "cell_type": "code",
      "metadata": {
        "id": "2jx06BmToiz8",
        "colab_type": "code",
        "outputId": "bce1a57c-a42c-4e23-971e-c671757ad9b6",
        "colab": {
          "base_uri": "https://localhost:8080/",
          "height": 223
        }
      },
      "source": [
        "import tkinter as tk\n",
        "from tkinter import *\n",
        "\n",
        "root = tk()\n",
        "root.title('Model Definition')\n",
        "root.geometry('{}x{}'.format(460, 350))\n",
        "\n",
        "# create all of the main containers\n",
        "top_frame = frame(root, bg='cyan', width=450, height=50, pady=3)\n",
        "center = frame(root, bg='gray2', width=50, height=40, padx=3, pady=3)\n",
        "btm_frame = frame(root, bg='white', width=450, height=45, pady=3)\n",
        "btm_frame2 = frame(root, bg='lavender', width=450, height=60, pady=3)\n",
        "\n",
        "# layout all of the main containers\n",
        "root.grid_rowconfigure(1, weight=1)\n",
        "root.grid_columnconfigure(0, weight=1)\n",
        "\n",
        "top_frame.grid(row=0, sticky=\"ew\")\n",
        "center.grid(row=1, sticky=\"nsew\")\n",
        "btm_frame.grid(row=3, sticky=\"ew\")\n",
        "btm_frame2.grid(row=4, sticky=\"ew\")\n",
        "\n",
        "# create the widgets for the top frame\n",
        "model_label = label(top_frame, text='Model Dimensions')\n",
        "width_label = label(top_frame, text='Width:')\n",
        "length_label = label(top_frame, text='Length:')\n",
        "entry_W = entry(top_frame, background=\"pink\")\n",
        "entry_L = entry(top_frame, background=\"orange\")\n",
        "\n",
        "# layout the widgets in the top frame\n",
        "model_label.grid(row=0, columnspan=3)\n",
        "width_label.grid(row=1, column=0)\n",
        "length_label.grid(row=1, column=2)\n",
        "entry_W.grid(row=1, column=1)\n",
        "entry_L.grid(row=1, column=3)\n",
        "\n",
        "# create the center widgets\n",
        "center.grid_rowconfigure(0, weight=1)\n",
        "center.grid_columnconfigure(1, weight=1)\n",
        "\n",
        "ctr_left = frame(center, bg='blue', width=100, height=190)\n",
        "ctr_mid = frame(center, bg='yellow', width=250, height=190, padx=3, pady=3)\n",
        "ctr_right = frame(center, bg='green', width=100, height=190, padx=3, pady=3)\n",
        "\n",
        "ctr_left.grid(row=0, column=0, sticky=\"ns\")\n",
        "ctr_mid.grid(row=0, column=1, sticky=\"nsew\")\n",
        "ctr_right.grid(row=0, column=2, sticky=\"ns\")\n",
        "root.mainloop()"
      ],
      "execution_count": 0,
      "outputs": [
        {
          "output_type": "error",
          "ename": "TypeError",
          "evalue": "ignored",
          "traceback": [
            "\u001b[0;31m---------------------------------------------------------------------------\u001b[0m",
            "\u001b[0;31mTypeError\u001b[0m                                 Traceback (most recent call last)",
            "\u001b[0;32m<ipython-input-293-22f225183c28>\u001b[0m in \u001b[0;36m<module>\u001b[0;34m()\u001b[0m\n\u001b[1;32m      2\u001b[0m \u001b[0;32mfrom\u001b[0m \u001b[0mtkinter\u001b[0m \u001b[0;32mimport\u001b[0m \u001b[0;34m*\u001b[0m\u001b[0;34m\u001b[0m\u001b[0;34m\u001b[0m\u001b[0m\n\u001b[1;32m      3\u001b[0m \u001b[0;34m\u001b[0m\u001b[0m\n\u001b[0;32m----> 4\u001b[0;31m \u001b[0mroot\u001b[0m \u001b[0;34m=\u001b[0m \u001b[0mtk\u001b[0m\u001b[0;34m(\u001b[0m\u001b[0;34m)\u001b[0m\u001b[0;34m\u001b[0m\u001b[0;34m\u001b[0m\u001b[0m\n\u001b[0m\u001b[1;32m      5\u001b[0m \u001b[0mroot\u001b[0m\u001b[0;34m.\u001b[0m\u001b[0mtitle\u001b[0m\u001b[0;34m(\u001b[0m\u001b[0;34m'Model Definition'\u001b[0m\u001b[0;34m)\u001b[0m\u001b[0;34m\u001b[0m\u001b[0;34m\u001b[0m\u001b[0m\n\u001b[1;32m      6\u001b[0m \u001b[0mroot\u001b[0m\u001b[0;34m.\u001b[0m\u001b[0mgeometry\u001b[0m\u001b[0;34m(\u001b[0m\u001b[0;34m'{}x{}'\u001b[0m\u001b[0;34m.\u001b[0m\u001b[0mformat\u001b[0m\u001b[0;34m(\u001b[0m\u001b[0;36m460\u001b[0m\u001b[0;34m,\u001b[0m \u001b[0;36m350\u001b[0m\u001b[0;34m)\u001b[0m\u001b[0;34m)\u001b[0m\u001b[0;34m\u001b[0m\u001b[0;34m\u001b[0m\u001b[0m\n",
            "\u001b[0;31mTypeError\u001b[0m: 'module' object is not callable"
          ]
        }
      ]
    },
    {
      "cell_type": "code",
      "metadata": {
        "id": "SBpO_hAorlGH",
        "colab_type": "code",
        "outputId": "040c7780-6a1c-4fe4-e6e9-e7e6a4fec322",
        "colab": {
          "base_uri": "https://localhost:8080/",
          "height": 105
        }
      },
      "source": [
        "data = {\n",
        "   'state':['Ohio','Nevada'],\n",
        "    'year':[2001,2009]\n",
        "}\n",
        "frame = pd.DataFrame(data)\n",
        "frame"
      ],
      "execution_count": 0,
      "outputs": [
        {
          "output_type": "execute_result",
          "data": {
            "text/html": [
              "<div>\n",
              "<style scoped>\n",
              "    .dataframe tbody tr th:only-of-type {\n",
              "        vertical-align: middle;\n",
              "    }\n",
              "\n",
              "    .dataframe tbody tr th {\n",
              "        vertical-align: top;\n",
              "    }\n",
              "\n",
              "    .dataframe thead th {\n",
              "        text-align: right;\n",
              "    }\n",
              "</style>\n",
              "<table border=\"1\" class=\"dataframe\">\n",
              "  <thead>\n",
              "    <tr style=\"text-align: right;\">\n",
              "      <th></th>\n",
              "      <th>state</th>\n",
              "      <th>year</th>\n",
              "    </tr>\n",
              "  </thead>\n",
              "  <tbody>\n",
              "    <tr>\n",
              "      <th>0</th>\n",
              "      <td>Ohio</td>\n",
              "      <td>2001</td>\n",
              "    </tr>\n",
              "    <tr>\n",
              "      <th>1</th>\n",
              "      <td>Nevada</td>\n",
              "      <td>2009</td>\n",
              "    </tr>\n",
              "  </tbody>\n",
              "</table>\n",
              "</div>"
            ],
            "text/plain": [
              "    state  year\n",
              "0    Ohio  2001\n",
              "1  Nevada  2009"
            ]
          },
          "metadata": {
            "tags": []
          },
          "execution_count": 294
        }
      ]
    },
    {
      "cell_type": "code",
      "metadata": {
        "id": "5X2EpKgYrp0G",
        "colab_type": "code",
        "outputId": "45fd4d10-1b35-402d-d363-22a76861e17e",
        "colab": {
          "base_uri": "https://localhost:8080/",
          "height": 432
        }
      },
      "source": [
        "frame['income_cat']=pd.DataFrame([100,200])\n",
        "frame\n",
        "pd.DataFrame(np.random.randn(5,5))\n"
      ],
      "execution_count": 0,
      "outputs": [
        {
          "output_type": "error",
          "ename": "ValueError",
          "evalue": "ignored",
          "traceback": [
            "\u001b[0;31m---------------------------------------------------------------------------\u001b[0m",
            "\u001b[0;31mValueError\u001b[0m                                Traceback (most recent call last)",
            "\u001b[0;32m/usr/local/lib/python3.6/dist-packages/pandas/core/internals/managers.py\u001b[0m in \u001b[0;36mcreate_block_manager_from_blocks\u001b[0;34m(blocks, axes)\u001b[0m\n\u001b[1;32m   1652\u001b[0m \u001b[0;34m\u001b[0m\u001b[0m\n\u001b[0;32m-> 1653\u001b[0;31m         \u001b[0mmgr\u001b[0m \u001b[0;34m=\u001b[0m \u001b[0mBlockManager\u001b[0m\u001b[0;34m(\u001b[0m\u001b[0mblocks\u001b[0m\u001b[0;34m,\u001b[0m \u001b[0maxes\u001b[0m\u001b[0;34m)\u001b[0m\u001b[0;34m\u001b[0m\u001b[0;34m\u001b[0m\u001b[0m\n\u001b[0m\u001b[1;32m   1654\u001b[0m         \u001b[0mmgr\u001b[0m\u001b[0;34m.\u001b[0m\u001b[0m_consolidate_inplace\u001b[0m\u001b[0;34m(\u001b[0m\u001b[0;34m)\u001b[0m\u001b[0;34m\u001b[0m\u001b[0;34m\u001b[0m\u001b[0m\n",
            "\u001b[0;32m/usr/local/lib/python3.6/dist-packages/pandas/core/internals/managers.py\u001b[0m in \u001b[0;36m__init__\u001b[0;34m(self, blocks, axes, do_integrity_check)\u001b[0m\n\u001b[1;32m    113\u001b[0m         \u001b[0;32mif\u001b[0m \u001b[0mdo_integrity_check\u001b[0m\u001b[0;34m:\u001b[0m\u001b[0;34m\u001b[0m\u001b[0;34m\u001b[0m\u001b[0m\n\u001b[0;32m--> 114\u001b[0;31m             \u001b[0mself\u001b[0m\u001b[0;34m.\u001b[0m\u001b[0m_verify_integrity\u001b[0m\u001b[0;34m(\u001b[0m\u001b[0;34m)\u001b[0m\u001b[0;34m\u001b[0m\u001b[0;34m\u001b[0m\u001b[0m\n\u001b[0m\u001b[1;32m    115\u001b[0m \u001b[0;34m\u001b[0m\u001b[0m\n",
            "\u001b[0;32m/usr/local/lib/python3.6/dist-packages/pandas/core/internals/managers.py\u001b[0m in \u001b[0;36m_verify_integrity\u001b[0;34m(self)\u001b[0m\n\u001b[1;32m    310\u001b[0m             \u001b[0;32mif\u001b[0m \u001b[0mblock\u001b[0m\u001b[0;34m.\u001b[0m\u001b[0m_verify_integrity\u001b[0m \u001b[0;32mand\u001b[0m \u001b[0mblock\u001b[0m\u001b[0;34m.\u001b[0m\u001b[0mshape\u001b[0m\u001b[0;34m[\u001b[0m\u001b[0;36m1\u001b[0m\u001b[0;34m:\u001b[0m\u001b[0;34m]\u001b[0m \u001b[0;34m!=\u001b[0m \u001b[0mmgr_shape\u001b[0m\u001b[0;34m[\u001b[0m\u001b[0;36m1\u001b[0m\u001b[0;34m:\u001b[0m\u001b[0;34m]\u001b[0m\u001b[0;34m:\u001b[0m\u001b[0;34m\u001b[0m\u001b[0;34m\u001b[0m\u001b[0m\n\u001b[0;32m--> 311\u001b[0;31m                 \u001b[0mconstruction_error\u001b[0m\u001b[0;34m(\u001b[0m\u001b[0mtot_items\u001b[0m\u001b[0;34m,\u001b[0m \u001b[0mblock\u001b[0m\u001b[0;34m.\u001b[0m\u001b[0mshape\u001b[0m\u001b[0;34m[\u001b[0m\u001b[0;36m1\u001b[0m\u001b[0;34m:\u001b[0m\u001b[0;34m]\u001b[0m\u001b[0;34m,\u001b[0m \u001b[0mself\u001b[0m\u001b[0;34m.\u001b[0m\u001b[0maxes\u001b[0m\u001b[0;34m)\u001b[0m\u001b[0;34m\u001b[0m\u001b[0;34m\u001b[0m\u001b[0m\n\u001b[0m\u001b[1;32m    312\u001b[0m         \u001b[0;32mif\u001b[0m \u001b[0mlen\u001b[0m\u001b[0;34m(\u001b[0m\u001b[0mself\u001b[0m\u001b[0;34m.\u001b[0m\u001b[0mitems\u001b[0m\u001b[0;34m)\u001b[0m \u001b[0;34m!=\u001b[0m \u001b[0mtot_items\u001b[0m\u001b[0;34m:\u001b[0m\u001b[0;34m\u001b[0m\u001b[0;34m\u001b[0m\u001b[0m\n",
            "\u001b[0;32m/usr/local/lib/python3.6/dist-packages/pandas/core/internals/managers.py\u001b[0m in \u001b[0;36mconstruction_error\u001b[0;34m(tot_items, block_shape, axes, e)\u001b[0m\n\u001b[1;32m   1690\u001b[0m     raise ValueError(\"Shape of passed values is {0}, indices imply {1}\".format(\n\u001b[0;32m-> 1691\u001b[0;31m         passed, implied))\n\u001b[0m\u001b[1;32m   1692\u001b[0m \u001b[0;34m\u001b[0m\u001b[0m\n",
            "\u001b[0;31mValueError\u001b[0m: Shape of passed values is (5, 5), indices imply (3, 5)",
            "\nDuring handling of the above exception, another exception occurred:\n",
            "\u001b[0;31mValueError\u001b[0m                                Traceback (most recent call last)",
            "\u001b[0;32m<ipython-input-297-4f911208095f>\u001b[0m in \u001b[0;36m<module>\u001b[0;34m()\u001b[0m\n\u001b[1;32m      2\u001b[0m \u001b[0mframe\u001b[0m\u001b[0;34m\u001b[0m\u001b[0;34m\u001b[0m\u001b[0m\n\u001b[1;32m      3\u001b[0m \u001b[0mpd\u001b[0m\u001b[0;34m.\u001b[0m\u001b[0mDataFrame\u001b[0m\u001b[0;34m(\u001b[0m\u001b[0mnp\u001b[0m\u001b[0;34m.\u001b[0m\u001b[0mrandom\u001b[0m\u001b[0;34m.\u001b[0m\u001b[0mrandn\u001b[0m\u001b[0;34m(\u001b[0m\u001b[0;36m5\u001b[0m\u001b[0;34m,\u001b[0m\u001b[0;36m5\u001b[0m\u001b[0;34m)\u001b[0m\u001b[0;34m)\u001b[0m\u001b[0;34m\u001b[0m\u001b[0;34m\u001b[0m\u001b[0m\n\u001b[0;32m----> 4\u001b[0;31m \u001b[0mpd\u001b[0m\u001b[0;34m.\u001b[0m\u001b[0mDataFrame\u001b[0m\u001b[0;34m(\u001b[0m\u001b[0mnp\u001b[0m\u001b[0;34m.\u001b[0m\u001b[0mrandom\u001b[0m\u001b[0;34m.\u001b[0m\u001b[0mrandn\u001b[0m\u001b[0;34m(\u001b[0m\u001b[0;36m5\u001b[0m\u001b[0;34m,\u001b[0m\u001b[0;36m5\u001b[0m\u001b[0;34m)\u001b[0m\u001b[0;34m,\u001b[0m \u001b[0mi\u001b[0m\u001b[0;34m)\u001b[0m\u001b[0;34m\u001b[0m\u001b[0;34m\u001b[0m\u001b[0m\n\u001b[0m",
            "\u001b[0;32m/usr/local/lib/python3.6/dist-packages/pandas/core/frame.py\u001b[0m in \u001b[0;36m__init__\u001b[0;34m(self, data, index, columns, dtype, copy)\u001b[0m\n\u001b[1;32m    422\u001b[0m             \u001b[0;32melse\u001b[0m\u001b[0;34m:\u001b[0m\u001b[0;34m\u001b[0m\u001b[0;34m\u001b[0m\u001b[0m\n\u001b[1;32m    423\u001b[0m                 mgr = init_ndarray(data, index, columns, dtype=dtype,\n\u001b[0;32m--> 424\u001b[0;31m                                    copy=copy)\n\u001b[0m\u001b[1;32m    425\u001b[0m \u001b[0;34m\u001b[0m\u001b[0m\n\u001b[1;32m    426\u001b[0m         \u001b[0;31m# For data is list-like, or Iterable (will consume into list)\u001b[0m\u001b[0;34m\u001b[0m\u001b[0;34m\u001b[0m\u001b[0;34m\u001b[0m\u001b[0m\n",
            "\u001b[0;32m/usr/local/lib/python3.6/dist-packages/pandas/core/internals/construction.py\u001b[0m in \u001b[0;36minit_ndarray\u001b[0;34m(values, index, columns, dtype, copy)\u001b[0m\n\u001b[1;32m    165\u001b[0m         \u001b[0mvalues\u001b[0m \u001b[0;34m=\u001b[0m \u001b[0mmaybe_infer_to_datetimelike\u001b[0m\u001b[0;34m(\u001b[0m\u001b[0mvalues\u001b[0m\u001b[0;34m)\u001b[0m\u001b[0;34m\u001b[0m\u001b[0;34m\u001b[0m\u001b[0m\n\u001b[1;32m    166\u001b[0m \u001b[0;34m\u001b[0m\u001b[0m\n\u001b[0;32m--> 167\u001b[0;31m     \u001b[0;32mreturn\u001b[0m \u001b[0mcreate_block_manager_from_blocks\u001b[0m\u001b[0;34m(\u001b[0m\u001b[0;34m[\u001b[0m\u001b[0mvalues\u001b[0m\u001b[0;34m]\u001b[0m\u001b[0;34m,\u001b[0m \u001b[0;34m[\u001b[0m\u001b[0mcolumns\u001b[0m\u001b[0;34m,\u001b[0m \u001b[0mindex\u001b[0m\u001b[0;34m]\u001b[0m\u001b[0;34m)\u001b[0m\u001b[0;34m\u001b[0m\u001b[0;34m\u001b[0m\u001b[0m\n\u001b[0m\u001b[1;32m    168\u001b[0m \u001b[0;34m\u001b[0m\u001b[0m\n\u001b[1;32m    169\u001b[0m \u001b[0;34m\u001b[0m\u001b[0m\n",
            "\u001b[0;32m/usr/local/lib/python3.6/dist-packages/pandas/core/internals/managers.py\u001b[0m in \u001b[0;36mcreate_block_manager_from_blocks\u001b[0;34m(blocks, axes)\u001b[0m\n\u001b[1;32m   1658\u001b[0m         \u001b[0mblocks\u001b[0m \u001b[0;34m=\u001b[0m \u001b[0;34m[\u001b[0m\u001b[0mgetattr\u001b[0m\u001b[0;34m(\u001b[0m\u001b[0mb\u001b[0m\u001b[0;34m,\u001b[0m \u001b[0;34m'values'\u001b[0m\u001b[0;34m,\u001b[0m \u001b[0mb\u001b[0m\u001b[0;34m)\u001b[0m \u001b[0;32mfor\u001b[0m \u001b[0mb\u001b[0m \u001b[0;32min\u001b[0m \u001b[0mblocks\u001b[0m\u001b[0;34m]\u001b[0m\u001b[0;34m\u001b[0m\u001b[0;34m\u001b[0m\u001b[0m\n\u001b[1;32m   1659\u001b[0m         \u001b[0mtot_items\u001b[0m \u001b[0;34m=\u001b[0m \u001b[0msum\u001b[0m\u001b[0;34m(\u001b[0m\u001b[0mb\u001b[0m\u001b[0;34m.\u001b[0m\u001b[0mshape\u001b[0m\u001b[0;34m[\u001b[0m\u001b[0;36m0\u001b[0m\u001b[0;34m]\u001b[0m \u001b[0;32mfor\u001b[0m \u001b[0mb\u001b[0m \u001b[0;32min\u001b[0m \u001b[0mblocks\u001b[0m\u001b[0;34m)\u001b[0m\u001b[0;34m\u001b[0m\u001b[0;34m\u001b[0m\u001b[0m\n\u001b[0;32m-> 1660\u001b[0;31m         \u001b[0mconstruction_error\u001b[0m\u001b[0;34m(\u001b[0m\u001b[0mtot_items\u001b[0m\u001b[0;34m,\u001b[0m \u001b[0mblocks\u001b[0m\u001b[0;34m[\u001b[0m\u001b[0;36m0\u001b[0m\u001b[0;34m]\u001b[0m\u001b[0;34m.\u001b[0m\u001b[0mshape\u001b[0m\u001b[0;34m[\u001b[0m\u001b[0;36m1\u001b[0m\u001b[0;34m:\u001b[0m\u001b[0;34m]\u001b[0m\u001b[0;34m,\u001b[0m \u001b[0maxes\u001b[0m\u001b[0;34m,\u001b[0m \u001b[0me\u001b[0m\u001b[0;34m)\u001b[0m\u001b[0;34m\u001b[0m\u001b[0;34m\u001b[0m\u001b[0m\n\u001b[0m\u001b[1;32m   1661\u001b[0m \u001b[0;34m\u001b[0m\u001b[0m\n\u001b[1;32m   1662\u001b[0m \u001b[0;34m\u001b[0m\u001b[0m\n",
            "\u001b[0;32m/usr/local/lib/python3.6/dist-packages/pandas/core/internals/managers.py\u001b[0m in \u001b[0;36mconstruction_error\u001b[0;34m(tot_items, block_shape, axes, e)\u001b[0m\n\u001b[1;32m   1689\u001b[0m         \u001b[0;32mraise\u001b[0m \u001b[0mValueError\u001b[0m\u001b[0;34m(\u001b[0m\u001b[0;34m\"Empty data passed with indices specified.\"\u001b[0m\u001b[0;34m)\u001b[0m\u001b[0;34m\u001b[0m\u001b[0;34m\u001b[0m\u001b[0m\n\u001b[1;32m   1690\u001b[0m     raise ValueError(\"Shape of passed values is {0}, indices imply {1}\".format(\n\u001b[0;32m-> 1691\u001b[0;31m         passed, implied))\n\u001b[0m\u001b[1;32m   1692\u001b[0m \u001b[0;34m\u001b[0m\u001b[0m\n\u001b[1;32m   1693\u001b[0m \u001b[0;34m\u001b[0m\u001b[0m\n",
            "\u001b[0;31mValueError\u001b[0m: Shape of passed values is (5, 5), indices imply (3, 5)"
          ]
        }
      ]
    },
    {
      "cell_type": "code",
      "metadata": {
        "id": "ZmlaBF0Mr4P5",
        "colab_type": "code",
        "outputId": "63bfbf14-e340-4b33-ba6f-84fa205879a8",
        "colab": {
          "base_uri": "https://localhost:8080/",
          "height": 202
        }
      },
      "source": [
        "pd.DataFrame(np.random.randn(5,5), columns=['x','y','z','a','b'])"
      ],
      "execution_count": 0,
      "outputs": [
        {
          "output_type": "execute_result",
          "data": {
            "text/html": [
              "<div>\n",
              "<style scoped>\n",
              "    .dataframe tbody tr th:only-of-type {\n",
              "        vertical-align: middle;\n",
              "    }\n",
              "\n",
              "    .dataframe tbody tr th {\n",
              "        vertical-align: top;\n",
              "    }\n",
              "\n",
              "    .dataframe thead th {\n",
              "        text-align: right;\n",
              "    }\n",
              "</style>\n",
              "<table border=\"1\" class=\"dataframe\">\n",
              "  <thead>\n",
              "    <tr style=\"text-align: right;\">\n",
              "      <th></th>\n",
              "      <th>x</th>\n",
              "      <th>y</th>\n",
              "      <th>z</th>\n",
              "      <th>a</th>\n",
              "      <th>b</th>\n",
              "    </tr>\n",
              "  </thead>\n",
              "  <tbody>\n",
              "    <tr>\n",
              "      <th>0</th>\n",
              "      <td>0.917288</td>\n",
              "      <td>-0.417236</td>\n",
              "      <td>1.701507</td>\n",
              "      <td>0.367854</td>\n",
              "      <td>1.805115</td>\n",
              "    </tr>\n",
              "    <tr>\n",
              "      <th>1</th>\n",
              "      <td>0.477538</td>\n",
              "      <td>0.629548</td>\n",
              "      <td>0.542555</td>\n",
              "      <td>-1.560405</td>\n",
              "      <td>-1.056412</td>\n",
              "    </tr>\n",
              "    <tr>\n",
              "      <th>2</th>\n",
              "      <td>-0.994619</td>\n",
              "      <td>0.648058</td>\n",
              "      <td>-1.290244</td>\n",
              "      <td>-0.086381</td>\n",
              "      <td>0.033334</td>\n",
              "    </tr>\n",
              "    <tr>\n",
              "      <th>3</th>\n",
              "      <td>1.371032</td>\n",
              "      <td>1.122511</td>\n",
              "      <td>-0.486454</td>\n",
              "      <td>-0.476996</td>\n",
              "      <td>-0.722776</td>\n",
              "    </tr>\n",
              "    <tr>\n",
              "      <th>4</th>\n",
              "      <td>0.034724</td>\n",
              "      <td>1.122468</td>\n",
              "      <td>-1.491246</td>\n",
              "      <td>0.892830</td>\n",
              "      <td>-1.647459</td>\n",
              "    </tr>\n",
              "  </tbody>\n",
              "</table>\n",
              "</div>"
            ],
            "text/plain": [
              "          x         y         z         a         b\n",
              "0  0.917288 -0.417236  1.701507  0.367854  1.805115\n",
              "1  0.477538  0.629548  0.542555 -1.560405 -1.056412\n",
              "2 -0.994619  0.648058 -1.290244 -0.086381  0.033334\n",
              "3  1.371032  1.122511 -0.486454 -0.476996 -0.722776\n",
              "4  0.034724  1.122468 -1.491246  0.892830 -1.647459"
            ]
          },
          "metadata": {
            "tags": []
          },
          "execution_count": 299
        }
      ]
    },
    {
      "cell_type": "code",
      "metadata": {
        "id": "ijOxfc6YsUSi",
        "colab_type": "code",
        "outputId": "98a31d24-1125-4e0f-91f2-75d4005d93d4",
        "colab": {
          "base_uri": "https://localhost:8080/",
          "height": 110
        }
      },
      "source": [
        "data = [\n",
        "    {'fname':'Avneesh', 'lname':'Jain', 'age':44},\n",
        "    {'fname':'Rajat', 'lname':'Verma'}\n",
        "]\n",
        "pd.DataFrame(data)\n"
      ],
      "execution_count": 0,
      "outputs": [
        {
          "output_type": "execute_result",
          "data": {
            "text/html": [
              "<div>\n",
              "<style scoped>\n",
              "    .dataframe tbody tr th:only-of-type {\n",
              "        vertical-align: middle;\n",
              "    }\n",
              "\n",
              "    .dataframe tbody tr th {\n",
              "        vertical-align: top;\n",
              "    }\n",
              "\n",
              "    .dataframe thead th {\n",
              "        text-align: right;\n",
              "    }\n",
              "</style>\n",
              "<table border=\"1\" class=\"dataframe\">\n",
              "  <thead>\n",
              "    <tr style=\"text-align: right;\">\n",
              "      <th></th>\n",
              "      <th>age</th>\n",
              "      <th>fname</th>\n",
              "      <th>lname</th>\n",
              "    </tr>\n",
              "  </thead>\n",
              "  <tbody>\n",
              "    <tr>\n",
              "      <th>0</th>\n",
              "      <td>44.0</td>\n",
              "      <td>Avneesh</td>\n",
              "      <td>Jain</td>\n",
              "    </tr>\n",
              "    <tr>\n",
              "      <th>1</th>\n",
              "      <td>NaN</td>\n",
              "      <td>Rajat</td>\n",
              "      <td>Verma</td>\n",
              "    </tr>\n",
              "  </tbody>\n",
              "</table>\n",
              "</div>"
            ],
            "text/plain": [
              "    age    fname  lname\n",
              "0  44.0  Avneesh   Jain\n",
              "1   NaN    Rajat  Verma"
            ]
          },
          "metadata": {
            "tags": []
          },
          "execution_count": 302
        }
      ]
    },
    {
      "cell_type": "code",
      "metadata": {
        "id": "2Xi_eC3ctofj",
        "colab_type": "code",
        "outputId": "73594dca-0e08-4899-aa41-4f032ef21d31",
        "colab": {
          "base_uri": "https://localhost:8080/",
          "height": 1000
        }
      },
      "source": [
        "z=pd.read_csv('https://raw.githubusercontent.com/justmarkham/DAT8/master/data/u.user',sep='|')\n",
        "z"
      ],
      "execution_count": 0,
      "outputs": [
        {
          "output_type": "execute_result",
          "data": {
            "text/html": [
              "<div>\n",
              "<style scoped>\n",
              "    .dataframe tbody tr th:only-of-type {\n",
              "        vertical-align: middle;\n",
              "    }\n",
              "\n",
              "    .dataframe tbody tr th {\n",
              "        vertical-align: top;\n",
              "    }\n",
              "\n",
              "    .dataframe thead th {\n",
              "        text-align: right;\n",
              "    }\n",
              "</style>\n",
              "<table border=\"1\" class=\"dataframe\">\n",
              "  <thead>\n",
              "    <tr style=\"text-align: right;\">\n",
              "      <th></th>\n",
              "      <th>user_id</th>\n",
              "      <th>age</th>\n",
              "      <th>gender</th>\n",
              "      <th>occupation</th>\n",
              "      <th>zip_code</th>\n",
              "    </tr>\n",
              "  </thead>\n",
              "  <tbody>\n",
              "    <tr>\n",
              "      <th>0</th>\n",
              "      <td>1</td>\n",
              "      <td>24</td>\n",
              "      <td>M</td>\n",
              "      <td>technician</td>\n",
              "      <td>85711</td>\n",
              "    </tr>\n",
              "    <tr>\n",
              "      <th>1</th>\n",
              "      <td>2</td>\n",
              "      <td>53</td>\n",
              "      <td>F</td>\n",
              "      <td>other</td>\n",
              "      <td>94043</td>\n",
              "    </tr>\n",
              "    <tr>\n",
              "      <th>2</th>\n",
              "      <td>3</td>\n",
              "      <td>23</td>\n",
              "      <td>M</td>\n",
              "      <td>writer</td>\n",
              "      <td>32067</td>\n",
              "    </tr>\n",
              "    <tr>\n",
              "      <th>3</th>\n",
              "      <td>4</td>\n",
              "      <td>24</td>\n",
              "      <td>M</td>\n",
              "      <td>technician</td>\n",
              "      <td>43537</td>\n",
              "    </tr>\n",
              "    <tr>\n",
              "      <th>4</th>\n",
              "      <td>5</td>\n",
              "      <td>33</td>\n",
              "      <td>F</td>\n",
              "      <td>other</td>\n",
              "      <td>15213</td>\n",
              "    </tr>\n",
              "    <tr>\n",
              "      <th>5</th>\n",
              "      <td>6</td>\n",
              "      <td>42</td>\n",
              "      <td>M</td>\n",
              "      <td>executive</td>\n",
              "      <td>98101</td>\n",
              "    </tr>\n",
              "    <tr>\n",
              "      <th>6</th>\n",
              "      <td>7</td>\n",
              "      <td>57</td>\n",
              "      <td>M</td>\n",
              "      <td>administrator</td>\n",
              "      <td>91344</td>\n",
              "    </tr>\n",
              "    <tr>\n",
              "      <th>7</th>\n",
              "      <td>8</td>\n",
              "      <td>36</td>\n",
              "      <td>M</td>\n",
              "      <td>administrator</td>\n",
              "      <td>05201</td>\n",
              "    </tr>\n",
              "    <tr>\n",
              "      <th>8</th>\n",
              "      <td>9</td>\n",
              "      <td>29</td>\n",
              "      <td>M</td>\n",
              "      <td>student</td>\n",
              "      <td>01002</td>\n",
              "    </tr>\n",
              "    <tr>\n",
              "      <th>9</th>\n",
              "      <td>10</td>\n",
              "      <td>53</td>\n",
              "      <td>M</td>\n",
              "      <td>lawyer</td>\n",
              "      <td>90703</td>\n",
              "    </tr>\n",
              "    <tr>\n",
              "      <th>10</th>\n",
              "      <td>11</td>\n",
              "      <td>39</td>\n",
              "      <td>F</td>\n",
              "      <td>other</td>\n",
              "      <td>30329</td>\n",
              "    </tr>\n",
              "    <tr>\n",
              "      <th>11</th>\n",
              "      <td>12</td>\n",
              "      <td>28</td>\n",
              "      <td>F</td>\n",
              "      <td>other</td>\n",
              "      <td>06405</td>\n",
              "    </tr>\n",
              "    <tr>\n",
              "      <th>12</th>\n",
              "      <td>13</td>\n",
              "      <td>47</td>\n",
              "      <td>M</td>\n",
              "      <td>educator</td>\n",
              "      <td>29206</td>\n",
              "    </tr>\n",
              "    <tr>\n",
              "      <th>13</th>\n",
              "      <td>14</td>\n",
              "      <td>45</td>\n",
              "      <td>M</td>\n",
              "      <td>scientist</td>\n",
              "      <td>55106</td>\n",
              "    </tr>\n",
              "    <tr>\n",
              "      <th>14</th>\n",
              "      <td>15</td>\n",
              "      <td>49</td>\n",
              "      <td>F</td>\n",
              "      <td>educator</td>\n",
              "      <td>97301</td>\n",
              "    </tr>\n",
              "    <tr>\n",
              "      <th>15</th>\n",
              "      <td>16</td>\n",
              "      <td>21</td>\n",
              "      <td>M</td>\n",
              "      <td>entertainment</td>\n",
              "      <td>10309</td>\n",
              "    </tr>\n",
              "    <tr>\n",
              "      <th>16</th>\n",
              "      <td>17</td>\n",
              "      <td>30</td>\n",
              "      <td>M</td>\n",
              "      <td>programmer</td>\n",
              "      <td>06355</td>\n",
              "    </tr>\n",
              "    <tr>\n",
              "      <th>17</th>\n",
              "      <td>18</td>\n",
              "      <td>35</td>\n",
              "      <td>F</td>\n",
              "      <td>other</td>\n",
              "      <td>37212</td>\n",
              "    </tr>\n",
              "    <tr>\n",
              "      <th>18</th>\n",
              "      <td>19</td>\n",
              "      <td>40</td>\n",
              "      <td>M</td>\n",
              "      <td>librarian</td>\n",
              "      <td>02138</td>\n",
              "    </tr>\n",
              "    <tr>\n",
              "      <th>19</th>\n",
              "      <td>20</td>\n",
              "      <td>42</td>\n",
              "      <td>F</td>\n",
              "      <td>homemaker</td>\n",
              "      <td>95660</td>\n",
              "    </tr>\n",
              "    <tr>\n",
              "      <th>20</th>\n",
              "      <td>21</td>\n",
              "      <td>26</td>\n",
              "      <td>M</td>\n",
              "      <td>writer</td>\n",
              "      <td>30068</td>\n",
              "    </tr>\n",
              "    <tr>\n",
              "      <th>21</th>\n",
              "      <td>22</td>\n",
              "      <td>25</td>\n",
              "      <td>M</td>\n",
              "      <td>writer</td>\n",
              "      <td>40206</td>\n",
              "    </tr>\n",
              "    <tr>\n",
              "      <th>22</th>\n",
              "      <td>23</td>\n",
              "      <td>30</td>\n",
              "      <td>F</td>\n",
              "      <td>artist</td>\n",
              "      <td>48197</td>\n",
              "    </tr>\n",
              "    <tr>\n",
              "      <th>23</th>\n",
              "      <td>24</td>\n",
              "      <td>21</td>\n",
              "      <td>F</td>\n",
              "      <td>artist</td>\n",
              "      <td>94533</td>\n",
              "    </tr>\n",
              "    <tr>\n",
              "      <th>24</th>\n",
              "      <td>25</td>\n",
              "      <td>39</td>\n",
              "      <td>M</td>\n",
              "      <td>engineer</td>\n",
              "      <td>55107</td>\n",
              "    </tr>\n",
              "    <tr>\n",
              "      <th>25</th>\n",
              "      <td>26</td>\n",
              "      <td>49</td>\n",
              "      <td>M</td>\n",
              "      <td>engineer</td>\n",
              "      <td>21044</td>\n",
              "    </tr>\n",
              "    <tr>\n",
              "      <th>26</th>\n",
              "      <td>27</td>\n",
              "      <td>40</td>\n",
              "      <td>F</td>\n",
              "      <td>librarian</td>\n",
              "      <td>30030</td>\n",
              "    </tr>\n",
              "    <tr>\n",
              "      <th>27</th>\n",
              "      <td>28</td>\n",
              "      <td>32</td>\n",
              "      <td>M</td>\n",
              "      <td>writer</td>\n",
              "      <td>55369</td>\n",
              "    </tr>\n",
              "    <tr>\n",
              "      <th>28</th>\n",
              "      <td>29</td>\n",
              "      <td>41</td>\n",
              "      <td>M</td>\n",
              "      <td>programmer</td>\n",
              "      <td>94043</td>\n",
              "    </tr>\n",
              "    <tr>\n",
              "      <th>29</th>\n",
              "      <td>30</td>\n",
              "      <td>7</td>\n",
              "      <td>M</td>\n",
              "      <td>student</td>\n",
              "      <td>55436</td>\n",
              "    </tr>\n",
              "    <tr>\n",
              "      <th>...</th>\n",
              "      <td>...</td>\n",
              "      <td>...</td>\n",
              "      <td>...</td>\n",
              "      <td>...</td>\n",
              "      <td>...</td>\n",
              "    </tr>\n",
              "    <tr>\n",
              "      <th>913</th>\n",
              "      <td>914</td>\n",
              "      <td>44</td>\n",
              "      <td>F</td>\n",
              "      <td>other</td>\n",
              "      <td>08105</td>\n",
              "    </tr>\n",
              "    <tr>\n",
              "      <th>914</th>\n",
              "      <td>915</td>\n",
              "      <td>50</td>\n",
              "      <td>M</td>\n",
              "      <td>entertainment</td>\n",
              "      <td>60614</td>\n",
              "    </tr>\n",
              "    <tr>\n",
              "      <th>915</th>\n",
              "      <td>916</td>\n",
              "      <td>27</td>\n",
              "      <td>M</td>\n",
              "      <td>engineer</td>\n",
              "      <td>N2L5N</td>\n",
              "    </tr>\n",
              "    <tr>\n",
              "      <th>916</th>\n",
              "      <td>917</td>\n",
              "      <td>22</td>\n",
              "      <td>F</td>\n",
              "      <td>student</td>\n",
              "      <td>20006</td>\n",
              "    </tr>\n",
              "    <tr>\n",
              "      <th>917</th>\n",
              "      <td>918</td>\n",
              "      <td>40</td>\n",
              "      <td>M</td>\n",
              "      <td>scientist</td>\n",
              "      <td>70116</td>\n",
              "    </tr>\n",
              "    <tr>\n",
              "      <th>918</th>\n",
              "      <td>919</td>\n",
              "      <td>25</td>\n",
              "      <td>M</td>\n",
              "      <td>other</td>\n",
              "      <td>14216</td>\n",
              "    </tr>\n",
              "    <tr>\n",
              "      <th>919</th>\n",
              "      <td>920</td>\n",
              "      <td>30</td>\n",
              "      <td>F</td>\n",
              "      <td>artist</td>\n",
              "      <td>90008</td>\n",
              "    </tr>\n",
              "    <tr>\n",
              "      <th>920</th>\n",
              "      <td>921</td>\n",
              "      <td>20</td>\n",
              "      <td>F</td>\n",
              "      <td>student</td>\n",
              "      <td>98801</td>\n",
              "    </tr>\n",
              "    <tr>\n",
              "      <th>921</th>\n",
              "      <td>922</td>\n",
              "      <td>29</td>\n",
              "      <td>F</td>\n",
              "      <td>administrator</td>\n",
              "      <td>21114</td>\n",
              "    </tr>\n",
              "    <tr>\n",
              "      <th>922</th>\n",
              "      <td>923</td>\n",
              "      <td>21</td>\n",
              "      <td>M</td>\n",
              "      <td>student</td>\n",
              "      <td>E2E3R</td>\n",
              "    </tr>\n",
              "    <tr>\n",
              "      <th>923</th>\n",
              "      <td>924</td>\n",
              "      <td>29</td>\n",
              "      <td>M</td>\n",
              "      <td>other</td>\n",
              "      <td>11753</td>\n",
              "    </tr>\n",
              "    <tr>\n",
              "      <th>924</th>\n",
              "      <td>925</td>\n",
              "      <td>18</td>\n",
              "      <td>F</td>\n",
              "      <td>salesman</td>\n",
              "      <td>49036</td>\n",
              "    </tr>\n",
              "    <tr>\n",
              "      <th>925</th>\n",
              "      <td>926</td>\n",
              "      <td>49</td>\n",
              "      <td>M</td>\n",
              "      <td>entertainment</td>\n",
              "      <td>01701</td>\n",
              "    </tr>\n",
              "    <tr>\n",
              "      <th>926</th>\n",
              "      <td>927</td>\n",
              "      <td>23</td>\n",
              "      <td>M</td>\n",
              "      <td>programmer</td>\n",
              "      <td>55428</td>\n",
              "    </tr>\n",
              "    <tr>\n",
              "      <th>927</th>\n",
              "      <td>928</td>\n",
              "      <td>21</td>\n",
              "      <td>M</td>\n",
              "      <td>student</td>\n",
              "      <td>55408</td>\n",
              "    </tr>\n",
              "    <tr>\n",
              "      <th>928</th>\n",
              "      <td>929</td>\n",
              "      <td>44</td>\n",
              "      <td>M</td>\n",
              "      <td>scientist</td>\n",
              "      <td>53711</td>\n",
              "    </tr>\n",
              "    <tr>\n",
              "      <th>929</th>\n",
              "      <td>930</td>\n",
              "      <td>28</td>\n",
              "      <td>F</td>\n",
              "      <td>scientist</td>\n",
              "      <td>07310</td>\n",
              "    </tr>\n",
              "    <tr>\n",
              "      <th>930</th>\n",
              "      <td>931</td>\n",
              "      <td>60</td>\n",
              "      <td>M</td>\n",
              "      <td>educator</td>\n",
              "      <td>33556</td>\n",
              "    </tr>\n",
              "    <tr>\n",
              "      <th>931</th>\n",
              "      <td>932</td>\n",
              "      <td>58</td>\n",
              "      <td>M</td>\n",
              "      <td>educator</td>\n",
              "      <td>06437</td>\n",
              "    </tr>\n",
              "    <tr>\n",
              "      <th>932</th>\n",
              "      <td>933</td>\n",
              "      <td>28</td>\n",
              "      <td>M</td>\n",
              "      <td>student</td>\n",
              "      <td>48105</td>\n",
              "    </tr>\n",
              "    <tr>\n",
              "      <th>933</th>\n",
              "      <td>934</td>\n",
              "      <td>61</td>\n",
              "      <td>M</td>\n",
              "      <td>engineer</td>\n",
              "      <td>22902</td>\n",
              "    </tr>\n",
              "    <tr>\n",
              "      <th>934</th>\n",
              "      <td>935</td>\n",
              "      <td>42</td>\n",
              "      <td>M</td>\n",
              "      <td>doctor</td>\n",
              "      <td>66221</td>\n",
              "    </tr>\n",
              "    <tr>\n",
              "      <th>935</th>\n",
              "      <td>936</td>\n",
              "      <td>24</td>\n",
              "      <td>M</td>\n",
              "      <td>other</td>\n",
              "      <td>32789</td>\n",
              "    </tr>\n",
              "    <tr>\n",
              "      <th>936</th>\n",
              "      <td>937</td>\n",
              "      <td>48</td>\n",
              "      <td>M</td>\n",
              "      <td>educator</td>\n",
              "      <td>98072</td>\n",
              "    </tr>\n",
              "    <tr>\n",
              "      <th>937</th>\n",
              "      <td>938</td>\n",
              "      <td>38</td>\n",
              "      <td>F</td>\n",
              "      <td>technician</td>\n",
              "      <td>55038</td>\n",
              "    </tr>\n",
              "    <tr>\n",
              "      <th>938</th>\n",
              "      <td>939</td>\n",
              "      <td>26</td>\n",
              "      <td>F</td>\n",
              "      <td>student</td>\n",
              "      <td>33319</td>\n",
              "    </tr>\n",
              "    <tr>\n",
              "      <th>939</th>\n",
              "      <td>940</td>\n",
              "      <td>32</td>\n",
              "      <td>M</td>\n",
              "      <td>administrator</td>\n",
              "      <td>02215</td>\n",
              "    </tr>\n",
              "    <tr>\n",
              "      <th>940</th>\n",
              "      <td>941</td>\n",
              "      <td>20</td>\n",
              "      <td>M</td>\n",
              "      <td>student</td>\n",
              "      <td>97229</td>\n",
              "    </tr>\n",
              "    <tr>\n",
              "      <th>941</th>\n",
              "      <td>942</td>\n",
              "      <td>48</td>\n",
              "      <td>F</td>\n",
              "      <td>librarian</td>\n",
              "      <td>78209</td>\n",
              "    </tr>\n",
              "    <tr>\n",
              "      <th>942</th>\n",
              "      <td>943</td>\n",
              "      <td>22</td>\n",
              "      <td>M</td>\n",
              "      <td>student</td>\n",
              "      <td>77841</td>\n",
              "    </tr>\n",
              "  </tbody>\n",
              "</table>\n",
              "<p>943 rows × 5 columns</p>\n",
              "</div>"
            ],
            "text/plain": [
              "     user_id  age gender     occupation zip_code\n",
              "0          1   24      M     technician    85711\n",
              "1          2   53      F          other    94043\n",
              "2          3   23      M         writer    32067\n",
              "3          4   24      M     technician    43537\n",
              "4          5   33      F          other    15213\n",
              "5          6   42      M      executive    98101\n",
              "6          7   57      M  administrator    91344\n",
              "7          8   36      M  administrator    05201\n",
              "8          9   29      M        student    01002\n",
              "9         10   53      M         lawyer    90703\n",
              "10        11   39      F          other    30329\n",
              "11        12   28      F          other    06405\n",
              "12        13   47      M       educator    29206\n",
              "13        14   45      M      scientist    55106\n",
              "14        15   49      F       educator    97301\n",
              "15        16   21      M  entertainment    10309\n",
              "16        17   30      M     programmer    06355\n",
              "17        18   35      F          other    37212\n",
              "18        19   40      M      librarian    02138\n",
              "19        20   42      F      homemaker    95660\n",
              "20        21   26      M         writer    30068\n",
              "21        22   25      M         writer    40206\n",
              "22        23   30      F         artist    48197\n",
              "23        24   21      F         artist    94533\n",
              "24        25   39      M       engineer    55107\n",
              "25        26   49      M       engineer    21044\n",
              "26        27   40      F      librarian    30030\n",
              "27        28   32      M         writer    55369\n",
              "28        29   41      M     programmer    94043\n",
              "29        30    7      M        student    55436\n",
              "..       ...  ...    ...            ...      ...\n",
              "913      914   44      F          other    08105\n",
              "914      915   50      M  entertainment    60614\n",
              "915      916   27      M       engineer    N2L5N\n",
              "916      917   22      F        student    20006\n",
              "917      918   40      M      scientist    70116\n",
              "918      919   25      M          other    14216\n",
              "919      920   30      F         artist    90008\n",
              "920      921   20      F        student    98801\n",
              "921      922   29      F  administrator    21114\n",
              "922      923   21      M        student    E2E3R\n",
              "923      924   29      M          other    11753\n",
              "924      925   18      F       salesman    49036\n",
              "925      926   49      M  entertainment    01701\n",
              "926      927   23      M     programmer    55428\n",
              "927      928   21      M        student    55408\n",
              "928      929   44      M      scientist    53711\n",
              "929      930   28      F      scientist    07310\n",
              "930      931   60      M       educator    33556\n",
              "931      932   58      M       educator    06437\n",
              "932      933   28      M        student    48105\n",
              "933      934   61      M       engineer    22902\n",
              "934      935   42      M         doctor    66221\n",
              "935      936   24      M          other    32789\n",
              "936      937   48      M       educator    98072\n",
              "937      938   38      F     technician    55038\n",
              "938      939   26      F        student    33319\n",
              "939      940   32      M  administrator    02215\n",
              "940      941   20      M        student    97229\n",
              "941      942   48      F      librarian    78209\n",
              "942      943   22      M        student    77841\n",
              "\n",
              "[943 rows x 5 columns]"
            ]
          },
          "metadata": {
            "tags": []
          },
          "execution_count": 305
        }
      ]
    },
    {
      "cell_type": "code",
      "metadata": {
        "id": "XMM0gFH3wTj6",
        "colab_type": "code",
        "colab": {}
      },
      "source": [
        "y=pd"
      ],
      "execution_count": 0,
      "outputs": []
    },
    {
      "cell_type": "code",
      "metadata": {
        "id": "_T0rF_Memc7X",
        "colab_type": "code",
        "outputId": "2093c1c4-6bee-4480-cb7d-1ce5d042017b",
        "colab": {
          "base_uri": "https://localhost:8080/",
          "height": 356
        }
      },
      "source": [
        "from tkinter import *\n",
        " \n",
        "root = Tk()\n",
        "topFrame = Frame(root)\n",
        "topFrame.pack(side=TOP)\n",
        " \n",
        "middleFrame = Frame(root)\n",
        "middleFrame.pack(side=RIGHT)\n",
        " \n",
        "bottomFrame = Frame(root, bg=\"green\")\n",
        "bottomFrame.pack(side=BOTTOM)\n",
        " \n",
        "topFrame_Label = Label(topFrame, text=\"Welcome to Python GUI(Top Frame)\")\n",
        "topFrame_Label.pack()\n",
        " \n",
        "middleFrame_Label = Label(middleFrame, text=\"Welcome to Python GUI(Middle Frame)\")\n",
        "middleFrame_Label.pack()\n",
        " \n",
        "bottomFrame_Label = Label(bottomFrame, text=\"Welcome to Python GUI(Bottom Frame)\")\n",
        "bottomFrame_Label.pack()\n",
        "theButton = Button(bottomFrame, text=\"Button\", fg=\"red\", bg=\"black\")\n",
        "theButton.pack()\n",
        "root.minsize(400, 400)\n",
        "root.mainloop()"
      ],
      "execution_count": 0,
      "outputs": [
        {
          "output_type": "error",
          "ename": "TclError",
          "evalue": "ignored",
          "traceback": [
            "\u001b[0;31m---------------------------------------------------------------------------\u001b[0m",
            "\u001b[0;31mTclError\u001b[0m                                  Traceback (most recent call last)",
            "\u001b[0;32m<ipython-input-286-9f2632de5a19>\u001b[0m in \u001b[0;36m<module>\u001b[0;34m()\u001b[0m\n\u001b[1;32m      1\u001b[0m \u001b[0;32mfrom\u001b[0m \u001b[0mtkinter\u001b[0m \u001b[0;32mimport\u001b[0m \u001b[0;34m*\u001b[0m\u001b[0;34m\u001b[0m\u001b[0;34m\u001b[0m\u001b[0m\n\u001b[1;32m      2\u001b[0m \u001b[0;34m\u001b[0m\u001b[0m\n\u001b[0;32m----> 3\u001b[0;31m \u001b[0mroot\u001b[0m \u001b[0;34m=\u001b[0m \u001b[0mTk\u001b[0m\u001b[0;34m(\u001b[0m\u001b[0;34m)\u001b[0m\u001b[0;34m\u001b[0m\u001b[0;34m\u001b[0m\u001b[0m\n\u001b[0m\u001b[1;32m      4\u001b[0m \u001b[0mtopFrame\u001b[0m \u001b[0;34m=\u001b[0m \u001b[0mFrame\u001b[0m\u001b[0;34m(\u001b[0m\u001b[0mroot\u001b[0m\u001b[0;34m)\u001b[0m\u001b[0;34m\u001b[0m\u001b[0;34m\u001b[0m\u001b[0m\n\u001b[1;32m      5\u001b[0m \u001b[0mtopFrame\u001b[0m\u001b[0;34m.\u001b[0m\u001b[0mpack\u001b[0m\u001b[0;34m(\u001b[0m\u001b[0mside\u001b[0m\u001b[0;34m=\u001b[0m\u001b[0mTOP\u001b[0m\u001b[0;34m)\u001b[0m\u001b[0;34m\u001b[0m\u001b[0;34m\u001b[0m\u001b[0m\n",
            "\u001b[0;32m/usr/lib/python3.6/tkinter/__init__.py\u001b[0m in \u001b[0;36m__init__\u001b[0;34m(self, screenName, baseName, className, useTk, sync, use)\u001b[0m\n\u001b[1;32m   2021\u001b[0m                 \u001b[0mbaseName\u001b[0m \u001b[0;34m=\u001b[0m \u001b[0mbaseName\u001b[0m \u001b[0;34m+\u001b[0m \u001b[0mext\u001b[0m\u001b[0;34m\u001b[0m\u001b[0;34m\u001b[0m\u001b[0m\n\u001b[1;32m   2022\u001b[0m         \u001b[0minteractive\u001b[0m \u001b[0;34m=\u001b[0m \u001b[0;36m0\u001b[0m\u001b[0;34m\u001b[0m\u001b[0;34m\u001b[0m\u001b[0m\n\u001b[0;32m-> 2023\u001b[0;31m         \u001b[0mself\u001b[0m\u001b[0;34m.\u001b[0m\u001b[0mtk\u001b[0m \u001b[0;34m=\u001b[0m \u001b[0m_tkinter\u001b[0m\u001b[0;34m.\u001b[0m\u001b[0mcreate\u001b[0m\u001b[0;34m(\u001b[0m\u001b[0mscreenName\u001b[0m\u001b[0;34m,\u001b[0m \u001b[0mbaseName\u001b[0m\u001b[0;34m,\u001b[0m \u001b[0mclassName\u001b[0m\u001b[0;34m,\u001b[0m \u001b[0minteractive\u001b[0m\u001b[0;34m,\u001b[0m \u001b[0mwantobjects\u001b[0m\u001b[0;34m,\u001b[0m \u001b[0museTk\u001b[0m\u001b[0;34m,\u001b[0m \u001b[0msync\u001b[0m\u001b[0;34m,\u001b[0m \u001b[0muse\u001b[0m\u001b[0;34m)\u001b[0m\u001b[0;34m\u001b[0m\u001b[0;34m\u001b[0m\u001b[0m\n\u001b[0m\u001b[1;32m   2024\u001b[0m         \u001b[0;32mif\u001b[0m \u001b[0museTk\u001b[0m\u001b[0;34m:\u001b[0m\u001b[0;34m\u001b[0m\u001b[0;34m\u001b[0m\u001b[0m\n\u001b[1;32m   2025\u001b[0m             \u001b[0mself\u001b[0m\u001b[0;34m.\u001b[0m\u001b[0m_loadtk\u001b[0m\u001b[0;34m(\u001b[0m\u001b[0;34m)\u001b[0m\u001b[0;34m\u001b[0m\u001b[0;34m\u001b[0m\u001b[0m\n",
            "\u001b[0;31mTclError\u001b[0m: no display name and no $DISPLAY environment variable"
          ]
        }
      ]
    }
  ]
}